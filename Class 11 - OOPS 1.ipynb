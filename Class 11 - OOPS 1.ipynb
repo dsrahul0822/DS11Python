{
 "cells": [
  {
   "cell_type": "markdown",
   "id": "69f8e881",
   "metadata": {},
   "source": [
    "# Object Oriented Programming Language "
   ]
  },
  {
   "cell_type": "markdown",
   "id": "692cb2fd",
   "metadata": {},
   "source": [
    "Functional Programming \n",
    "\n",
    "Object Oriented Programming"
   ]
  },
  {
   "cell_type": "code",
   "execution_count": 1,
   "id": "2d0bfef5",
   "metadata": {},
   "outputs": [],
   "source": [
    "def celtofer(c):\n",
    "    f = (c*9/5)+32\n",
    "    return f"
   ]
  },
  {
   "cell_type": "code",
   "execution_count": 2,
   "id": "3ed55e36",
   "metadata": {},
   "outputs": [
    {
     "data": {
      "text/plain": [
       "50.0"
      ]
     },
     "execution_count": 2,
     "metadata": {},
     "output_type": "execute_result"
    }
   ],
   "source": [
    "celtofer(10)"
   ]
  },
  {
   "cell_type": "code",
   "execution_count": 13,
   "id": "316cf6f6",
   "metadata": {},
   "outputs": [],
   "source": [
    "class CeltoFer:\n",
    "    def __init__(self,c):\n",
    "        self.c = c\n",
    "    def ctof(self):\n",
    "        f = (self.c*9/5) + 32\n",
    "        return f"
   ]
  },
  {
   "cell_type": "code",
   "execution_count": 14,
   "id": "be58645b",
   "metadata": {},
   "outputs": [
    {
     "data": {
      "text/plain": [
       "50.0"
      ]
     },
     "execution_count": 14,
     "metadata": {},
     "output_type": "execute_result"
    }
   ],
   "source": [
    "c1 = CeltoFer(10)\n",
    "c1.ctof()\n"
   ]
  },
  {
   "cell_type": "code",
   "execution_count": 15,
   "id": "e5701107",
   "metadata": {},
   "outputs": [
    {
     "data": {
      "text/plain": [
       "<__main__.CeltoFer at 0x2125747bc90>"
      ]
     },
     "execution_count": 15,
     "metadata": {},
     "output_type": "execute_result"
    }
   ],
   "source": [
    "c1"
   ]
  },
  {
   "cell_type": "code",
   "execution_count": 16,
   "id": "1cca979b",
   "metadata": {},
   "outputs": [
    {
     "data": {
      "text/plain": [
       "68.0"
      ]
     },
     "execution_count": 16,
     "metadata": {},
     "output_type": "execute_result"
    }
   ],
   "source": [
    "c2 = CeltoFer(20)\n",
    "c2.ctof()"
   ]
  },
  {
   "cell_type": "code",
   "execution_count": 10,
   "id": "b44008ce",
   "metadata": {},
   "outputs": [
    {
     "data": {
      "text/plain": [
       "<__main__.CeltoFer at 0x212574bb9d0>"
      ]
     },
     "execution_count": 10,
     "metadata": {},
     "output_type": "execute_result"
    }
   ],
   "source": [
    "c2"
   ]
  },
  {
   "cell_type": "code",
   "execution_count": 5,
   "id": "d261e9f0",
   "metadata": {},
   "outputs": [
    {
     "name": "stdout",
     "output_type": "stream",
     "text": [
      "<class 'list'>\n"
     ]
    }
   ],
   "source": [
    "list1 = [1,2,3,4]\n",
    "print(type(list1))"
   ]
  },
  {
   "cell_type": "code",
   "execution_count": 54,
   "id": "71c74459",
   "metadata": {},
   "outputs": [],
   "source": [
    "class Employee:\n",
    "    company = 'The Scholar'\n",
    "    def __init__(self, eid,efname,elname,esalary,elocation):\n",
    "        self.eid = eid\n",
    "        self.efname = efname\n",
    "        self.elname = elname\n",
    "        self.esalary = esalary\n",
    "        self.elocation = elocation\n",
    "    \n",
    "        \n",
    "    def display(self):\n",
    "        print('Your employee id is:', self.eid)\n",
    "        print('Your name is:', self.efname+' '+self.elname)\n",
    "        print('Your salary is:', self.esalary)\n",
    "        print('Your location is:', self.elocation)\n",
    "        print('Your company name is: ', Employee.company)\n",
    "        \n",
    "    def tax_calc(self):\n",
    "        if self.esalary<=2500:\n",
    "            print('Your total tax is: ', self.esalary*0)\n",
    "        elif self.esalary>2500 and self.esalary<=5000:\n",
    "            print('Your total tax is: ', self.esalary*0.05)\n",
    "        elif self.esalary>5000 and self.esalary<=10000:\n",
    "            print('Your total tax is: ', self.esalary*0.10)\n",
    "        else:\n",
    "            print('Your total tax is: ', self.esalary*0.15)\n",
    "            \n",
    "    def bonus_calc(self):\n",
    "        if self.elocation=='Delhi':\n",
    "            print('The bonus you will get is: ', 0.5*self.esalary)\n",
    "        else:\n",
    "            print('There will not be any bonus')\n",
    "            \n",
    "    def hike_calc(self):\n",
    "        hike = 0.30\n",
    "        if self.esalary<5000:\n",
    "            print('Your total hike is: ', self.esalary+self.esalary*hike)\n",
    "        else:\n",
    "            print('Your total hike is: ', self.esalary)"
   ]
  },
  {
   "cell_type": "code",
   "execution_count": 52,
   "id": "3cb09cd0",
   "metadata": {},
   "outputs": [
    {
     "name": "stdout",
     "output_type": "stream",
     "text": [
      "Your total tax is:  225.0\n",
      "The bonus you will get is:  2250.0\n",
      "Your total hike is:  5850.0\n"
     ]
    }
   ],
   "source": [
    "emp1 = Employee(1,'Rahul','Tiwari',4500,'Delhi','Accenture')\n",
    "emp1.tax_calc()\n",
    "emp1.bonus_calc()\n",
    "emp1.hike_calc()"
   ]
  },
  {
   "cell_type": "code",
   "execution_count": 53,
   "id": "895c8404",
   "metadata": {},
   "outputs": [
    {
     "name": "stdout",
     "output_type": "stream",
     "text": [
      "Your employee id is: 2\n",
      "Your name is: Atharv Tiwari\n",
      "Your salary is: 15000\n",
      "Your location is: Gurgaon\n",
      "Your company name is:  Deloitte\n",
      "Your company name is:  The Scholar\n"
     ]
    },
    {
     "ename": "NameError",
     "evalue": "name 'hike' is not defined",
     "output_type": "error",
     "traceback": [
      "\u001b[1;31m---------------------------------------------------------------------------\u001b[0m",
      "\u001b[1;31mNameError\u001b[0m                                 Traceback (most recent call last)",
      "Cell \u001b[1;32mIn[53], line 2\u001b[0m\n\u001b[0;32m      1\u001b[0m emp2 \u001b[38;5;241m=\u001b[39m Employee(\u001b[38;5;241m2\u001b[39m,\u001b[38;5;124m'\u001b[39m\u001b[38;5;124mAtharv\u001b[39m\u001b[38;5;124m'\u001b[39m,\u001b[38;5;124m'\u001b[39m\u001b[38;5;124mTiwari\u001b[39m\u001b[38;5;124m'\u001b[39m,\u001b[38;5;241m15000\u001b[39m,\u001b[38;5;124m'\u001b[39m\u001b[38;5;124mGurgaon\u001b[39m\u001b[38;5;124m'\u001b[39m,\u001b[38;5;124m'\u001b[39m\u001b[38;5;124mDeloitte\u001b[39m\u001b[38;5;124m'\u001b[39m)\n\u001b[1;32m----> 2\u001b[0m emp2\u001b[38;5;241m.\u001b[39mdisplay()\n\u001b[0;32m      3\u001b[0m emp2\u001b[38;5;241m.\u001b[39mtax_calc()\n\u001b[0;32m      4\u001b[0m emp2\u001b[38;5;241m.\u001b[39mbonus_calc()\n",
      "Cell \u001b[1;32mIn[51], line 18\u001b[0m, in \u001b[0;36mEmployee.display\u001b[1;34m(self)\u001b[0m\n\u001b[0;32m     16\u001b[0m \u001b[38;5;28mprint\u001b[39m(\u001b[38;5;124m'\u001b[39m\u001b[38;5;124mYour company name is: \u001b[39m\u001b[38;5;124m'\u001b[39m, \u001b[38;5;28mself\u001b[39m\u001b[38;5;241m.\u001b[39mcompany)\n\u001b[0;32m     17\u001b[0m \u001b[38;5;28mprint\u001b[39m(\u001b[38;5;124m'\u001b[39m\u001b[38;5;124mYour company name is: \u001b[39m\u001b[38;5;124m'\u001b[39m, Employee\u001b[38;5;241m.\u001b[39mcompany)\n\u001b[1;32m---> 18\u001b[0m \u001b[38;5;28mprint\u001b[39m(\u001b[38;5;124m'\u001b[39m\u001b[38;5;124mYour hike is: \u001b[39m\u001b[38;5;124m'\u001b[39m, hike)\n",
      "\u001b[1;31mNameError\u001b[0m: name 'hike' is not defined"
     ]
    }
   ],
   "source": [
    "emp2 = Employee(2,'Atharv','Tiwari',15000,'Gurgaon','Deloitte')\n",
    "emp2.display()\n",
    "emp2.tax_calc()\n",
    "emp2.bonus_calc()\n",
    "emp2.hike_calc()"
   ]
  },
  {
   "cell_type": "markdown",
   "id": "49f1642b",
   "metadata": {},
   "source": [
    "*eid, efname,elname,elocation,esalary - Instance variables / Object level variable*"
   ]
  },
  {
   "cell_type": "markdown",
   "id": "c9cfef4b",
   "metadata": {},
   "source": [
    "*company - Static variable / Class level variable*"
   ]
  },
  {
   "cell_type": "markdown",
   "id": "96d16147",
   "metadata": {},
   "source": [
    "*hike - Local variable it is local to the method, method level variable*"
   ]
  },
  {
   "cell_type": "code",
   "execution_count": 55,
   "id": "67729dd2",
   "metadata": {},
   "outputs": [],
   "source": [
    "list_employees = [(1,'A','B',10000,'Delhi'),\n",
    "                  (2,'X','C',13000,'Noida'),\n",
    "                  (3,'Y','D',14000,'Gurgaon'),\n",
    "                  (4,'Z','E',15000,'Mumbai'),\n",
    "                  (5,'P','F',16000,'Delhi'),\n",
    "                  (6,'Q','G',17000,'Chennai')]"
   ]
  },
  {
   "cell_type": "code",
   "execution_count": 62,
   "id": "7b23b5eb",
   "metadata": {},
   "outputs": [
    {
     "name": "stdout",
     "output_type": "stream",
     "text": [
      "Your employee id is: 1\n",
      "Your name is: A B\n",
      "Your salary is: 10000\n",
      "Your location is: Delhi\n",
      "Your company name is:  The Scholar\n",
      "Your total tax is:  1000.0\n",
      "The bonus you will get is:  5000.0\n",
      "Your total hike is:  10000\n",
      "-------------------\n",
      "Your employee id is: 2\n",
      "Your name is: X C\n",
      "Your salary is: 13000\n",
      "Your location is: Noida\n",
      "Your company name is:  The Scholar\n",
      "Your total tax is:  1950.0\n",
      "There will not be any bonus\n",
      "Your total hike is:  13000\n",
      "-------------------\n",
      "Your employee id is: 3\n",
      "Your name is: Y D\n",
      "Your salary is: 14000\n",
      "Your location is: Gurgaon\n",
      "Your company name is:  The Scholar\n",
      "Your total tax is:  2100.0\n",
      "There will not be any bonus\n",
      "Your total hike is:  14000\n",
      "-------------------\n",
      "Your employee id is: 4\n",
      "Your name is: Z E\n",
      "Your salary is: 15000\n",
      "Your location is: Mumbai\n",
      "Your company name is:  The Scholar\n",
      "Your total tax is:  2250.0\n",
      "There will not be any bonus\n",
      "Your total hike is:  15000\n",
      "-------------------\n",
      "Your employee id is: 5\n",
      "Your name is: P F\n",
      "Your salary is: 16000\n",
      "Your location is: Delhi\n",
      "Your company name is:  The Scholar\n",
      "Your total tax is:  2400.0\n",
      "The bonus you will get is:  8000.0\n",
      "Your total hike is:  16000\n",
      "-------------------\n",
      "Your employee id is: 6\n",
      "Your name is: Q G\n",
      "Your salary is: 17000\n",
      "Your location is: Chennai\n",
      "Your company name is:  The Scholar\n",
      "Your total tax is:  2550.0\n",
      "There will not be any bonus\n",
      "Your total hike is:  17000\n",
      "-------------------\n"
     ]
    }
   ],
   "source": [
    "for i in list_employees:\n",
    "    emp = Employee(*i)\n",
    "    emp.display()\n",
    "    emp.tax_calc()\n",
    "    emp.bonus_calc()\n",
    "    emp.hike_calc()\n",
    "    print('-------------------')"
   ]
  }
 ],
 "metadata": {
  "kernelspec": {
   "display_name": "Python 3 (ipykernel)",
   "language": "python",
   "name": "python3"
  },
  "language_info": {
   "codemirror_mode": {
    "name": "ipython",
    "version": 3
   },
   "file_extension": ".py",
   "mimetype": "text/x-python",
   "name": "python",
   "nbconvert_exporter": "python",
   "pygments_lexer": "ipython3",
   "version": "3.11.5"
  }
 },
 "nbformat": 4,
 "nbformat_minor": 5
}

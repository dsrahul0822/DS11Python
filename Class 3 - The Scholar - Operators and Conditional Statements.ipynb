{
 "cells": [
  {
   "cell_type": "code",
   "execution_count": null,
   "id": "6dd288db",
   "metadata": {},
   "outputs": [],
   "source": [
    "Range()\n",
    "\n",
    "NoneType \n",
    "\n",
    "Operators in Python\n",
    "\n",
    "Input and Output Statement \n",
    "\n",
    "Conditional statements\n",
    "\n",
    "    if else \n",
    "    for Loops \n",
    "    While Loops "
   ]
  },
  {
   "cell_type": "code",
   "execution_count": 11,
   "id": "c94c2aa5",
   "metadata": {},
   "outputs": [
    {
     "data": {
      "text/plain": [
       "[15, 17]"
      ]
     },
     "execution_count": 11,
     "metadata": {},
     "output_type": "execute_result"
    }
   ],
   "source": [
    "list(range(15,19,2))"
   ]
  },
  {
   "cell_type": "code",
   "execution_count": 12,
   "id": "b381e572",
   "metadata": {},
   "outputs": [],
   "source": [
    "a = None"
   ]
  },
  {
   "cell_type": "code",
   "execution_count": 14,
   "id": "f8b14506",
   "metadata": {},
   "outputs": [
    {
     "data": {
      "text/plain": [
       "NoneType"
      ]
     },
     "execution_count": 14,
     "metadata": {},
     "output_type": "execute_result"
    }
   ],
   "source": [
    "type(a)"
   ]
  },
  {
   "cell_type": "code",
   "execution_count": null,
   "id": "fc47618a",
   "metadata": {},
   "outputs": [],
   "source": [
    "Operators in Python \n",
    "\n",
    "Arithmatic\n",
    "Relational Operators / Comparision Operators \n",
    "Logical Operators \n",
    "Equality Operators \n",
    "Ternary Operators \n",
    "Assignment Operators \n",
    "Special Operators"
   ]
  },
  {
   "cell_type": "code",
   "execution_count": null,
   "id": "f23d20d9",
   "metadata": {},
   "outputs": [],
   "source": [
    "+\n",
    "-\n",
    "*\n",
    "/\n",
    "%\n",
    "//\n",
    "**"
   ]
  },
  {
   "cell_type": "code",
   "execution_count": 27,
   "id": "1ca557cd",
   "metadata": {},
   "outputs": [
    {
     "name": "stdout",
     "output_type": "stream",
     "text": [
      "15\n",
      "5\n",
      "50\n",
      "2.0\n",
      "0\n",
      "2\n",
      "100000\n"
     ]
    }
   ],
   "source": [
    "a = 10 \n",
    "b = 5\n",
    "print(a+b)\n",
    "print(a-b)\n",
    "print(a*b)\n",
    "print(a/b)\n",
    "print(a%b)\n",
    "print(a//b)\n",
    "print(a**b)"
   ]
  },
  {
   "cell_type": "code",
   "execution_count": 18,
   "id": "a0e165ae",
   "metadata": {},
   "outputs": [
    {
     "data": {
      "text/plain": [
       "7"
      ]
     },
     "execution_count": 18,
     "metadata": {},
     "output_type": "execute_result"
    }
   ],
   "source": [
    "a+b\n",
    "a-b"
   ]
  },
  {
   "cell_type": "code",
   "execution_count": 31,
   "id": "e6feb6f2",
   "metadata": {},
   "outputs": [
    {
     "data": {
      "text/plain": [
       "20"
      ]
     },
     "execution_count": 31,
     "metadata": {},
     "output_type": "execute_result"
    }
   ],
   "source": [
    "int('10') + 10"
   ]
  },
  {
   "cell_type": "code",
   "execution_count": 34,
   "id": "175a8f9e",
   "metadata": {},
   "outputs": [
    {
     "name": "stdout",
     "output_type": "stream",
     "text": [
      "True\n",
      "False\n",
      "True\n",
      "False\n"
     ]
    }
   ],
   "source": [
    "a = 10 \n",
    "b = 20 \n",
    "print(a<b)\n",
    "print(a>b)\n",
    "print(a<=b)\n",
    "print(a>=b)"
   ]
  },
  {
   "cell_type": "code",
   "execution_count": 38,
   "id": "daeb2845",
   "metadata": {},
   "outputs": [
    {
     "name": "stdout",
     "output_type": "stream",
     "text": [
      "False\n",
      "True\n"
     ]
    }
   ],
   "source": [
    "a = 10 \n",
    "b = 20 \n",
    "print(a==b)\n",
    "print(a!=b)"
   ]
  },
  {
   "cell_type": "code",
   "execution_count": null,
   "id": "01959805",
   "metadata": {},
   "outputs": [],
   "source": [
    "and \n",
    "or \n",
    "not"
   ]
  },
  {
   "cell_type": "code",
   "execution_count": 41,
   "id": "3afcc0f8",
   "metadata": {},
   "outputs": [
    {
     "data": {
      "text/plain": [
       "True"
      ]
     },
     "execution_count": 41,
     "metadata": {},
     "output_type": "execute_result"
    }
   ],
   "source": [
    "a = 10\n",
    "b = 20 \n",
    "c = 130\n",
    "d = 40\n",
    "\n",
    "(a<b) or (c<d)"
   ]
  },
  {
   "cell_type": "code",
   "execution_count": 49,
   "id": "006752dc",
   "metadata": {},
   "outputs": [
    {
     "data": {
      "text/plain": [
       "30"
      ]
     },
     "execution_count": 49,
     "metadata": {},
     "output_type": "execute_result"
    }
   ],
   "source": [
    "a = 10\n",
    "a+=20\n",
    "a"
   ]
  },
  {
   "cell_type": "code",
   "execution_count": null,
   "id": "6e76a193",
   "metadata": {},
   "outputs": [],
   "source": [
    "+=\n",
    "-=\n",
    "/=\n",
    "*=\n",
    "//=\n",
    "%=\n",
    "**="
   ]
  },
  {
   "cell_type": "code",
   "execution_count": 50,
   "id": "8a7d76c9",
   "metadata": {},
   "outputs": [
    {
     "data": {
      "text/plain": [
       "40"
      ]
     },
     "execution_count": 50,
     "metadata": {},
     "output_type": "execute_result"
    }
   ],
   "source": [
    "x = 30 if 10>20 else 40\n",
    "x"
   ]
  },
  {
   "cell_type": "code",
   "execution_count": 51,
   "id": "9402e31a",
   "metadata": {},
   "outputs": [
    {
     "data": {
      "text/plain": [
       "5"
      ]
     },
     "execution_count": 51,
     "metadata": {},
     "output_type": "execute_result"
    }
   ],
   "source": [
    "a = 7\n",
    "b = 4\n",
    "c = 5\n",
    "\n",
    "x = a if a>b>c else b if b>c else c\n",
    "x"
   ]
  },
  {
   "cell_type": "code",
   "execution_count": 52,
   "id": "a48d6eb6",
   "metadata": {},
   "outputs": [
    {
     "data": {
      "text/plain": [
       "7"
      ]
     },
     "execution_count": 52,
     "metadata": {},
     "output_type": "execute_result"
    }
   ],
   "source": [
    "a = 7\n",
    "b = 4\n",
    "c = 5\n",
    "\n",
    "x = a if a>b and a>c else b if b>c else c\n",
    "x"
   ]
  },
  {
   "cell_type": "code",
   "execution_count": 53,
   "id": "fa2cd1f8",
   "metadata": {},
   "outputs": [],
   "source": [
    "#Identity Operators \n",
    "    #is\n",
    "    #is not\n",
    "#Membership Operators \n",
    "    #in\n",
    "    #not in"
   ]
  },
  {
   "cell_type": "code",
   "execution_count": 75,
   "id": "37230d29",
   "metadata": {},
   "outputs": [
    {
     "data": {
      "text/plain": [
       "True"
      ]
     },
     "execution_count": 75,
     "metadata": {},
     "output_type": "execute_result"
    }
   ],
   "source": [
    "a = 255.5\n",
    "b = 255.5\n",
    "a is not b"
   ]
  },
  {
   "cell_type": "code",
   "execution_count": 76,
   "id": "7a794fa7",
   "metadata": {},
   "outputs": [
    {
     "data": {
      "text/plain": [
       "1752979922288"
      ]
     },
     "execution_count": 76,
     "metadata": {},
     "output_type": "execute_result"
    }
   ],
   "source": [
    "id(a)"
   ]
  },
  {
   "cell_type": "code",
   "execution_count": 77,
   "id": "430dc8ff",
   "metadata": {},
   "outputs": [
    {
     "data": {
      "text/plain": [
       "1752965777296"
      ]
     },
     "execution_count": 77,
     "metadata": {},
     "output_type": "execute_result"
    }
   ],
   "source": [
    "id(b)"
   ]
  },
  {
   "cell_type": "code",
   "execution_count": 78,
   "id": "5f2339fe",
   "metadata": {},
   "outputs": [],
   "source": [
    "list1 = [10,20,30,40,50]"
   ]
  },
  {
   "cell_type": "code",
   "execution_count": 81,
   "id": "8246b393",
   "metadata": {},
   "outputs": [
    {
     "data": {
      "text/plain": [
       "True"
      ]
     },
     "execution_count": 81,
     "metadata": {},
     "output_type": "execute_result"
    }
   ],
   "source": [
    "100 not in list1"
   ]
  },
  {
   "cell_type": "code",
   "execution_count": 94,
   "id": "aee9cbec",
   "metadata": {},
   "outputs": [
    {
     "name": "stdout",
     "output_type": "stream",
     "text": [
      "Enter the age: True\n"
     ]
    }
   ],
   "source": [
    "age = bool(input('Enter the age: '))"
   ]
  },
  {
   "cell_type": "code",
   "execution_count": 95,
   "id": "ddba683c",
   "metadata": {},
   "outputs": [
    {
     "data": {
      "text/plain": [
       "bool"
      ]
     },
     "execution_count": 95,
     "metadata": {},
     "output_type": "execute_result"
    }
   ],
   "source": [
    "type(age)"
   ]
  },
  {
   "cell_type": "code",
   "execution_count": 96,
   "id": "f225c77c",
   "metadata": {},
   "outputs": [
    {
     "data": {
      "text/plain": [
       "True"
      ]
     },
     "execution_count": 96,
     "metadata": {},
     "output_type": "execute_result"
    }
   ],
   "source": [
    "age"
   ]
  },
  {
   "cell_type": "code",
   "execution_count": 89,
   "id": "6356ab78",
   "metadata": {},
   "outputs": [],
   "source": [
    "if age >100:\n",
    "    True"
   ]
  },
  {
   "cell_type": "code",
   "execution_count": 102,
   "id": "382ddc63",
   "metadata": {},
   "outputs": [
    {
     "name": "stdout",
     "output_type": "stream",
     "text": [
      "Hello\n",
      "\n",
      "Good Morning\n"
     ]
    }
   ],
   "source": [
    "print('Hello')\n",
    "print()\n",
    "print('Good Morning')"
   ]
  },
  {
   "cell_type": "code",
   "execution_count": 98,
   "id": "8edc6967",
   "metadata": {},
   "outputs": [
    {
     "name": "stdout",
     "output_type": "stream",
     "text": [
      "Hello \n",
      " \n",
      "Good Morning\n"
     ]
    }
   ],
   "source": [
    "print('Hello \\n \\nGood Morning')"
   ]
  },
  {
   "cell_type": "code",
   "execution_count": 105,
   "id": "8019f9bb",
   "metadata": {},
   "outputs": [
    {
     "name": "stdout",
     "output_type": "stream",
     "text": [
      "10*20*30\n"
     ]
    }
   ],
   "source": [
    "a = 10\n",
    "b = 20\n",
    "c = 30\n",
    "\n",
    "print(a,b,c,sep='*')"
   ]
  },
  {
   "cell_type": "code",
   "execution_count": null,
   "id": "d8ffc559",
   "metadata": {},
   "outputs": [],
   "source": [
    "Conditional Statements \n",
    "if and else "
   ]
  },
  {
   "cell_type": "code",
   "execution_count": 115,
   "id": "286fbb22",
   "metadata": {},
   "outputs": [
    {
     "name": "stdout",
     "output_type": "stream",
     "text": [
      "Enter the marks you got: 45\n",
      "You passed the exam\n",
      "Hi\n",
      "Hello\n"
     ]
    }
   ],
   "source": [
    "marks = int(input('Enter the marks you got: '))\n",
    "if marks>=40:\n",
    "    print('You passed the exam')\n",
    "    print('Hi')\n",
    "else:\n",
    "    print('You failed the exam')\n",
    "print('Hello')"
   ]
  },
  {
   "cell_type": "code",
   "execution_count": 118,
   "id": "a67f4055",
   "metadata": {},
   "outputs": [
    {
     "name": "stdout",
     "output_type": "stream",
     "text": [
      "Enter the marks you got: 65\n",
      "You got excellent marks\n"
     ]
    }
   ],
   "source": [
    "marks = int(input('Enter the marks you got: '))\n",
    "if marks<40:\n",
    "    print('You failed the exam')\n",
    "elif marks>40 and marks<=60:\n",
    "    print('You got the average marks')\n",
    "else:\n",
    "    print('You got excellent marks')"
   ]
  },
  {
   "cell_type": "markdown",
   "id": "75c688d3",
   "metadata": {},
   "source": [
    "Tax Calculator"
   ]
  },
  {
   "cell_type": "code",
   "execution_count": 123,
   "id": "d3250366",
   "metadata": {},
   "outputs": [
    {
     "name": "stdout",
     "output_type": "stream",
     "text": [
      "Enter the salary: 30000\n",
      "The total tax you will have to pay:  9000.0\n"
     ]
    }
   ],
   "source": [
    "salary = int(input('Enter the salary: '))\n",
    "if salary<=2500:\n",
    "    print('The total tax you will have to pay: ', salary*0)\n",
    "elif salary>2500 and salary<=5000:\n",
    "    print('The total tax you will have to pay: ', salary*0.05)\n",
    "elif salary>5000 and salary<=10000:\n",
    "    print('The total tax you will have to pay: ', salary*0.10)\n",
    "elif salary>10000 and salary<=20000:\n",
    "    print('The total tax you will have to pay: ', salary*0.20)\n",
    "else:\n",
    "    print('The total tax you will have to pay: ', salary*0.30)"
   ]
  },
  {
   "cell_type": "markdown",
   "id": "d635538a",
   "metadata": {},
   "source": [
    "# The End"
   ]
  }
 ],
 "metadata": {
  "kernelspec": {
   "display_name": "Python 3 (ipykernel)",
   "language": "python",
   "name": "python3"
  },
  "language_info": {
   "codemirror_mode": {
    "name": "ipython",
    "version": 3
   },
   "file_extension": ".py",
   "mimetype": "text/x-python",
   "name": "python",
   "nbconvert_exporter": "python",
   "pygments_lexer": "ipython3",
   "version": "3.11.5"
  }
 },
 "nbformat": 4,
 "nbformat_minor": 5
}

{
 "cells": [
  {
   "cell_type": "markdown",
   "id": "7af96370",
   "metadata": {},
   "source": [
    "# Sting Operations"
   ]
  },
  {
   "cell_type": "code",
   "execution_count": 12,
   "id": "339909f6",
   "metadata": {},
   "outputs": [
    {
     "name": "stdout",
     "output_type": "stream",
     "text": [
      "Enter the city: $Surat \n",
      "Your city Surat is present\n"
     ]
    }
   ],
   "source": [
    "cities = ['Surat','Ahmedabad','Delhi','Gurgaon','Chennai']\n",
    "city = input('Enter the city: ').strip().strip('$')\n",
    "\n",
    "if city in cities:\n",
    "    print('Your city', city, 'is present')\n",
    "else:\n",
    "    print('Your city', city, 'is not present')"
   ]
  },
  {
   "cell_type": "code",
   "execution_count": 15,
   "id": "8b952a30",
   "metadata": {},
   "outputs": [
    {
     "data": {
      "text/plain": [
       "-1"
      ]
     },
     "execution_count": 15,
     "metadata": {},
     "output_type": "execute_result"
    }
   ],
   "source": [
    "name = 'ICICI PRU LIFE'\n",
    "name.find('Z')"
   ]
  },
  {
   "cell_type": "code",
   "execution_count": 19,
   "id": "d61133b3",
   "metadata": {},
   "outputs": [
    {
     "data": {
      "text/plain": [
       "6"
      ]
     },
     "execution_count": 19,
     "metadata": {},
     "output_type": "execute_result"
    }
   ],
   "source": [
    "name.find('P',6,13)"
   ]
  },
  {
   "cell_type": "code",
   "execution_count": 22,
   "id": "3e10ccad",
   "metadata": {},
   "outputs": [
    {
     "data": {
      "text/plain": [
       "2"
      ]
     },
     "execution_count": 22,
     "metadata": {},
     "output_type": "execute_result"
    }
   ],
   "source": [
    "name.rfind('I',0,3)"
   ]
  },
  {
   "cell_type": "code",
   "execution_count": 23,
   "id": "6c4a6588",
   "metadata": {},
   "outputs": [
    {
     "data": {
      "text/plain": [
       "4"
      ]
     },
     "execution_count": 23,
     "metadata": {},
     "output_type": "execute_result"
    }
   ],
   "source": [
    "name.count('I')"
   ]
  },
  {
   "cell_type": "code",
   "execution_count": 24,
   "id": "3038f610",
   "metadata": {},
   "outputs": [
    {
     "data": {
      "text/plain": [
       "1"
      ]
     },
     "execution_count": 24,
     "metadata": {},
     "output_type": "execute_result"
    }
   ],
   "source": [
    "name.count('I',6,13)"
   ]
  },
  {
   "cell_type": "code",
   "execution_count": 25,
   "id": "aa4b953b",
   "metadata": {},
   "outputs": [
    {
     "data": {
      "text/plain": [
       "'ICICI PRU LIFE'"
      ]
     },
     "execution_count": 25,
     "metadata": {},
     "output_type": "execute_result"
    }
   ],
   "source": [
    "name"
   ]
  },
  {
   "cell_type": "code",
   "execution_count": 27,
   "id": "cfdccc49",
   "metadata": {},
   "outputs": [
    {
     "data": {
      "text/plain": [
       "'ICICI PROOOO LIFE'"
      ]
     },
     "execution_count": 27,
     "metadata": {},
     "output_type": "execute_result"
    }
   ],
   "source": [
    "name.replace('PRU','PROOOO')"
   ]
  },
  {
   "cell_type": "code",
   "execution_count": 29,
   "id": "0e3910f6",
   "metadata": {},
   "outputs": [
    {
     "data": {
      "text/plain": [
       "['ICICI', 'PRU', 'LIFE']"
      ]
     },
     "execution_count": 29,
     "metadata": {},
     "output_type": "execute_result"
    }
   ],
   "source": [
    "name.split(' ')"
   ]
  },
  {
   "cell_type": "code",
   "execution_count": 32,
   "id": "f2519b90",
   "metadata": {},
   "outputs": [
    {
     "data": {
      "text/plain": [
       "['ICICI', 'PRU LIFE']"
      ]
     },
     "execution_count": 32,
     "metadata": {},
     "output_type": "execute_result"
    }
   ],
   "source": [
    "name.split(' ',1)"
   ]
  },
  {
   "cell_type": "code",
   "execution_count": 30,
   "id": "938a07a8",
   "metadata": {},
   "outputs": [
    {
     "data": {
      "text/plain": [
       "'ICICI PRU LIFE'"
      ]
     },
     "execution_count": 30,
     "metadata": {},
     "output_type": "execute_result"
    }
   ],
   "source": [
    "name"
   ]
  },
  {
   "cell_type": "code",
   "execution_count": 34,
   "id": "119f65b8",
   "metadata": {},
   "outputs": [
    {
     "data": {
      "text/plain": [
       "'ICICI-PRU-LIFE'"
      ]
     },
     "execution_count": 34,
     "metadata": {},
     "output_type": "execute_result"
    }
   ],
   "source": [
    "list1 = ['ICICI', 'PRU', 'LIFE']\n",
    "'-'.join(list1)"
   ]
  },
  {
   "cell_type": "code",
   "execution_count": 39,
   "id": "c6b149d8",
   "metadata": {},
   "outputs": [
    {
     "name": "stdout",
     "output_type": "stream",
     "text": [
      "ICICI IS A NICE BANK WITH LOT OF EMPLOYEES\n",
      "icici is a nice bank with lot of employees\n",
      "icici iS A NICE BANK WITH LOT OF EMPLOYEES\n",
      "Icici Is A Nice Bank With Lot Of Employees\n",
      "Icici is a nice bank with lot of employees\n"
     ]
    }
   ],
   "source": [
    "data = 'ICICI Is a nice bank with lot of employees'\n",
    "print(data.upper())\n",
    "print(data.lower())\n",
    "print(data.swapcase())\n",
    "print(data.title())\n",
    "print(data.capitalize())"
   ]
  },
  {
   "cell_type": "code",
   "execution_count": 41,
   "id": "1e9b75fe",
   "metadata": {},
   "outputs": [
    {
     "name": "stdout",
     "output_type": "stream",
     "text": [
      "True\n"
     ]
    }
   ],
   "source": [
    "print(data.startswith('I'))"
   ]
  },
  {
   "cell_type": "code",
   "execution_count": 48,
   "id": "95e31da8",
   "metadata": {},
   "outputs": [
    {
     "data": {
      "text/plain": [
       "True"
      ]
     },
     "execution_count": 48,
     "metadata": {},
     "output_type": "execute_result"
    }
   ],
   "source": [
    "data.title().endswith('Employees')"
   ]
  },
  {
   "cell_type": "code",
   "execution_count": 49,
   "id": "03eb99df",
   "metadata": {},
   "outputs": [
    {
     "data": {
      "text/plain": [
       "'ICICI Is a nice bank with lot of employees'"
      ]
     },
     "execution_count": 49,
     "metadata": {},
     "output_type": "execute_result"
    }
   ],
   "source": [
    "data"
   ]
  },
  {
   "cell_type": "code",
   "execution_count": null,
   "id": "afb62677",
   "metadata": {},
   "outputs": [],
   "source": [
    "isalnum\n",
    "isalpha\n",
    "isnumeric\n",
    "isupper\n",
    "islower\n",
    "istitle\n",
    "isspace"
   ]
  },
  {
   "cell_type": "code",
   "execution_count": 55,
   "id": "4d6f2994",
   "metadata": {},
   "outputs": [
    {
     "name": "stdout",
     "output_type": "stream",
     "text": [
      "True\n",
      "False\n",
      "False\n"
     ]
    }
   ],
   "source": [
    "name = 'rahul123'\n",
    "print(name.isalnum())\n",
    "print(name.isalpha())\n",
    "print(name.isnumeric())"
   ]
  },
  {
   "cell_type": "code",
   "execution_count": 59,
   "id": "9fa3545c",
   "metadata": {},
   "outputs": [
    {
     "data": {
      "text/plain": [
       "True"
      ]
     },
     "execution_count": 59,
     "metadata": {},
     "output_type": "execute_result"
    }
   ],
   "source": [
    "name = 'Rahul'\n",
    "\n",
    "name.isupper()\n",
    "name.islower()\n",
    "name.istitle()"
   ]
  },
  {
   "cell_type": "code",
   "execution_count": 63,
   "id": "448869b3",
   "metadata": {},
   "outputs": [
    {
     "data": {
      "text/plain": [
       "True"
      ]
     },
     "execution_count": 63,
     "metadata": {},
     "output_type": "execute_result"
    }
   ],
   "source": [
    "name = 'Rahul Tiwari'\n",
    "name[5].isspace()"
   ]
  },
  {
   "cell_type": "code",
   "execution_count": 62,
   "id": "ca42fee9",
   "metadata": {},
   "outputs": [
    {
     "data": {
      "text/plain": [
       "True"
      ]
     },
     "execution_count": 62,
     "metadata": {},
     "output_type": "execute_result"
    }
   ],
   "source": [
    "name = '   '\n",
    "name.isspace()"
   ]
  },
  {
   "cell_type": "code",
   "execution_count": 64,
   "id": "9cd77b9f",
   "metadata": {},
   "outputs": [
    {
     "name": "stdout",
     "output_type": "stream",
     "text": [
      "The account number is valid\n",
      "The account number is valid\n",
      "The account number is valid\n",
      "The account number is invalid\n",
      "The account number is invalid\n"
     ]
    }
   ],
   "source": [
    "account_numbers = ['abc 123', 'xyz 321', 'pqr 456', 'zyx123', 'qwe321']\n",
    "for  i in account_numbers:\n",
    "    if i[3].isspace()==True:\n",
    "        print('The account number is valid')\n",
    "    else:\n",
    "        print('The account number is invalid')"
   ]
  },
  {
   "cell_type": "code",
   "execution_count": 67,
   "id": "6e50ab83",
   "metadata": {},
   "outputs": [
    {
     "name": "stdout",
     "output_type": "stream",
     "text": [
      "What are you looking for: l\n",
      "Found at index:  4\n",
      "Found at index:  6\n",
      "Found at index:  8\n"
     ]
    }
   ],
   "source": [
    "string = 'rahululul'\n",
    "lookingfor = input('What are you looking for: ')\n",
    "flag = False \n",
    "pos = -1\n",
    "n = len(string)\n",
    "while True:\n",
    "    pos = string.find(lookingfor, pos+1,n)\n",
    "    if pos==-1:\n",
    "        break\n",
    "    else:\n",
    "        print('Found at index: ', pos)\n",
    "        flag = True\n",
    "        \n",
    "if flag == False:\n",
    "    print('Not Found')"
   ]
  },
  {
   "cell_type": "markdown",
   "id": "2d45b556",
   "metadata": {},
   "source": [
    "# Assignment"
   ]
  },
  {
   "cell_type": "code",
   "execution_count": null,
   "id": "b9aefb20",
   "metadata": {},
   "outputs": [],
   "source": [
    "rahul\n",
    "01234\n",
    "\n",
    "024\n",
    "rhl\n",
    "\n",
    "13\n",
    "au"
   ]
  },
  {
   "cell_type": "code",
   "execution_count": null,
   "id": "c32ef515",
   "metadata": {},
   "outputs": [],
   "source": [
    "input: B4A1D3\n",
    "output: ABD134"
   ]
  },
  {
   "cell_type": "code",
   "execution_count": null,
   "id": "ff174f7a",
   "metadata": {},
   "outputs": [],
   "source": [
    "input: a4b3c2\n",
    "output: aaaabbbcc"
   ]
  },
  {
   "cell_type": "code",
   "execution_count": null,
   "id": "e03c6fbf",
   "metadata": {},
   "outputs": [],
   "source": [
    "input1: rahul\n",
    "input2: rohit\n",
    "    \n",
    "output: rraohhuilt"
   ]
  }
 ],
 "metadata": {
  "kernelspec": {
   "display_name": "Python 3 (ipykernel)",
   "language": "python",
   "name": "python3"
  },
  "language_info": {
   "codemirror_mode": {
    "name": "ipython",
    "version": 3
   },
   "file_extension": ".py",
   "mimetype": "text/x-python",
   "name": "python",
   "nbconvert_exporter": "python",
   "pygments_lexer": "ipython3",
   "version": "3.11.5"
  }
 },
 "nbformat": 4,
 "nbformat_minor": 5
}

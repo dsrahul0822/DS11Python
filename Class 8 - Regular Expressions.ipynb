{
 "cells": [
  {
   "cell_type": "markdown",
   "id": "8aba260d",
   "metadata": {},
   "source": [
    "# Regular Expressions"
   ]
  },
  {
   "cell_type": "code",
   "execution_count": 1,
   "id": "e4e13190",
   "metadata": {},
   "outputs": [],
   "source": [
    "import re"
   ]
  },
  {
   "cell_type": "markdown",
   "id": "d86bc3c3",
   "metadata": {},
   "source": [
    "https://docs.python.org/3/library/re.html"
   ]
  },
  {
   "cell_type": "code",
   "execution_count": null,
   "id": "14ccd0f2",
   "metadata": {},
   "outputs": [],
   "source": [
    "finditer()\n",
    "\n",
    "match()\n",
    "\n",
    "fullmatch()\n",
    "\n",
    "search()\n",
    "\n",
    "findall()\n",
    "\n",
    "sub()\n",
    "\n",
    "subn()\n",
    "\n",
    "split()"
   ]
  },
  {
   "cell_type": "code",
   "execution_count": null,
   "id": "53129c52",
   "metadata": {},
   "outputs": [],
   "source": [
    "finditer() - It finds the iteration of the characters \n",
    "\n",
    "[abc] - We are looking for either a or b or c \n",
    "\n",
    "[^abc] - We are looking for except a or b or c \n",
    "\n",
    "[a-z] - All the small characters \n",
    "\n",
    "[A-Z] - All the capital characters \n",
    "\n",
    "[a-zA-Z] - All the characters no matter it is caps or small \n",
    "\n",
    "[0-9] - Looking for numbers \n",
    "\n",
    "[a-zA-Z0-9] - All the numbers and alphabets \n",
    "\n",
    "[^a-zA-Z0-9] - All the special characters "
   ]
  },
  {
   "cell_type": "code",
   "execution_count": 3,
   "id": "0c162993",
   "metadata": {},
   "outputs": [
    {
     "name": "stdout",
     "output_type": "stream",
     "text": [
      "0 ... 1 ... a\n",
      "2 ... 3 ... b\n",
      "3 ... 4 ... a\n",
      "7 ... 8 ... c\n"
     ]
    }
   ],
   "source": [
    "string = 'a7ba@k c9zx'\n",
    "\n",
    "for i in re.finditer('[abc]', string):\n",
    "    print(i.start(), '...', i.end(), '...', i.group())"
   ]
  },
  {
   "cell_type": "code",
   "execution_count": 4,
   "id": "9ac1c26c",
   "metadata": {},
   "outputs": [
    {
     "name": "stdout",
     "output_type": "stream",
     "text": [
      "1 ... 2 ... 7\n",
      "4 ... 5 ... @\n",
      "5 ... 6 ... k\n",
      "6 ... 7 ...  \n",
      "8 ... 9 ... 9\n",
      "9 ... 10 ... z\n",
      "10 ... 11 ... x\n"
     ]
    }
   ],
   "source": [
    "string = 'a7ba@k c9zx'\n",
    "\n",
    "for i in re.finditer('[^abc]', string):\n",
    "    print(i.start(), '...', i.end(), '...', i.group())"
   ]
  },
  {
   "cell_type": "code",
   "execution_count": 5,
   "id": "e5cd1ceb",
   "metadata": {},
   "outputs": [
    {
     "name": "stdout",
     "output_type": "stream",
     "text": [
      "0 ... 1 ... a\n",
      "2 ... 3 ... b\n",
      "3 ... 4 ... a\n",
      "5 ... 6 ... k\n",
      "7 ... 8 ... c\n",
      "9 ... 10 ... z\n",
      "10 ... 11 ... x\n"
     ]
    }
   ],
   "source": [
    "string = 'a7ba@k c9zx'\n",
    "\n",
    "for i in re.finditer('[a-z]', string):\n",
    "    print(i.start(), '...', i.end(), '...', i.group())"
   ]
  },
  {
   "cell_type": "code",
   "execution_count": 7,
   "id": "765c0d79",
   "metadata": {},
   "outputs": [
    {
     "name": "stdout",
     "output_type": "stream",
     "text": [
      "9 ... 10 ... Z\n"
     ]
    }
   ],
   "source": [
    "string = 'a7ba@k c9Zx'\n",
    "\n",
    "for i in re.finditer('[A-Z]', string):\n",
    "    print(i.start(), '...', i.end(), '...', i.group())"
   ]
  },
  {
   "cell_type": "code",
   "execution_count": 9,
   "id": "a4c4653c",
   "metadata": {},
   "outputs": [
    {
     "name": "stdout",
     "output_type": "stream",
     "text": [
      "0 ... 1 ... a\n",
      "2 ... 3 ... b\n",
      "3 ... 4 ... a\n",
      "5 ... 6 ... k\n",
      "7 ... 8 ... c\n",
      "9 ... 10 ... Z\n",
      "10 ... 11 ... x\n"
     ]
    }
   ],
   "source": [
    "string = 'a7ba@k c9Zx'\n",
    "\n",
    "for i in re.finditer('[a-zA-Z]', string):\n",
    "    print(i.start(), '...', i.end(), '...', i.group())"
   ]
  },
  {
   "cell_type": "code",
   "execution_count": 10,
   "id": "a1b7fee9",
   "metadata": {},
   "outputs": [
    {
     "name": "stdout",
     "output_type": "stream",
     "text": [
      "1 ... 2 ... 7\n",
      "8 ... 9 ... 9\n"
     ]
    }
   ],
   "source": [
    "string = 'a7ba@k c9zx'\n",
    "\n",
    "for i in re.finditer('[0-9]', string):\n",
    "    print(i.start(), '...', i.end(), '...', i.group())"
   ]
  },
  {
   "cell_type": "code",
   "execution_count": 11,
   "id": "59859a06",
   "metadata": {},
   "outputs": [
    {
     "name": "stdout",
     "output_type": "stream",
     "text": [
      "0 ... 1 ... a\n",
      "1 ... 2 ... 7\n",
      "2 ... 3 ... b\n",
      "3 ... 4 ... a\n",
      "5 ... 6 ... k\n",
      "7 ... 8 ... c\n",
      "8 ... 9 ... 9\n",
      "9 ... 10 ... z\n",
      "10 ... 11 ... x\n"
     ]
    }
   ],
   "source": [
    "string = 'a7ba@k c9zx'\n",
    "\n",
    "for i in re.finditer('[a-zA-Z0-9]', string):\n",
    "    print(i.start(), '...', i.end(), '...', i.group())"
   ]
  },
  {
   "cell_type": "code",
   "execution_count": 13,
   "id": "73c370d5",
   "metadata": {},
   "outputs": [
    {
     "name": "stdout",
     "output_type": "stream",
     "text": [
      "4 ... 5 ... @\n",
      "6 ... 7 ...  \n"
     ]
    }
   ],
   "source": [
    "string = 'a7ba@k c9zx'\n",
    "\n",
    "for i in re.finditer('[^a-zA-Z0-9]', string):\n",
    "    print(i.start(), '...', i.end(), '...', i.group())"
   ]
  },
  {
   "cell_type": "code",
   "execution_count": null,
   "id": "6bd304f7",
   "metadata": {},
   "outputs": [],
   "source": [
    "\\d - Only numbers\n",
    "\\s - spaces\n",
    "\\S - Except spaces \n",
    "\\D - Except numbers \n",
    "\\w - Alphanumeric \n",
    "\\W - Except Alphanumeric\n",
    ". - All characters "
   ]
  },
  {
   "cell_type": "code",
   "execution_count": 14,
   "id": "c4149cd8",
   "metadata": {},
   "outputs": [
    {
     "name": "stdout",
     "output_type": "stream",
     "text": [
      "1 ... 2 ... 7\n",
      "8 ... 9 ... 9\n"
     ]
    }
   ],
   "source": [
    "string = 'a7ba@k c9zx'\n",
    "\n",
    "for i in re.finditer('\\d', string):\n",
    "    print(i.start(), '...', i.end(), '...', i.group())"
   ]
  },
  {
   "cell_type": "code",
   "execution_count": 15,
   "id": "17ffa4d7",
   "metadata": {},
   "outputs": [
    {
     "name": "stdout",
     "output_type": "stream",
     "text": [
      "0 ... 1 ... a\n",
      "2 ... 3 ... b\n",
      "3 ... 4 ... a\n",
      "4 ... 5 ... @\n",
      "5 ... 6 ... k\n",
      "6 ... 7 ...  \n",
      "7 ... 8 ... c\n",
      "9 ... 10 ... z\n",
      "10 ... 11 ... x\n"
     ]
    }
   ],
   "source": [
    "string = 'a7ba@k c9zx'\n",
    "\n",
    "for i in re.finditer('\\D', string):\n",
    "    print(i.start(), '...', i.end(), '...', i.group())"
   ]
  },
  {
   "cell_type": "code",
   "execution_count": 16,
   "id": "0e94f1a8",
   "metadata": {},
   "outputs": [
    {
     "name": "stdout",
     "output_type": "stream",
     "text": [
      "0 ... 1 ... a\n",
      "1 ... 2 ... 7\n",
      "2 ... 3 ... b\n",
      "3 ... 4 ... a\n",
      "5 ... 6 ... k\n",
      "7 ... 8 ... c\n",
      "8 ... 9 ... 9\n",
      "9 ... 10 ... z\n",
      "10 ... 11 ... x\n"
     ]
    }
   ],
   "source": [
    "string = 'a7ba@k c9zx'\n",
    "\n",
    "for i in re.finditer('\\w', string):\n",
    "    print(i.start(), '...', i.end(), '...', i.group())"
   ]
  },
  {
   "cell_type": "code",
   "execution_count": 17,
   "id": "f3e7e225",
   "metadata": {},
   "outputs": [
    {
     "name": "stdout",
     "output_type": "stream",
     "text": [
      "4 ... 5 ... @\n",
      "6 ... 7 ...  \n"
     ]
    }
   ],
   "source": [
    "string = 'a7ba@k c9zx'\n",
    "\n",
    "for i in re.finditer('\\W', string):\n",
    "    print(i.start(), '...', i.end(), '...', i.group())"
   ]
  },
  {
   "cell_type": "code",
   "execution_count": 18,
   "id": "ab967f4c",
   "metadata": {},
   "outputs": [
    {
     "name": "stdout",
     "output_type": "stream",
     "text": [
      "6 ... 7 ...  \n"
     ]
    }
   ],
   "source": [
    "string = 'a7ba@k c9zx'\n",
    "\n",
    "for i in re.finditer('\\s', string):\n",
    "    print(i.start(), '...', i.end(), '...', i.group())"
   ]
  },
  {
   "cell_type": "code",
   "execution_count": 19,
   "id": "b4001e4b",
   "metadata": {},
   "outputs": [
    {
     "name": "stdout",
     "output_type": "stream",
     "text": [
      "0 ... 1 ... a\n",
      "1 ... 2 ... 7\n",
      "2 ... 3 ... b\n",
      "3 ... 4 ... a\n",
      "4 ... 5 ... @\n",
      "5 ... 6 ... k\n",
      "7 ... 8 ... c\n",
      "8 ... 9 ... 9\n",
      "9 ... 10 ... z\n",
      "10 ... 11 ... x\n"
     ]
    }
   ],
   "source": [
    "string = 'a7ba@k c9zx'\n",
    "\n",
    "for i in re.finditer('\\S', string):\n",
    "    print(i.start(), '...', i.end(), '...', i.group())"
   ]
  },
  {
   "cell_type": "code",
   "execution_count": 20,
   "id": "cdaf3079",
   "metadata": {},
   "outputs": [
    {
     "name": "stdout",
     "output_type": "stream",
     "text": [
      "0 ... 1 ... a\n",
      "1 ... 2 ... 7\n",
      "2 ... 3 ... b\n",
      "3 ... 4 ... a\n",
      "4 ... 5 ... @\n",
      "5 ... 6 ... k\n",
      "6 ... 7 ...  \n",
      "7 ... 8 ... c\n",
      "8 ... 9 ... 9\n",
      "9 ... 10 ... z\n",
      "10 ... 11 ... x\n"
     ]
    }
   ],
   "source": [
    "string = 'a7ba@k c9zx'\n",
    "\n",
    "for i in re.finditer('.', string):\n",
    "    print(i.start(), '...', i.end(), '...', i.group())"
   ]
  },
  {
   "cell_type": "code",
   "execution_count": 21,
   "id": "43ef98db",
   "metadata": {},
   "outputs": [
    {
     "name": "stdout",
     "output_type": "stream",
     "text": [
      "0 ... 1 ... a\n",
      "2 ... 3 ... b\n",
      "3 ... 4 ... a\n",
      "7 ... 8 ... c\n"
     ]
    }
   ],
   "source": [
    "string = 'a7ba@k c9zx'\n",
    "\n",
    "for i in re.finditer('[abc]', string):\n",
    "    print(i.start(), '...', i.end(), '...', i.group())"
   ]
  },
  {
   "cell_type": "code",
   "execution_count": 23,
   "id": "37809711",
   "metadata": {},
   "outputs": [
    {
     "name": "stdout",
     "output_type": "stream",
     "text": [
      "0 ... 3 ... abc\n"
     ]
    }
   ],
   "source": [
    "string = 'abc7ba@k c9zx'\n",
    "\n",
    "for i in re.finditer('abc', string):\n",
    "    print(i.start(), '...', i.end(), '...', i.group())"
   ]
  },
  {
   "cell_type": "code",
   "execution_count": 26,
   "id": "a2fc939f",
   "metadata": {},
   "outputs": [
    {
     "name": "stdout",
     "output_type": "stream",
     "text": [
      "2 ... 4 ... cc\n",
      "5 ... 7 ... cc\n"
     ]
    }
   ],
   "source": [
    "string = 'cdccdcccd'\n",
    "\n",
    "for i in re.finditer('cc', string):\n",
    "    print(i.start(), '...', i.end(), '...', i.group())"
   ]
  },
  {
   "cell_type": "code",
   "execution_count": 27,
   "id": "7632a583",
   "metadata": {},
   "outputs": [
    {
     "name": "stdout",
     "output_type": "stream",
     "text": [
      "0 ... 1 ... c\n",
      "2 ... 3 ... c\n",
      "3 ... 4 ... c\n",
      "5 ... 6 ... c\n",
      "6 ... 7 ... c\n",
      "7 ... 8 ... c\n"
     ]
    }
   ],
   "source": [
    "string = 'cdccdcccd'\n",
    "\n",
    "for i in re.finditer('[cc]', string):\n",
    "    print(i.start(), '...', i.end(), '...', i.group())"
   ]
  },
  {
   "cell_type": "code",
   "execution_count": 28,
   "id": "bb6ade6f",
   "metadata": {},
   "outputs": [
    {
     "name": "stdout",
     "output_type": "stream",
     "text": [
      "0 ... 2 ... cd\n",
      "3 ... 5 ... cd\n",
      "7 ... 9 ... cd\n"
     ]
    }
   ],
   "source": [
    "string = 'cdccdcccd'\n",
    "\n",
    "for i in re.finditer('cd', string):\n",
    "    print(i.start(), '...', i.end(), '...', i.group())"
   ]
  },
  {
   "cell_type": "code",
   "execution_count": 29,
   "id": "002a7302",
   "metadata": {},
   "outputs": [
    {
     "name": "stdout",
     "output_type": "stream",
     "text": [
      "0 ... 1 ... c\n",
      "1 ... 2 ... d\n",
      "2 ... 3 ... c\n",
      "3 ... 4 ... c\n",
      "4 ... 5 ... d\n",
      "5 ... 6 ... c\n",
      "6 ... 7 ... c\n",
      "7 ... 8 ... c\n",
      "8 ... 9 ... d\n"
     ]
    }
   ],
   "source": [
    "string = 'cdccdcccd'\n",
    "\n",
    "for i in re.finditer('[cd]', string):\n",
    "    print(i.start(), '...', i.end(), '...', i.group())"
   ]
  },
  {
   "cell_type": "code",
   "execution_count": 30,
   "id": "ea8c2312",
   "metadata": {},
   "outputs": [
    {
     "name": "stdout",
     "output_type": "stream",
     "text": [
      "0 ... 1 ... c\n",
      "2 ... 4 ... cc\n",
      "5 ... 8 ... ccc\n"
     ]
    }
   ],
   "source": [
    "string = 'cdccdcccd'\n",
    "\n",
    "for i in re.finditer('c+', string):\n",
    "    print(i.start(), '...', i.end(), '...', i.group())"
   ]
  },
  {
   "cell_type": "code",
   "execution_count": 31,
   "id": "f48e04ab",
   "metadata": {},
   "outputs": [
    {
     "name": "stdout",
     "output_type": "stream",
     "text": [
      "0 ... 1 ... c\n",
      "1 ... 1 ... \n",
      "2 ... 4 ... cc\n",
      "4 ... 4 ... \n",
      "5 ... 8 ... ccc\n",
      "8 ... 8 ... \n",
      "9 ... 9 ... \n"
     ]
    }
   ],
   "source": [
    "string = 'cdccdcccd'\n",
    "\n",
    "for i in re.finditer('c*', string):\n",
    "    print(i.start(), '...', i.end(), '...', i.group())"
   ]
  },
  {
   "cell_type": "code",
   "execution_count": 32,
   "id": "80db16ba",
   "metadata": {},
   "outputs": [
    {
     "name": "stdout",
     "output_type": "stream",
     "text": [
      "0 ... 1 ... c\n",
      "1 ... 1 ... \n",
      "2 ... 3 ... c\n",
      "3 ... 4 ... c\n",
      "4 ... 4 ... \n",
      "5 ... 6 ... c\n",
      "6 ... 7 ... c\n",
      "7 ... 8 ... c\n",
      "8 ... 8 ... \n",
      "9 ... 9 ... \n"
     ]
    }
   ],
   "source": [
    "string = 'cdccdcccd'\n",
    "\n",
    "for i in re.finditer('c?', string):\n",
    "    print(i.start(), '...', i.end(), '...', i.group())"
   ]
  },
  {
   "cell_type": "code",
   "execution_count": 33,
   "id": "9c029e9c",
   "metadata": {},
   "outputs": [
    {
     "name": "stdout",
     "output_type": "stream",
     "text": [
      "2 ... 4 ... cc\n",
      "5 ... 7 ... cc\n"
     ]
    }
   ],
   "source": [
    "string = 'cdccdcccd'\n",
    "\n",
    "for i in re.finditer('c{2}', string):\n",
    "    print(i.start(), '...', i.end(), '...', i.group())"
   ]
  },
  {
   "cell_type": "code",
   "execution_count": 34,
   "id": "21d35d1a",
   "metadata": {},
   "outputs": [
    {
     "name": "stdout",
     "output_type": "stream",
     "text": [
      "2 ... 4 ... cc\n",
      "5 ... 8 ... ccc\n"
     ]
    }
   ],
   "source": [
    "string = 'cdccdcccd'\n",
    "\n",
    "for i in re.finditer('c{2,3}', string):\n",
    "    print(i.start(), '...', i.end(), '...', i.group())"
   ]
  },
  {
   "cell_type": "code",
   "execution_count": 35,
   "id": "a970644f",
   "metadata": {},
   "outputs": [
    {
     "name": "stdout",
     "output_type": "stream",
     "text": [
      "1 ... 2 ... d\n",
      "4 ... 5 ... d\n",
      "8 ... 9 ... d\n"
     ]
    }
   ],
   "source": [
    "string = 'cdccdcccd'\n",
    "\n",
    "for i in re.finditer('[^c]', string):\n",
    "    print(i.start(), '...', i.end(), '...', i.group())"
   ]
  },
  {
   "cell_type": "code",
   "execution_count": 37,
   "id": "d985a560",
   "metadata": {},
   "outputs": [],
   "source": [
    "string = 'ecdccdcccd'\n",
    "\n",
    "for i in re.finditer('^c', string):\n",
    "    print(i.start(), '...', i.end(), '...', i.group())"
   ]
  },
  {
   "cell_type": "code",
   "execution_count": 39,
   "id": "5f6ed30b",
   "metadata": {},
   "outputs": [],
   "source": [
    "string = 'ecdccdcccde'\n",
    "\n",
    "for i in re.finditer('d$', string):\n",
    "    print(i.start(), '...', i.end(), '...', i.group())"
   ]
  },
  {
   "cell_type": "code",
   "execution_count": null,
   "id": "c6de9637",
   "metadata": {},
   "outputs": [],
   "source": [
    "Match "
   ]
  },
  {
   "cell_type": "code",
   "execution_count": 51,
   "id": "7d69fcca",
   "metadata": {},
   "outputs": [
    {
     "name": "stdout",
     "output_type": "stream",
     "text": [
      "What you are looking for: Python is one\n",
      "Match Found\n"
     ]
    }
   ],
   "source": [
    "string = 'Python is one of the most powerful programming languages'\n",
    "lookingfor = input('What you are looking for: ')\n",
    "\n",
    "\n",
    "if re.match(lookingfor,string)!=None:\n",
    "    print('Match Found')\n",
    "else:\n",
    "    print('Match Not Found')"
   ]
  },
  {
   "cell_type": "code",
   "execution_count": 54,
   "id": "9c196081",
   "metadata": {},
   "outputs": [
    {
     "name": "stdout",
     "output_type": "stream",
     "text": [
      "What you are looking for: Python is one of the most powerful programming languages\n",
      "Match Found\n"
     ]
    }
   ],
   "source": [
    "string = 'Python is one of the most powerful programming languages'\n",
    "lookingfor = input('What you are looking for: ')\n",
    "\n",
    "\n",
    "if re.fullmatch(lookingfor,string)!=None:\n",
    "    print('Match Found')\n",
    "else:\n",
    "    print('Match Not Found')"
   ]
  },
  {
   "cell_type": "code",
   "execution_count": 59,
   "id": "79bd6869",
   "metadata": {},
   "outputs": [
    {
     "name": "stdout",
     "output_type": "stream",
     "text": [
      "What you are looking for: java\n",
      "Match Not Found\n"
     ]
    }
   ],
   "source": [
    "string = 'Python is one of the most powerful programming languages'\n",
    "lookingfor = input('What you are looking for: ')\n",
    "\n",
    "\n",
    "if re.search(lookingfor,string)!=None:\n",
    "    print('Match Found')\n",
    "else:\n",
    "    print('Match Not Found')"
   ]
  },
  {
   "cell_type": "code",
   "execution_count": 65,
   "id": "01dbf108",
   "metadata": {},
   "outputs": [
    {
     "name": "stdout",
     "output_type": "stream",
     "text": [
      "What keyword are you looking for: Java\n",
      "Your resume rejected\n"
     ]
    }
   ],
   "source": [
    "resume = 'Python is powerful, Python is good, Python is the future, Python is open source'\n",
    "keyword = input('What keyword are you looking for: ')\n",
    "if len(re.findall(keyword,resume))>3:\n",
    "    print('Your resume shortlisted')\n",
    "else:\n",
    "    print('Your resume rejected')"
   ]
  },
  {
   "cell_type": "code",
   "execution_count": null,
   "id": "620e1b4a",
   "metadata": {},
   "outputs": [],
   "source": [
    "Sub"
   ]
  },
  {
   "cell_type": "code",
   "execution_count": 66,
   "id": "b774ac80",
   "metadata": {},
   "outputs": [
    {
     "name": "stdout",
     "output_type": "stream",
     "text": [
      "What you want to change: Python\n",
      "What value you want: JAva\n"
     ]
    },
    {
     "data": {
      "text/plain": [
       "'JAva is powerful, JAva is good, JAva is the future, JAva is open source'"
      ]
     },
     "execution_count": 66,
     "metadata": {},
     "output_type": "execute_result"
    }
   ],
   "source": [
    "resume = 'Python is powerful, Python is good, Python is the future, Python is open source'\n",
    "whatotchange = input('What you want to change: ')\n",
    "withwhat = input('What value you want: ')\n",
    "\n",
    "re.sub(whatotchange,withwhat,resume)"
   ]
  },
  {
   "cell_type": "code",
   "execution_count": 67,
   "id": "d6e97171",
   "metadata": {},
   "outputs": [
    {
     "name": "stdout",
     "output_type": "stream",
     "text": [
      "What you want to change: Python\n",
      "What value you want: Java\n"
     ]
    },
    {
     "data": {
      "text/plain": [
       "('Java is powerful, Java is good, Java is the future, Java is open source', 4)"
      ]
     },
     "execution_count": 67,
     "metadata": {},
     "output_type": "execute_result"
    }
   ],
   "source": [
    "resume = 'Python is powerful, Python is good, Python is the future, Python is open source'\n",
    "whatotchange = input('What you want to change: ')\n",
    "withwhat = input('What value you want: ')\n",
    "\n",
    "re.subn(whatotchange,withwhat,resume)"
   ]
  },
  {
   "cell_type": "code",
   "execution_count": null,
   "id": "70b3acd5",
   "metadata": {},
   "outputs": [],
   "source": [
    "split"
   ]
  },
  {
   "cell_type": "code",
   "execution_count": 68,
   "id": "e6a4e396",
   "metadata": {},
   "outputs": [
    {
     "data": {
      "text/plain": [
       "['10', '20', '30', '40', '50']"
      ]
     },
     "execution_count": 68,
     "metadata": {},
     "output_type": "execute_result"
    }
   ],
   "source": [
    "re.split('-','10-20-30-40-50')"
   ]
  },
  {
   "cell_type": "code",
   "execution_count": 70,
   "id": "741bac13",
   "metadata": {},
   "outputs": [
    {
     "data": {
      "text/plain": [
       "['www', 'google', 'com']"
      ]
     },
     "execution_count": 70,
     "metadata": {},
     "output_type": "execute_result"
    }
   ],
   "source": [
    "re.split('\\.', 'www.google.com')"
   ]
  },
  {
   "cell_type": "code",
   "execution_count": 71,
   "id": "90d92764",
   "metadata": {},
   "outputs": [
    {
     "data": {
      "text/plain": [
       "['www', 'google', 'com']"
      ]
     },
     "execution_count": 71,
     "metadata": {},
     "output_type": "execute_result"
    }
   ],
   "source": [
    "re.split('[.]', 'www.google.com')"
   ]
  },
  {
   "cell_type": "code",
   "execution_count": 73,
   "id": "6829066c",
   "metadata": {},
   "outputs": [],
   "source": [
    "string = 'Learning Python is very easy'\n",
    "re.search('^learn', string)"
   ]
  },
  {
   "cell_type": "code",
   "execution_count": 74,
   "id": "1bc6abee",
   "metadata": {},
   "outputs": [
    {
     "data": {
      "text/plain": [
       "<re.Match object; span=(24, 28), match='easy'>"
      ]
     },
     "execution_count": 74,
     "metadata": {},
     "output_type": "execute_result"
    }
   ],
   "source": [
    "string = 'Learning Python is very easy'\n",
    "re.search('easy$', string)"
   ]
  },
  {
   "cell_type": "code",
   "execution_count": 76,
   "id": "c18b09ac",
   "metadata": {},
   "outputs": [
    {
     "data": {
      "text/plain": [
       "<re.Match object; span=(24, 28), match='easy'>"
      ]
     },
     "execution_count": 76,
     "metadata": {},
     "output_type": "execute_result"
    }
   ],
   "source": [
    "string = 'Learning Python is very easy'\n",
    "re.search('Easy$', string,re.IGNORECASE)"
   ]
  },
  {
   "cell_type": "code",
   "execution_count": null,
   "id": "ecceb625",
   "metadata": {},
   "outputs": [],
   "source": [
    "Password"
   ]
  },
  {
   "cell_type": "code",
   "execution_count": null,
   "id": "f0805b7b",
   "metadata": {},
   "outputs": [],
   "source": [
    "a) The allowable characters should be\n",
    "    a.1) Alphabets (a-z,A-Z)\n",
    "    a.2) Digits (0-9)\n",
    "    a.3) Hash (#)\n",
    "        \n",
    "b) First character should be a lowercase that too between (a-k)\n",
    "\n",
    "c) Second character should be a nuber that is divisible by 3 i.e. 0,3,6,9\n",
    "\n",
    "d) The length of the password \n",
    "    d.1) Should be exactly 5 \n",
    "    d.2) Should be minimum 5"
   ]
  },
  {
   "cell_type": "code",
   "execution_count": null,
   "id": "4b40aae6",
   "metadata": {},
   "outputs": [],
   "source": [
    "Exactly 5"
   ]
  },
  {
   "cell_type": "code",
   "execution_count": 80,
   "id": "d87efde0",
   "metadata": {},
   "outputs": [
    {
     "name": "stdout",
     "output_type": "stream",
     "text": [
      "Enter the password: a3###\n",
      "The password is ok a3###\n"
     ]
    }
   ],
   "source": [
    "password = input('Enter the password: ')\n",
    "if re.fullmatch('[a-k][0369][a-zA-Z0-9#]{3}',password)!=None:\n",
    "    print('The password is ok', password)\n",
    "else:\n",
    "    print('The password is not ok', password)"
   ]
  },
  {
   "cell_type": "code",
   "execution_count": null,
   "id": "7a145ffc",
   "metadata": {},
   "outputs": [],
   "source": [
    "Minimum 5"
   ]
  },
  {
   "cell_type": "code",
   "execution_count": 84,
   "id": "31f9dce8",
   "metadata": {},
   "outputs": [
    {
     "name": "stdout",
     "output_type": "stream",
     "text": [
      "Enter the password: a3######################################\n",
      "The password is ok a3######################################\n"
     ]
    }
   ],
   "source": [
    "password = input('Enter the password: ')\n",
    "if re.fullmatch('[a-k][0369][a-zA-Z0-9#]{3,}',password)!=None:\n",
    "    print('The password is ok', password)\n",
    "else:\n",
    "    print('The password is not ok', password)"
   ]
  },
  {
   "cell_type": "code",
   "execution_count": 86,
   "id": "41d7e06c",
   "metadata": {},
   "outputs": [
    {
     "name": "stdout",
     "output_type": "stream",
     "text": [
      "Enter the pancard number: afupt87665k\n",
      "Invalid pancard\n"
     ]
    }
   ],
   "source": [
    "pancard = input('Enter the pancard number: ')\n",
    "if re.fullmatch('[A-Za-z]{3}[CPHAFTBLJGcphaftbljg][A-Za-z][0-9]{4}[A-Za-z]',pancard):\n",
    "    print('Valid pancard')\n",
    "else:\n",
    "    print('Invalid pancard')"
   ]
  },
  {
   "cell_type": "code",
   "execution_count": 88,
   "id": "e13613aa",
   "metadata": {},
   "outputs": [
    {
     "name": "stdout",
     "output_type": "stream",
     "text": [
      "Enter the phone number: 8826880809\n",
      "Valid number\n"
     ]
    }
   ],
   "source": [
    "phone = input('Enter the phone number: ')\n",
    "if re.fullmatch('[6-9]\\d{9}',phone)!=None:\n",
    "    print('Valid number')\n",
    "else:\n",
    "    print('Invalid number')"
   ]
  },
  {
   "cell_type": "code",
   "execution_count": 91,
   "id": "7e9c4ba0",
   "metadata": {},
   "outputs": [
    {
     "name": "stdout",
     "output_type": "stream",
     "text": [
      "Enter the email address: r@gmail.co\n",
      "You will not get the offer\n"
     ]
    }
   ],
   "source": [
    "email = input('Enter the email address: ')\n",
    "if re.fullmatch('[a-zA-Z0-9_.]*@gmail[.]com',email)!=None:\n",
    "    print('You will get the offer')\n",
    "else:\n",
    "    print('You will not get the offer')"
   ]
  },
  {
   "cell_type": "code",
   "execution_count": 94,
   "id": "92d399ac",
   "metadata": {},
   "outputs": [
    {
     "name": "stdout",
     "output_type": "stream",
     "text": [
      "Enter the email address: r@yahoo.com\n",
      "You will get the offer\n"
     ]
    }
   ],
   "source": [
    "email = input('Enter the email address: ')\n",
    "if re.fullmatch('[a-zA-Z0-9_.]*@(gmail|yahoo)[.]com',email)!=None:\n",
    "    print('You will get the offer')\n",
    "else:\n",
    "    print('You will not get the offer')"
   ]
  },
  {
   "cell_type": "code",
   "execution_count": 97,
   "id": "29fd43b7",
   "metadata": {},
   "outputs": [
    {
     "name": "stdout",
     "output_type": "stream",
     "text": [
      "Enter the email address: r@tesla.co\n",
      "You will not get the offer\n"
     ]
    }
   ],
   "source": [
    "email = input('Enter the email address: ')\n",
    "if re.fullmatch('[a-zA-Z0-9_.]*@[a-zA-Z0-9]*[.]com',email)!=None:\n",
    "    print('You will get the offer')\n",
    "else:\n",
    "    print('You will not get the offer')"
   ]
  },
  {
   "cell_type": "code",
   "execution_count": 102,
   "id": "4a7fc820",
   "metadata": {},
   "outputs": [
    {
     "name": "stdout",
     "output_type": "stream",
     "text": [
      "Enter the email address: r@gmail.commmmmmmm\n",
      "You will not get the offer\n"
     ]
    }
   ],
   "source": [
    "email = input('Enter the email address: ')\n",
    "if re.fullmatch('[a-zA-Z0-9_.]*@[a-zA-Z0-9]*[.][a-zA-Z]{2,3}',email)!=None:\n",
    "    print('You will get the offer')\n",
    "else:\n",
    "    print('You will not get the offer')"
   ]
  },
  {
   "cell_type": "code",
   "execution_count": 103,
   "id": "11e073ba",
   "metadata": {},
   "outputs": [
    {
     "data": {
      "text/plain": [
       "'<html>\\n<head>\\n\\t<title>Sample Addresses!</title>\\n<script async src=\"https://pagead2.googlesyndication.com/pagead/js/adsbygoogle.js?client=ca-pub-2760663110461940\"\\n     crossorigin=\"anonymous\"></script>\\n\\n</head>\\n<body>\\n<h1> A page full of sample addresses for your parsing enjoyment!</h1>\\n<h2> (All data is random....)</h2>\\n<ul>\\n\\n<script async src=\"https://pagead2.googlesyndication.com/pagead/js/adsbygoogle.js?client=ca-pub-2760663110461940\"\\n     crossorigin=\"anonymous\"></script>\\n<!-- summet.com-dmsi-addresses -->\\n<ins class=\"adsbygoogle\"\\n     style=\"display:block\"\\n     data-ad-client=\"ca-pub-2760663110461940\"\\n     data-ad-slot=\"5472586510\"\\n     data-ad-format=\"auto\"\\n     data-full-width-responsive=\"true\"></ins>\\n<script>\\n     (adsbygoogle = window.adsbygoogle || []).push({});\\n</script>\\n\\n<li>Cecilia Chapman<br/>711-2880 Nulla St.<br/>Mankato Mississippi 96522<br/>(257) 563-7401</li>\\n<li>Iris Watson<br/>P.O. Box 283 8562 Fusce Rd.<br/>Frederick Nebraska 20620<br/>(372) 587-2335</li>\\n<li>Celeste Slater<br/>606-3727 Ullamcorper. Street<br/>Roseville NH 11523<br/>(786) 713-8616</li>\\n<li>Theodore Lowe<br/>Ap #867-859 Sit Rd.<br/>Azusa New York 39531<br/>(793) 151-6230</li>\\n<li>Calista Wise<br/>7292 Dictum Av.<br/>San Antonio MI 47096<br/>(492) 709-6392</li>\\n<li>Kyla Olsen<br/>Ap #651-8679 Sodales Av.<br/>Tamuning PA 10855<br/>(654) 393-5734</li>\\n<li>Forrest Ray<br/>191-103 Integer Rd.<br/>Corona New Mexico 08219<br/>(404) 960-3807</li>\\n<li>Hiroko Potter<br/>P.O. Box 887 2508 Dolor. Av.<br/>Muskegon KY 12482<br/>(314) 244-6306</li>\\n<li>Nyssa Vazquez<br/>511-5762 At Rd.<br/>Chelsea MI 67708<br/>(947) 278-5929</li>\\n<li>Lawrence Moreno<br/>935-9940 Tortor. Street<br/>Santa Rosa MN 98804<br/>(684) 579-1879</li>\\n<li>Ina Moran<br/>P.O. Box 929 4189 Nunc Road<br/>Lebanon KY 69409<br/>(389) 737-2852</li>\\n<li>Aaron Hawkins<br/>5587 Nunc. Avenue<br/>Erie Rhode Island 24975<br/>(660) 663-4518</li>\\n<li>Hedy Greene<br/>Ap #696-3279 Viverra. Avenue<br/>Latrobe DE 38100<br/>(608) 265-2215</li>\\n<li>Melvin Porter<br/>P.O. Box 132 1599 Curabitur Rd.<br/>Bandera South Dakota 45149<br/>(959) 119-8364</li>\\n<li>Keefe Sellers<br/>347-7666 Iaculis St.<br/>Woodruff SC 49854<br/>(468) 353-2641</li>\\n<li>Joan Romero<br/>666-4366 Lacinia Avenue<br/>Idaho Falls Ohio 19253<br/>(248) 675-4007</li>\\n<li>Davis Patrick<br/>P.O. Box 147 2546 Sociosqu Rd.<br/>Bethlehem Utah 02913<br/>(939) 353-1107</li>\\n<li>Leilani Boyer<br/>557-6308 Lacinia Road<br/>San Bernardino ND 09289<br/>(570) 873-7090</li>\\n<li>Colby Bernard<br/>Ap #285-7193 Ullamcorper Avenue<br/>Amesbury HI 93373<br/>(302) 259-2375</li>\\n<li>Bryar Pitts<br/>5543 Aliquet St.<br/>Fort Dodge GA 20783<br/>(717) 450-4729</li>\\n<li>Rahim Henderson<br/>5037 Diam Rd.<br/>Daly City Ohio 90255<br/>(453) 391-4650</li>\\n<li>Noelle Adams<br/>6351 Fringilla Avenue<br/>Gardena Colorado 37547<br/>(559) 104-5475</li>\\n<li>Lillith Daniel<br/>935-1670 Neque. St.<br/>Centennial Delaware 48432<br/>(387) 142-9434</li>\\n<li>Adria Russell<br/>414-7533 Non Rd.<br/>Miami Beach North Dakota 58563<br/>(516) 745-4496</li>\\n<li>Hilda Haynes<br/>778-9383 Suspendisse Av.<br/>Weirton IN 93479<br/>(326) 677-3419</li>\\n<li>Sheila Mcintosh<br/>P.O. Box 360 4407 Et Rd.<br/>Santa Monica FL 30309<br/>(746) 679-2470</li>\\n<li>Rebecca Chambers<br/>P.O. Box 813 5982 Sit Ave<br/>Liberal Vermont 51324<br/>(455) 430-0989</li>\\n<li>Christian Emerson<br/>P.O. Box 886 4118 Arcu St.<br/>Rolling Hills Georgia 92358<br/>(490) 936-4694</li>\\n<li>Nevada Ware<br/>P.O. Box 597 4156 Tincidunt Ave<br/>Green Bay Indiana 19759<br/>(985) 834-8285</li>\\n<li>Margaret Joseph<br/>P.O. Box 508 3919 Gravida St.<br/>Tamuning Washington 55797<br/>(662) 661-1446</li>\\n<li>Edward Nieves<br/>928-3313 Vel Av.<br/>Idaho Falls Rhode Island 37232<br/>(802) 668-8240</li>\\n<li>Imani Talley<br/>P.O. Box 262 4978 Sit St.<br/>Yigo Massachusetts 50654<br/>(477) 768-9247</li>\\n<li>Bertha Riggs<br/>P.O. Box 206 6639 In St.<br/>Easthampton TN 31626<br/>(791) 239-9057</li>\\n<li>Wallace Ross<br/>313 Pellentesque Ave<br/>Villa Park Hawaii 43526<br/>(832) 109-0213</li>\\n<li>Chester Bennett<br/>3476 Aliquet. Ave<br/>Minot AZ 95302<br/>(837) 196-3274</li>\\n<li>Castor Richardson<br/>P.O. Box 902 3472 Ullamcorper Street<br/>Lynchburg DC 29738<br/>(268) 442-2428</li>\\n<li>Sonya Jordan<br/>Ap #443-336 Ullamcorper. Street<br/>Visalia VA 54886<br/>(850) 676-5117</li>\\n<li>Harrison Mcguire<br/>574-8633 Arcu Street<br/>San Fernando ID 77373<br/>(861) 546-5032</li>\\n<li>Malcolm Long<br/>9291 Proin Road<br/>Lake Charles Maine 11292<br/>(176) 805-4108</li>\\n<li>Raymond Levy<br/>Ap #643-7006 Risus St.<br/>Beaumont New Mexico 73585<br/>(715) 912-6931</li>\\n<li>Hedley Ingram<br/>737-2580 At Street<br/>Independence Texas 87535<br/>(993) 554-0563</li>\\n<li>David Mathews<br/>1011 Malesuada Road<br/>Moscow Kentucky 77382<br/>(357) 616-5411</li>\\n<li>Xyla Cash<br/>969-1762 Tincidunt Rd.<br/>Boise CT 35282<br/>(121) 347-0086</li>\\n<li>Madeline Gregory<br/>977-4841 Ut Ave<br/>Walla Walla Michigan 82776<br/>(304) 506-6314</li>\\n<li>Griffith Daniels<br/>6818 Eget St.<br/>Tacoma AL 92508<br/>(425) 288-2332</li>\\n<li>Anne Beasley<br/>987-4223 Urna St.<br/>Savannah Illinois 85794<br/>(145) 987-4962</li>\\n<li>Chaney Bennett<br/>P.O. Box 721 902 Dolor Rd.<br/>Fremont AK 19408<br/>(187) 582-9707</li>\\n<li>Daniel Bernard<br/>P.O. Box 567 1561 Duis Rd.<br/>Pomona TN 08609<br/>(750) 558-3965</li>\\n<li>Willow Hunt<br/>Ap #784-1887 Lobortis Ave<br/>Cudahy Ohio 31522<br/>(492) 467-3131</li>\\n<li>Judith Floyd<br/>361-7936 Feugiat St.<br/>Williston Nevada 58521<br/>(774) 914-2510</li>\\n<li>Seth Farley<br/>6216 Aenean Avenue<br/>Seattle Utah 81202<br/>(888) 106-8550</li>\\n<li>Zephania Sanders<br/>3714 Nascetur St.<br/>Hawthorne Louisiana 10626<br/>(539) 567-3573</li>\\n<li>Calista Merritt<br/>Ap #938-5470 Posuere Ave<br/>Chickasha LA 58520<br/>(693) 337-2849</li>\\n<li>Craig Williams<br/>P.O. Box 372 5634 Montes Rd.<br/>Springdale MO 57692<br/>(545) 604-9386</li>\\n<li>Lee Preston<br/>981 Eget Rd.<br/>Clemson GA 04645<br/>(221) 156-5026</li>\\n<li>Katelyn Cooper<br/>6059 Sollicitudin Road<br/>Burlingame Colorado 26278<br/>(414) 876-0865</li>\\n<li>Lacy Eaton<br/>1379 Nulla. Av.<br/>Asbury Park Montana 69679<br/>(932) 726-8645</li>\\n<li>Driscoll Leach<br/>P.O. Box 120 2410 Odio Avenue<br/>Pass Christian Delaware 03869<br/>(726) 710-9826</li>\\n<li>Merritt Watson<br/>P.O. Box 686 7014 Amet Street<br/>Corona Oklahoma 55246<br/>(622) 594-1662</li>\\n<li>Nehru Holmes<br/>P.O. Box 547 4764 Sed Road<br/>Grand Rapids CT 87323<br/>(948) 600-8503</li>\\n<li>Quamar Rivera<br/>427-5827 Ac St.<br/>Schaumburg Arkansas 84872<br/>(605) 900-7508</li>\\n<li>Hiram Mullins<br/>754-6427 Nunc Ave<br/>Kennewick AL 41329<br/>(716) 977-5775</li>\\n<li>Kim Fletcher<br/>Ap #345-3847 Metus Road<br/>Independence CO 30135<br/>(368) 239-8275</li>\\n<li>Rigel Koch<br/>P.O. Box 558 9561 Lacus. Road<br/>Laughlin Hawaii 99602<br/>(725) 342-0650</li>\\n<li>Jeanette Sharpe<br/>Ap #364-2006 Ipsum Avenue<br/>Wilmington Ohio 91750<br/>(711) 993-5187</li>\\n<li>Dahlia Lee<br/>1293 Tincidunt Street<br/>Atwater Pennsylvania 76865<br/>(882) 399-5084</li>\\n<li>Howard Hayden<br/>P.O. Box 847 8019 Facilisis Street<br/>Joliet SC 73490<br/>(287) 755-9948</li>\\n<li>Hyatt Kramer<br/>1011 Massa Av.<br/>Kent ID 63725<br/>(659) 551-3389</li>\\n<li>Sonya Ray<br/>Ap #315-8441 Eleifend Street<br/>Fairbanks RI 96892<br/>(275) 730-6868</li>\\n<li>Cara Whitehead<br/>4005 Praesent St.<br/>Torrance Wyoming 22767<br/>(725) 757-4047</li>\\n<li>Blythe Carroll<br/>7709 Justo. Ave<br/>Princeton TX 77987<br/>(314) 882-1496</li>\\n<li>Dale Griffin<br/>P.O. Box 854 8580 In Ave<br/>Revere South Dakota 43841<br/>(639) 360-7590</li>\\n<li>McKenzie Hernandez<br/>Ap #367-674 Mi Street<br/>Greensboro VT 40684<br/>(168) 222-1592</li>\\n<li>Haviva Holcomb<br/>P.O. Box 642 3450 In Road<br/>Isle of Palms New York 03828<br/>(896) 303-1164</li>\\n<li>Ezra Duffy<br/>Ap #782-7348 Dis Rd.<br/>Austin KY 50710<br/>(203) 982-6130</li>\\n<li>Eleanor Jennings<br/>9631 Semper Ave<br/>Astoria NJ 66309<br/>(906) 217-1470</li>\\n<li>Remedios Hester<br/>487-5787 Mollis St.<br/>City of Industry Louisiana 67973<br/>(614) 514-1269</li>\\n<li>Jasper Carney<br/>1195 Lobortis Rd.<br/>New Orleans New Hampshire 71983<br/>(763) 409-5446</li>\\n<li>Vielka Nielsen<br/>Ap #517-7326 Elementum Rd.<br/>Fort Smith North Dakota 79637<br/>(836) 292-5324</li>\\n<li>Wilma Pace<br/>Ap #676-6532 Odio Rd.<br/>Darlington CO 06963<br/>(926) 709-3295</li>\\n<li>Palmer Gay<br/>557-2026 Purus St.<br/>Watertown TN 07367<br/>(963) 356-9268</li>\\n<li>Lyle Sutton<br/>Ap #250-9843 Elementum St.<br/>South Gate Missouri 68999<br/>(736) 522-8584</li>\\n<li>Ina Burt<br/>Ap #130-1685 Ut Street<br/>Tyler KS 73510<br/>(410) 483-0352</li>\\n<li>Cleo Best<br/>282-8351 Tincidunt Ave<br/>Sedalia Utah 53700<br/>(252) 204-1434</li>\\n<li>Hu Park<br/>1429 Netus Rd.<br/>Reedsport NY 48247<br/>(874) 886-4174</li>\\n<li>Liberty Walton<br/>343-6527 Purus. Avenue<br/>Logan NV 12657<br/>(581) 379-7573</li>\\n<li>Aaron Trujillo<br/>Ap #146-3132 Cras Rd.<br/>Kingsport NH 56618<br/>(983) 632-8597</li>\\n<li>Elmo Lopez<br/>Ap #481-7473 Cum Rd.<br/>Yorba Linda South Carolina 28423<br/>(295) 983-3476</li>\\n<li>Emerson Espinoza<br/>Ap #247-5577 Tincidunt St.<br/>Corpus Christi WI 97020<br/>(873) 392-8802</li>\\n<li>Daniel Malone<br/>2136 Adipiscing Av.<br/>Lima RI 93490<br/>(360) 669-3923</li>\\n<li>Dante Bennett<br/>481-8762 Nulla Street<br/>Dearborn OR 62401<br/>(840) 987-9449</li>\\n<li>Sade Higgins<br/>Ap #287-3260 Ut St.<br/>Wilmington OR 05182<br/>(422) 517-6053</li>\\n<li>Zorita Anderson<br/>1964 Facilisis Avenue<br/>Bell Gardens Texas 87065<br/>(126) 940-2753</li>\\n<li>Jordan Calderon<br/>430-985 Eleifend St.<br/>Duluth Washington 92611<br/>(427) 930-5255</li>\\n<li>Ivor Delgado<br/>Ap #310-1678 Ut Av.<br/>Santa Barbara MT 88317<br/>(689) 721-5145</li>\\n<li>Pascale Patton<br/>P.O. Box 399 4275 Amet Street<br/>West Allis NC 36734<br/>(676) 334-2174</li>\\n<li>Nasim Strong<br/>Ap #630-3889 Nulla. Street<br/>Watervliet Oklahoma 70863<br/>(437) 994-5270</li>\\n<li>Keaton Underwood<br/>Ap #636-8082 Arcu Avenue<br/>Thiensville Maryland 19587<br/>(564) 908-6970</li>\\n<li>Keegan Blair<br/>Ap #761-2515 Egestas. Rd.<br/>Manitowoc TN 07528<br/>(577) 333-6244</li>\\n<li>Tamara Howe<br/>3415 Lobortis. Avenue<br/>Rocky Mount WA 48580<br/>(655) 840-6139</li>\\n </ul> </body></html>\\n'"
      ]
     },
     "execution_count": 103,
     "metadata": {},
     "output_type": "execute_result"
    }
   ],
   "source": [
    "import urllib.request\n",
    "url = 'https://www.summet.com/dmsi/html/codesamples/addresses.html'\n",
    "response = urllib.request.urlopen(url)\n",
    "data = response.read()\n",
    "data = data.decode()\n",
    "data"
   ]
  },
  {
   "cell_type": "code",
   "execution_count": 105,
   "id": "74689581",
   "metadata": {},
   "outputs": [
    {
     "data": {
      "text/plain": [
       "['(257) 563-7401',\n",
       " '(372) 587-2335',\n",
       " '(786) 713-8616',\n",
       " '(793) 151-6230',\n",
       " '(492) 709-6392',\n",
       " '(654) 393-5734',\n",
       " '(404) 960-3807',\n",
       " '(314) 244-6306',\n",
       " '(947) 278-5929',\n",
       " '(684) 579-1879',\n",
       " '(389) 737-2852',\n",
       " '(660) 663-4518',\n",
       " '(608) 265-2215',\n",
       " '(959) 119-8364',\n",
       " '(468) 353-2641',\n",
       " '(248) 675-4007',\n",
       " '(939) 353-1107',\n",
       " '(570) 873-7090',\n",
       " '(302) 259-2375',\n",
       " '(717) 450-4729',\n",
       " '(453) 391-4650',\n",
       " '(559) 104-5475',\n",
       " '(387) 142-9434',\n",
       " '(516) 745-4496',\n",
       " '(326) 677-3419',\n",
       " '(746) 679-2470',\n",
       " '(455) 430-0989',\n",
       " '(490) 936-4694',\n",
       " '(985) 834-8285',\n",
       " '(662) 661-1446',\n",
       " '(802) 668-8240',\n",
       " '(477) 768-9247',\n",
       " '(791) 239-9057',\n",
       " '(832) 109-0213',\n",
       " '(837) 196-3274',\n",
       " '(268) 442-2428',\n",
       " '(850) 676-5117',\n",
       " '(861) 546-5032',\n",
       " '(176) 805-4108',\n",
       " '(715) 912-6931',\n",
       " '(993) 554-0563',\n",
       " '(357) 616-5411',\n",
       " '(121) 347-0086',\n",
       " '(304) 506-6314',\n",
       " '(425) 288-2332',\n",
       " '(145) 987-4962',\n",
       " '(187) 582-9707',\n",
       " '(750) 558-3965',\n",
       " '(492) 467-3131',\n",
       " '(774) 914-2510',\n",
       " '(888) 106-8550',\n",
       " '(539) 567-3573',\n",
       " '(693) 337-2849',\n",
       " '(545) 604-9386',\n",
       " '(221) 156-5026',\n",
       " '(414) 876-0865',\n",
       " '(932) 726-8645',\n",
       " '(726) 710-9826',\n",
       " '(622) 594-1662',\n",
       " '(948) 600-8503',\n",
       " '(605) 900-7508',\n",
       " '(716) 977-5775',\n",
       " '(368) 239-8275',\n",
       " '(725) 342-0650',\n",
       " '(711) 993-5187',\n",
       " '(882) 399-5084',\n",
       " '(287) 755-9948',\n",
       " '(659) 551-3389',\n",
       " '(275) 730-6868',\n",
       " '(725) 757-4047',\n",
       " '(314) 882-1496',\n",
       " '(639) 360-7590',\n",
       " '(168) 222-1592',\n",
       " '(896) 303-1164',\n",
       " '(203) 982-6130',\n",
       " '(906) 217-1470',\n",
       " '(614) 514-1269',\n",
       " '(763) 409-5446',\n",
       " '(836) 292-5324',\n",
       " '(926) 709-3295',\n",
       " '(963) 356-9268',\n",
       " '(736) 522-8584',\n",
       " '(410) 483-0352',\n",
       " '(252) 204-1434',\n",
       " '(874) 886-4174',\n",
       " '(581) 379-7573',\n",
       " '(983) 632-8597',\n",
       " '(295) 983-3476',\n",
       " '(873) 392-8802',\n",
       " '(360) 669-3923',\n",
       " '(840) 987-9449',\n",
       " '(422) 517-6053',\n",
       " '(126) 940-2753',\n",
       " '(427) 930-5255',\n",
       " '(689) 721-5145',\n",
       " '(676) 334-2174',\n",
       " '(437) 994-5270',\n",
       " '(564) 908-6970',\n",
       " '(577) 333-6244',\n",
       " '(655) 840-6139']"
      ]
     },
     "execution_count": 105,
     "metadata": {},
     "output_type": "execute_result"
    }
   ],
   "source": [
    "re.findall('\\(\\d{3}\\) \\d{3}-\\d{4}',data)"
   ]
  }
 ],
 "metadata": {
  "kernelspec": {
   "display_name": "Python 3 (ipykernel)",
   "language": "python",
   "name": "python3"
  },
  "language_info": {
   "codemirror_mode": {
    "name": "ipython",
    "version": 3
   },
   "file_extension": ".py",
   "mimetype": "text/x-python",
   "name": "python",
   "nbconvert_exporter": "python",
   "pygments_lexer": "ipython3",
   "version": "3.11.5"
  }
 },
 "nbformat": 4,
 "nbformat_minor": 5
}

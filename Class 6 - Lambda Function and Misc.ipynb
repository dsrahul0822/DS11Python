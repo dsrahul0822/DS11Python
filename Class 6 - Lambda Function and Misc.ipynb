{
 "cells": [
  {
   "cell_type": "markdown",
   "id": "90f3501d",
   "metadata": {},
   "source": [
    "# **Lambda Functions**\n",
    "\n",
    "\n",
    "**Nameless Functions, Anonymous Function, Without Name Function**"
   ]
  },
  {
   "cell_type": "code",
   "execution_count": 197,
   "id": "3d5ba68b",
   "metadata": {},
   "outputs": [],
   "source": [
    "def square(x):\n",
    "    print(x*x)"
   ]
  },
  {
   "cell_type": "code",
   "execution_count": 2,
   "id": "28f21fcd",
   "metadata": {},
   "outputs": [
    {
     "name": "stdout",
     "output_type": "stream",
     "text": [
      "100\n"
     ]
    }
   ],
   "source": [
    "square(10)"
   ]
  },
  {
   "cell_type": "code",
   "execution_count": 4,
   "id": "52fe9eac",
   "metadata": {},
   "outputs": [],
   "source": [
    "sq = lambda x:x*x"
   ]
  },
  {
   "cell_type": "code",
   "execution_count": 5,
   "id": "0d36b555",
   "metadata": {},
   "outputs": [
    {
     "data": {
      "text/plain": [
       "100"
      ]
     },
     "execution_count": 5,
     "metadata": {},
     "output_type": "execute_result"
    }
   ],
   "source": [
    "sq(10)"
   ]
  },
  {
   "cell_type": "code",
   "execution_count": 7,
   "id": "9f7d807b",
   "metadata": {},
   "outputs": [],
   "source": [
    "add = lambda a,b:a+b"
   ]
  },
  {
   "cell_type": "code",
   "execution_count": 8,
   "id": "2e2558d6",
   "metadata": {},
   "outputs": [
    {
     "data": {
      "text/plain": [
       "30"
      ]
     },
     "execution_count": 8,
     "metadata": {},
     "output_type": "execute_result"
    }
   ],
   "source": [
    "add(10,20)"
   ]
  },
  {
   "cell_type": "code",
   "execution_count": 9,
   "id": "1a4a8fa9",
   "metadata": {},
   "outputs": [],
   "source": [
    "calculate_interest = lambda amount, rate:amount*rate"
   ]
  },
  {
   "cell_type": "code",
   "execution_count": 10,
   "id": "6c4ec22e",
   "metadata": {},
   "outputs": [
    {
     "data": {
      "text/plain": [
       "50.0"
      ]
     },
     "execution_count": 10,
     "metadata": {},
     "output_type": "execute_result"
    }
   ],
   "source": [
    "principal = 1000\n",
    "interest_rate = 0.05\n",
    "calculate_interest(principal,interest_rate)"
   ]
  },
  {
   "cell_type": "code",
   "execution_count": 11,
   "id": "762a012d",
   "metadata": {},
   "outputs": [],
   "source": [
    "accounts = [{\"acc_num\":1234, \"balance\":5000},\n",
    "            {\"acc_num\":1111, \"balance\":3000},\n",
    "            {\"acc_num\":2222, \"balance\":6000},\n",
    "            {\"acc_num\":4321, \"balance\":10000},\n",
    "            {\"acc_num\":1000, \"balance\":1000}]"
   ]
  },
  {
   "cell_type": "code",
   "execution_count": 13,
   "id": "f8047748",
   "metadata": {},
   "outputs": [
    {
     "name": "stdout",
     "output_type": "stream",
     "text": [
      "[{'acc_num': 1000, 'balance': 1000}, {'acc_num': 1111, 'balance': 3000}, {'acc_num': 1234, 'balance': 5000}, {'acc_num': 2222, 'balance': 6000}, {'acc_num': 4321, 'balance': 10000}]\n"
     ]
    }
   ],
   "source": [
    "accounts.sort(key=lambda acc:acc[\"balance\"])\n",
    "print(accounts)"
   ]
  },
  {
   "cell_type": "code",
   "execution_count": 15,
   "id": "eda43569",
   "metadata": {},
   "outputs": [
    {
     "data": {
      "text/plain": [
       "10"
      ]
     },
     "execution_count": 15,
     "metadata": {},
     "output_type": "execute_result"
    }
   ],
   "source": [
    "calc_fees = lambda amount: 10 if amount<1000 else 50\n",
    "transaction_amount = 500\n",
    "calc_fees(transaction_amount)"
   ]
  },
  {
   "cell_type": "code",
   "execution_count": 18,
   "id": "714b4559",
   "metadata": {},
   "outputs": [
    {
     "ename": "SyntaxError",
     "evalue": "expected 'else' after 'if' expression (1788183753.py, line 1)",
     "output_type": "error",
     "traceback": [
      "\u001b[1;36m  Cell \u001b[1;32mIn[18], line 1\u001b[1;36m\u001b[0m\n\u001b[1;33m    10 if amount<1000 else 50 if amount=1000 else 100\u001b[0m\n\u001b[1;37m                           ^\u001b[0m\n\u001b[1;31mSyntaxError\u001b[0m\u001b[1;31m:\u001b[0m expected 'else' after 'if' expression\n"
     ]
    }
   ],
   "source": [
    "10 if amount<1000 else 50 if amount=1000 else 100"
   ]
  },
  {
   "cell_type": "code",
   "execution_count": 21,
   "id": "5c0617b9",
   "metadata": {},
   "outputs": [
    {
     "data": {
      "text/plain": [
       "50"
      ]
     },
     "execution_count": 21,
     "metadata": {},
     "output_type": "execute_result"
    }
   ],
   "source": [
    "amount=1000\n",
    "10 if amount<1000 else 50 if amount==1000 else 100"
   ]
  },
  {
   "cell_type": "code",
   "execution_count": 22,
   "id": "779c478d",
   "metadata": {},
   "outputs": [],
   "source": [
    "amount_list = [10000,15000,12000,11000]"
   ]
  },
  {
   "cell_type": "code",
   "execution_count": 23,
   "id": "ea8cc681",
   "metadata": {},
   "outputs": [],
   "source": [
    "calculate_interest = lambda amount, rate:amount*rate"
   ]
  },
  {
   "cell_type": "code",
   "execution_count": 29,
   "id": "bce55a6f",
   "metadata": {},
   "outputs": [],
   "source": [
    "output = []\n",
    "for i in amount_list:\n",
    "    output.append(calculate_interest(i,0.05))"
   ]
  },
  {
   "cell_type": "code",
   "execution_count": 30,
   "id": "92816885",
   "metadata": {},
   "outputs": [
    {
     "data": {
      "text/plain": [
       "[500.0, 750.0, 600.0, 550.0]"
      ]
     },
     "execution_count": 30,
     "metadata": {},
     "output_type": "execute_result"
    }
   ],
   "source": [
    "output"
   ]
  },
  {
   "cell_type": "code",
   "execution_count": 27,
   "id": "23264a67",
   "metadata": {},
   "outputs": [],
   "source": [
    "calculate_interest = lambda amount, rate:amount*rate\n",
    "output = calculate_interest(1000,0.05)"
   ]
  },
  {
   "cell_type": "code",
   "execution_count": 28,
   "id": "94226045",
   "metadata": {},
   "outputs": [
    {
     "data": {
      "text/plain": [
       "50.0"
      ]
     },
     "execution_count": 28,
     "metadata": {},
     "output_type": "execute_result"
    }
   ],
   "source": [
    "output"
   ]
  },
  {
   "cell_type": "code",
   "execution_count": 32,
   "id": "7bcc189a",
   "metadata": {},
   "outputs": [
    {
     "data": {
      "text/plain": [
       "[10, 14, 32, 22]"
      ]
     },
     "execution_count": 32,
     "metadata": {},
     "output_type": "execute_result"
    }
   ],
   "source": [
    "list_nm = [10,11,14,21,23,32,33,22]\n",
    "list(filter(lambda x:x%2==0,list_nm))"
   ]
  },
  {
   "cell_type": "code",
   "execution_count": 37,
   "id": "578a0c02",
   "metadata": {},
   "outputs": [],
   "source": [
    "def even_odd(x):\n",
    "    if x%2==0:\n",
    "        return True\n",
    "    else:\n",
    "        return False"
   ]
  },
  {
   "cell_type": "code",
   "execution_count": 39,
   "id": "75e9fd90",
   "metadata": {},
   "outputs": [
    {
     "data": {
      "text/plain": [
       "[10, 14, 32, 22]"
      ]
     },
     "execution_count": 39,
     "metadata": {},
     "output_type": "execute_result"
    }
   ],
   "source": [
    "list(filter(even_odd,list_nm))"
   ]
  },
  {
   "cell_type": "code",
   "execution_count": 40,
   "id": "a0f81dff",
   "metadata": {},
   "outputs": [],
   "source": [
    "accounts = [{\"acc_num\":1234, \"balance\":5000},\n",
    "            {\"acc_num\":1111, \"balance\":3000},\n",
    "            {\"acc_num\":2222, \"balance\":6000},\n",
    "            {\"acc_num\":4321, \"balance\":10000},\n",
    "            {\"acc_num\":1000, \"balance\":1000}]"
   ]
  },
  {
   "cell_type": "code",
   "execution_count": 41,
   "id": "d200165b",
   "metadata": {},
   "outputs": [
    {
     "data": {
      "text/plain": [
       "[{'acc_num': 1234, 'balance': 5000},\n",
       " {'acc_num': 2222, 'balance': 6000},\n",
       " {'acc_num': 4321, 'balance': 10000}]"
      ]
     },
     "execution_count": 41,
     "metadata": {},
     "output_type": "execute_result"
    }
   ],
   "source": [
    "list(filter(lambda acc:acc['balance']>4000, accounts))"
   ]
  },
  {
   "cell_type": "code",
   "execution_count": 42,
   "id": "a4232855",
   "metadata": {},
   "outputs": [
    {
     "data": {
      "text/plain": [
       "[10, 11, 14, 21, 23, 32, 33, 22]"
      ]
     },
     "execution_count": 42,
     "metadata": {},
     "output_type": "execute_result"
    }
   ],
   "source": [
    "list_nm"
   ]
  },
  {
   "cell_type": "code",
   "execution_count": 44,
   "id": "f727e658",
   "metadata": {},
   "outputs": [
    {
     "data": {
      "text/plain": [
       "[100, 121, 196, 441, 529, 1024, 1089, 484]"
      ]
     },
     "execution_count": 44,
     "metadata": {},
     "output_type": "execute_result"
    }
   ],
   "source": [
    "list(map(lambda x:x*x,list_nm))"
   ]
  },
  {
   "cell_type": "code",
   "execution_count": 45,
   "id": "6569629d",
   "metadata": {},
   "outputs": [
    {
     "data": {
      "text/plain": [
       "[50.0, 100.0, 150.0, 125.0, 250.0, 300.0]"
      ]
     },
     "execution_count": 45,
     "metadata": {},
     "output_type": "execute_result"
    }
   ],
   "source": [
    "account_balances = [1000,2000,3000,2500,5000,6000]\n",
    "interest_rate=0.05\n",
    "list(map(lambda balance:balance*interest_rate, account_balances))"
   ]
  },
  {
   "cell_type": "code",
   "execution_count": 65,
   "id": "d09e3718",
   "metadata": {},
   "outputs": [],
   "source": [
    "list_nm=[1,2,13,4,5]"
   ]
  },
  {
   "cell_type": "code",
   "execution_count": 63,
   "id": "c0bdff81",
   "metadata": {},
   "outputs": [
    {
     "data": {
      "text/plain": [
       "15"
      ]
     },
     "execution_count": 63,
     "metadata": {},
     "output_type": "execute_result"
    }
   ],
   "source": [
    "from functools import *\n",
    "reduce(lambda x,y:x+y, list_nm)"
   ]
  },
  {
   "cell_type": "code",
   "execution_count": 66,
   "id": "0729d481",
   "metadata": {},
   "outputs": [
    {
     "data": {
      "text/plain": [
       "13"
      ]
     },
     "execution_count": 66,
     "metadata": {},
     "output_type": "execute_result"
    }
   ],
   "source": [
    "from functools import *\n",
    "reduce(lambda x,y:max(x,y), list_nm)"
   ]
  },
  {
   "cell_type": "markdown",
   "id": "1f0dd079",
   "metadata": {},
   "source": [
    "# Nested Function"
   ]
  },
  {
   "cell_type": "code",
   "execution_count": 69,
   "id": "bc0fce22",
   "metadata": {},
   "outputs": [
    {
     "name": "stdout",
     "output_type": "stream",
     "text": [
      "Outer function is running\n",
      "Inner funtion is running\n"
     ]
    }
   ],
   "source": [
    "def outer():\n",
    "    print('Outer function is running')\n",
    "    def inner():\n",
    "        print('Inner funtion is running')\n",
    "    inner()\n",
    "    \n",
    "outer()"
   ]
  },
  {
   "cell_type": "code",
   "execution_count": 80,
   "id": "3653017a",
   "metadata": {},
   "outputs": [],
   "source": [
    "def calculator():\n",
    "    def add(num1,num2):\n",
    "        return num1+num2\n",
    "    def sub(num1,num2):\n",
    "        return num1-num2\n",
    "    def mul(num1,num2):\n",
    "        return num1*num2\n",
    "    def div(num1,num2):\n",
    "        return num1/num2\n",
    "    \n",
    "    num1 = int(input(\"Enter the number1: \"))\n",
    "    num2 = int(input(\"Enter the number2: \"))\n",
    "    operation = input(\"What you want to do?: \")\n",
    "    \n",
    "    if operation=='add':\n",
    "        print(\"Addition: \", add(num1,num2))\n",
    "    elif operation=='sub':\n",
    "        print(\"subtraction: \", sub(num1,num2))\n",
    "    elif operation=='mul':\n",
    "        print(\"multiplication: \", mul(num1,num2))\n",
    "    elif operation=='div':\n",
    "        print(\"division: \", div(num1,num2))\n",
    "    else:\n",
    "        print('Pass the correct operation value')"
   ]
  },
  {
   "cell_type": "code",
   "execution_count": 82,
   "id": "e6f63ef2",
   "metadata": {},
   "outputs": [
    {
     "name": "stdout",
     "output_type": "stream",
     "text": [
      "Enter the number1: 10\n",
      "Enter the number2: 5\n",
      "What you want to do?: timepass\n",
      "Pass the correct operation value\n"
     ]
    }
   ],
   "source": [
    "calculator()"
   ]
  },
  {
   "cell_type": "code",
   "execution_count": 83,
   "id": "2dc1235b",
   "metadata": {},
   "outputs": [],
   "source": [
    "def check_voting_eligibility(age):\n",
    "    def is_eligible():\n",
    "        return age>=18\n",
    "    \n",
    "    if is_eligible():\n",
    "        print('You are eligible for voting')\n",
    "    else:\n",
    "        print('You are not eligible for voting')"
   ]
  },
  {
   "cell_type": "code",
   "execution_count": 85,
   "id": "329fe4a8",
   "metadata": {},
   "outputs": [
    {
     "name": "stdout",
     "output_type": "stream",
     "text": [
      "You are eligible for voting\n"
     ]
    }
   ],
   "source": [
    "check_voting_eligibility(20)"
   ]
  },
  {
   "cell_type": "code",
   "execution_count": 95,
   "id": "ff07c3e2",
   "metadata": {},
   "outputs": [],
   "source": [
    "def convert_curreny(amount,rate):\n",
    "    def apply_conversion():\n",
    "        return(amount*rate)\n",
    "    \n",
    "    converted_amount = apply_conversion()\n",
    "    print(converted_amount)"
   ]
  },
  {
   "cell_type": "code",
   "execution_count": 96,
   "id": "ec2bdd57",
   "metadata": {},
   "outputs": [
    {
     "name": "stdout",
     "output_type": "stream",
     "text": [
      "83000\n"
     ]
    }
   ],
   "source": [
    "convert_curreny(1000,83)"
   ]
  },
  {
   "cell_type": "code",
   "execution_count": 170,
   "id": "0f73d942",
   "metadata": {},
   "outputs": [],
   "source": [
    "import random\n",
    "\n",
    "def generate_captcha():\n",
    "    def generate_random_digit():\n",
    "        return random.randint(0,9)\n",
    "    \n",
    "    def generate_random_lletter():\n",
    "        return chr(random.randint(97,122))\n",
    "    \n",
    "    def generate_random_uletter():\n",
    "        return chr(random.randint(65,90))\n",
    " \n",
    "    captcha = \"\"\n",
    "    for i in range(0,6):\n",
    "        output = random.choice(['Number','LowerChar','UpperChar'])\n",
    "        if output=='Number':\n",
    "            captcha = captcha+str(generate_random_digit())\n",
    "        elif output=='UpperChar':\n",
    "            captcha = captcha+str(generate_random_uletter())\n",
    "        else:\n",
    "            captcha = captcha+str(generate_random_lletter())\n",
    "            \n",
    "            \n",
    "    print(\"Generated Capcha: \", captcha)"
   ]
  },
  {
   "cell_type": "code",
   "execution_count": 196,
   "id": "d85dde96",
   "metadata": {},
   "outputs": [
    {
     "name": "stdout",
     "output_type": "stream",
     "text": [
      "Generated Capcha:  9k3wQd\n"
     ]
    }
   ],
   "source": [
    "generate_captcha()"
   ]
  }
 ],
 "metadata": {
  "kernelspec": {
   "display_name": "Python 3 (ipykernel)",
   "language": "python",
   "name": "python3"
  },
  "language_info": {
   "codemirror_mode": {
    "name": "ipython",
    "version": 3
   },
   "file_extension": ".py",
   "mimetype": "text/x-python",
   "name": "python",
   "nbconvert_exporter": "python",
   "pygments_lexer": "ipython3",
   "version": "3.11.5"
  }
 },
 "nbformat": 4,
 "nbformat_minor": 5
}

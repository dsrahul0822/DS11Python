{
 "cells": [
  {
   "cell_type": "markdown",
   "id": "38dcc160",
   "metadata": {},
   "source": [
    "**Functions**\n",
    "\n",
    "Reusable codes, which we can reuse in our big codes, it reduces the lines of codes. \n",
    "\n",
    "def - Means we are defining a function\n",
    "\n",
    "greeting() - Function name, the purpose of this function is to greet the learners. The purpose of\n",
    "the bracket is to pass the input parameter. "
   ]
  },
  {
   "cell_type": "code",
   "execution_count": 1,
   "id": "16fc7a8b",
   "metadata": {},
   "outputs": [],
   "source": [
    "def greeting():\n",
    "    print('Good Morning')"
   ]
  },
  {
   "cell_type": "code",
   "execution_count": 2,
   "id": "3fa9478b",
   "metadata": {},
   "outputs": [
    {
     "name": "stdout",
     "output_type": "stream",
     "text": [
      "Good Morning\n"
     ]
    }
   ],
   "source": [
    "greeting()"
   ]
  },
  {
   "cell_type": "code",
   "execution_count": 4,
   "id": "860fe8cf",
   "metadata": {},
   "outputs": [
    {
     "name": "stdout",
     "output_type": "stream",
     "text": [
      "Good Morning\n",
      "Good Morning\n",
      "Good Morning\n",
      "Good Morning\n",
      "Good Morning\n",
      "Good Morning\n",
      "Good Morning\n"
     ]
    }
   ],
   "source": [
    "for i in range(0,7):\n",
    "    greeting()"
   ]
  },
  {
   "cell_type": "code",
   "execution_count": 5,
   "id": "c64db1da",
   "metadata": {},
   "outputs": [],
   "source": [
    "def greeting(name):\n",
    "    print('Good Morning', name)"
   ]
  },
  {
   "cell_type": "code",
   "execution_count": 7,
   "id": "6d3775ee",
   "metadata": {},
   "outputs": [
    {
     "name": "stdout",
     "output_type": "stream",
     "text": [
      "Good Morning A\n"
     ]
    }
   ],
   "source": [
    "greeting('A')"
   ]
  },
  {
   "cell_type": "code",
   "execution_count": 8,
   "id": "05c400a2",
   "metadata": {},
   "outputs": [
    {
     "name": "stdout",
     "output_type": "stream",
     "text": [
      "Good Morning A\n",
      "Good Morning B\n",
      "Good Morning C\n",
      "Good Morning D\n",
      "Good Morning E\n"
     ]
    }
   ],
   "source": [
    "learners = ['A','B','C','D','E']\n",
    "for i in learners:\n",
    "    greeting(i)"
   ]
  },
  {
   "cell_type": "code",
   "execution_count": 15,
   "id": "a98b3d63",
   "metadata": {},
   "outputs": [],
   "source": [
    "def greeting(name='Learner'):\n",
    "    '''This function will greet the learners'''\n",
    "    print('Good Morning', name)"
   ]
  },
  {
   "cell_type": "code",
   "execution_count": 10,
   "id": "15e8487c",
   "metadata": {},
   "outputs": [
    {
     "name": "stdout",
     "output_type": "stream",
     "text": [
      "Good Morning A\n"
     ]
    }
   ],
   "source": [
    "greeting('A')"
   ]
  },
  {
   "cell_type": "code",
   "execution_count": 11,
   "id": "89802818",
   "metadata": {},
   "outputs": [
    {
     "name": "stdout",
     "output_type": "stream",
     "text": [
      "Good Morning Learner\n"
     ]
    }
   ],
   "source": [
    "greeting()"
   ]
  },
  {
   "cell_type": "code",
   "execution_count": 16,
   "id": "289f78f7",
   "metadata": {},
   "outputs": [],
   "source": [
    "def calculator(num1,num2,operation='all'):\n",
    "    '''In the operation you can pass these values i.e. default, sum, sub, mul, div'''\n",
    "    if operation=='all':\n",
    "        print(num1+num2)\n",
    "        print(num1-num2)\n",
    "        print(num1*num2)\n",
    "        print(num1/num2)\n",
    "    \n",
    "    elif operation=='sum':\n",
    "        print(num1+num2)\n",
    "    \n",
    "    elif operation=='sub':\n",
    "        print(num1-num2)\n",
    "        \n",
    "    elif operation=='mul':\n",
    "        print(num1*num2)\n",
    "        \n",
    "    elif operation=='div':\n",
    "        print(num1/num2)\n",
    "        \n",
    "    else:\n",
    "        print('Please pass the correct operation value')\n",
    "    "
   ]
  },
  {
   "cell_type": "code",
   "execution_count": 26,
   "id": "18786cd6",
   "metadata": {},
   "outputs": [
    {
     "name": "stdout",
     "output_type": "stream",
     "text": [
      "12\n",
      "8\n",
      "20\n",
      "5.0\n"
     ]
    }
   ],
   "source": [
    "output = calculator(10,2)"
   ]
  },
  {
   "cell_type": "code",
   "execution_count": 58,
   "id": "696ecd64",
   "metadata": {},
   "outputs": [
    {
     "data": {
      "text/plain": [
       "NoneType"
      ]
     },
     "execution_count": 58,
     "metadata": {},
     "output_type": "execute_result"
    }
   ],
   "source": [
    "type(output)"
   ]
  },
  {
   "cell_type": "code",
   "execution_count": 68,
   "id": "796df60c",
   "metadata": {},
   "outputs": [],
   "source": [
    "def calculator(num1,num2,operation='all'):\n",
    "    '''In the operation you can pass these values i.e. default, sum, sub, mul, div'''\n",
    "    if operation=='all':\n",
    "        return num1+num2, num1-num2, num1*num2, num1/num2\n",
    "    \n",
    "    elif operation=='sum':\n",
    "        return(num1+num2)\n",
    "    \n",
    "    elif operation=='sub':\n",
    "        return(num1-num2)\n",
    "        \n",
    "    elif operation=='mul':\n",
    "        return(num1*num2)\n",
    "        \n",
    "    elif operation=='div':\n",
    "        return(num1/num2)\n",
    "        \n",
    "    else:\n",
    "        return('Please pass the correct operation value')\n",
    "    "
   ]
  },
  {
   "cell_type": "code",
   "execution_count": 71,
   "id": "e22306d3",
   "metadata": {},
   "outputs": [],
   "source": [
    "output = calculator(224324234543,212323423432)"
   ]
  },
  {
   "cell_type": "code",
   "execution_count": 72,
   "id": "6798e99f",
   "metadata": {},
   "outputs": [
    {
     "data": {
      "text/plain": [
       "(436647657975, 12000811111, 47629289436932670011576, 1.0565213715802932)"
      ]
     },
     "execution_count": 72,
     "metadata": {},
     "output_type": "execute_result"
    }
   ],
   "source": [
    "output"
   ]
  },
  {
   "cell_type": "code",
   "execution_count": 73,
   "id": "c4345e0e",
   "metadata": {},
   "outputs": [],
   "source": [
    "def calculator(num1,num2,operation='all'):\n",
    "    '''In the operation you can pass these values i.e. default, sum, sub, mul, div'''\n",
    "    if operation=='all':\n",
    "        return {'num1+num2':num1+num2, 'num1-num2':num1-num2, 'num1*num2':num1*num2, 'num1/num2':num1/num2}\n",
    "    \n",
    "    elif operation=='sum':\n",
    "        return(num1+num2)\n",
    "    \n",
    "    elif operation=='sub':\n",
    "        return(num1-num2)\n",
    "        \n",
    "    elif operation=='mul':\n",
    "        return(num1*num2)\n",
    "        \n",
    "    elif operation=='div':\n",
    "        return(num1/num2)\n",
    "        \n",
    "    else:\n",
    "        return('Please pass the correct operation value')\n",
    "    "
   ]
  },
  {
   "cell_type": "code",
   "execution_count": 75,
   "id": "97e3a322",
   "metadata": {},
   "outputs": [],
   "source": [
    "output= calculator(343453453423,1232342445)"
   ]
  },
  {
   "cell_type": "code",
   "execution_count": 77,
   "id": "a0aa9bae",
   "metadata": {},
   "outputs": [
    {
     "data": {
      "text/plain": [
       "dict"
      ]
     },
     "execution_count": 77,
     "metadata": {},
     "output_type": "execute_result"
    }
   ],
   "source": [
    "type(output)"
   ]
  },
  {
   "cell_type": "code",
   "execution_count": 80,
   "id": "98c9ebd8",
   "metadata": {},
   "outputs": [
    {
     "name": "stdout",
     "output_type": "stream",
     "text": [
      "Enter the first number: 10\n",
      "Enter the second number: 2\n",
      "Enter the operation type: all\n"
     ]
    },
    {
     "data": {
      "text/plain": [
       "{'num1+num2': 12, 'num1-num2': 8, 'num1*num2': 20, 'num1/num2': 5.0}"
      ]
     },
     "execution_count": 80,
     "metadata": {},
     "output_type": "execute_result"
    }
   ],
   "source": [
    "num1 = int(input('Enter the first number: '))\n",
    "num2 = int(input('Enter the second number: '))\n",
    "operation = input('Enter the operation type: ')\n",
    "calculator(num1,num2,operation)"
   ]
  },
  {
   "cell_type": "code",
   "execution_count": 81,
   "id": "5b24d3ad",
   "metadata": {},
   "outputs": [],
   "source": [
    "def factorial(num):\n",
    "    if num<0:\n",
    "        print('There is no factorial of a negative number')\n",
    "    else:\n",
    "        result = 1\n",
    "        while num>=1:\n",
    "            result = result*num\n",
    "            num=num-1\n",
    "        return result"
   ]
  },
  {
   "cell_type": "code",
   "execution_count": 84,
   "id": "760fcd2f",
   "metadata": {},
   "outputs": [
    {
     "name": "stdout",
     "output_type": "stream",
     "text": [
      "There is no factorial of a negative number\n"
     ]
    }
   ],
   "source": [
    "factorial(-5)"
   ]
  },
  {
   "cell_type": "code",
   "execution_count": 88,
   "id": "15a95afb",
   "metadata": {},
   "outputs": [],
   "source": [
    "def addition(num1,num2,num3):\n",
    "    print(num1+num2+num3)"
   ]
  },
  {
   "cell_type": "code",
   "execution_count": 89,
   "id": "e5418972",
   "metadata": {},
   "outputs": [
    {
     "name": "stdout",
     "output_type": "stream",
     "text": [
      "22\n"
     ]
    }
   ],
   "source": [
    "addition(10,2,10)"
   ]
  },
  {
   "cell_type": "markdown",
   "id": "68de6f29",
   "metadata": {},
   "source": [
    "**Variable length argument - It varies** "
   ]
  },
  {
   "cell_type": "code",
   "execution_count": 90,
   "id": "caa74eb7",
   "metadata": {},
   "outputs": [],
   "source": [
    "def addition(*num):\n",
    "    result = 0 \n",
    "    for i in num:\n",
    "        result = result + i\n",
    "    print(result)\n",
    "    "
   ]
  },
  {
   "cell_type": "code",
   "execution_count": 94,
   "id": "4b3c0892",
   "metadata": {},
   "outputs": [
    {
     "name": "stdout",
     "output_type": "stream",
     "text": [
      "19\n"
     ]
    }
   ],
   "source": [
    "addition(10,2,3,4)"
   ]
  },
  {
   "cell_type": "markdown",
   "id": "f12ad26f",
   "metadata": {},
   "source": [
    "Types of Variables in the functions \n",
    "\n",
    "1) Global - Any variable which we are declaring anywhere but not in the function \n",
    "\n",
    "2) Local - Any variable which we are declaring inside the function, which can be access inside the function only\n",
    "\n",
    "Local variable always takes the priority"
   ]
  },
  {
   "cell_type": "code",
   "execution_count": 100,
   "id": "8e76061d",
   "metadata": {},
   "outputs": [
    {
     "name": "stdout",
     "output_type": "stream",
     "text": [
      "F1: 1000\n",
      "F2:  1000\n"
     ]
    }
   ],
   "source": [
    "a = 10\n",
    "def f1():\n",
    "    global a\n",
    "    a=1000\n",
    "    print('F1:', a)\n",
    "    \n",
    "f1()\n",
    "\n",
    "def f2():\n",
    "    print('F2: ', a)\n",
    "    \n",
    "f2()"
   ]
  }
 ],
 "metadata": {
  "kernelspec": {
   "display_name": "Python 3 (ipykernel)",
   "language": "python",
   "name": "python3"
  },
  "language_info": {
   "codemirror_mode": {
    "name": "ipython",
    "version": 3
   },
   "file_extension": ".py",
   "mimetype": "text/x-python",
   "name": "python",
   "nbconvert_exporter": "python",
   "pygments_lexer": "ipython3",
   "version": "3.11.5"
  }
 },
 "nbformat": 4,
 "nbformat_minor": 5
}

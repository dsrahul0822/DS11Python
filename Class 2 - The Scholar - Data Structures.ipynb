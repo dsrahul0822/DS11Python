{
 "cells": [
  {
   "cell_type": "markdown",
   "id": "c59beee6",
   "metadata": {},
   "source": [
    "# Lists"
   ]
  },
  {
   "cell_type": "code",
   "execution_count": 48,
   "id": "d3d60b15",
   "metadata": {},
   "outputs": [],
   "source": [
    "ages = [21,43,33,21,23,22,32]"
   ]
  },
  {
   "cell_type": "code",
   "execution_count": 3,
   "id": "ade1d7b8",
   "metadata": {},
   "outputs": [
    {
     "data": {
      "text/plain": [
       "list"
      ]
     },
     "execution_count": 3,
     "metadata": {},
     "output_type": "execute_result"
    }
   ],
   "source": [
    "type(ages)"
   ]
  },
  {
   "cell_type": "code",
   "execution_count": 4,
   "id": "689266f7",
   "metadata": {},
   "outputs": [],
   "source": [
    "list1 = ['A',10,15.5,True]"
   ]
  },
  {
   "cell_type": "code",
   "execution_count": 5,
   "id": "15fc6b68",
   "metadata": {},
   "outputs": [
    {
     "data": {
      "text/plain": [
       "bool"
      ]
     },
     "execution_count": 5,
     "metadata": {},
     "output_type": "execute_result"
    }
   ],
   "source": [
    "type(list1[3])"
   ]
  },
  {
   "cell_type": "code",
   "execution_count": 6,
   "id": "6fd75553",
   "metadata": {},
   "outputs": [
    {
     "data": {
      "text/plain": [
       "[43, 33, 21, 23]"
      ]
     },
     "execution_count": 6,
     "metadata": {},
     "output_type": "execute_result"
    }
   ],
   "source": [
    "ages[1:5]"
   ]
  },
  {
   "cell_type": "code",
   "execution_count": 7,
   "id": "2631018d",
   "metadata": {},
   "outputs": [
    {
     "data": {
      "text/plain": [
       "[22, 23, 21, 33]"
      ]
     },
     "execution_count": 7,
     "metadata": {},
     "output_type": "execute_result"
    }
   ],
   "source": [
    "ages[5:1:-1]"
   ]
  },
  {
   "cell_type": "code",
   "execution_count": 8,
   "id": "72ed3edd",
   "metadata": {},
   "outputs": [
    {
     "data": {
      "text/plain": [
       "32"
      ]
     },
     "execution_count": 8,
     "metadata": {},
     "output_type": "execute_result"
    }
   ],
   "source": [
    "ages[-1]"
   ]
  },
  {
   "cell_type": "code",
   "execution_count": null,
   "id": "71e6dcde",
   "metadata": {},
   "outputs": [],
   "source": [
    "Properties of Lists are\n",
    "    1) Insertion order is preserved \n",
    "    2) Duplicates are allowed\n",
    "    3) Heterogeneous data allowed\n",
    "    4) Growable in nature\n",
    "    5) Lists are always enclosed in the square bracket\n",
    "    6) Mutable in nature"
   ]
  },
  {
   "cell_type": "code",
   "execution_count": 9,
   "id": "3d7a3d68",
   "metadata": {},
   "outputs": [],
   "source": [
    "ages[0]=22"
   ]
  },
  {
   "cell_type": "code",
   "execution_count": 10,
   "id": "6bd047a2",
   "metadata": {},
   "outputs": [
    {
     "data": {
      "text/plain": [
       "[22, 43, 33, 21, 23, 22, 32]"
      ]
     },
     "execution_count": 10,
     "metadata": {},
     "output_type": "execute_result"
    }
   ],
   "source": [
    "ages"
   ]
  },
  {
   "cell_type": "code",
   "execution_count": 12,
   "id": "de79950d",
   "metadata": {},
   "outputs": [
    {
     "data": {
      "text/plain": [
       "2507087109696"
      ]
     },
     "execution_count": 12,
     "metadata": {},
     "output_type": "execute_result"
    }
   ],
   "source": [
    "id(ages)"
   ]
  },
  {
   "cell_type": "code",
   "execution_count": 15,
   "id": "8bf046ad",
   "metadata": {},
   "outputs": [],
   "source": [
    "ages[-1]=100"
   ]
  },
  {
   "cell_type": "code",
   "execution_count": 17,
   "id": "1b78eaa0",
   "metadata": {},
   "outputs": [
    {
     "data": {
      "text/plain": [
       "2507087109696"
      ]
     },
     "execution_count": 17,
     "metadata": {},
     "output_type": "execute_result"
    }
   ],
   "source": [
    "id(ages)"
   ]
  },
  {
   "cell_type": "code",
   "execution_count": 19,
   "id": "27a27279",
   "metadata": {},
   "outputs": [],
   "source": [
    "ages.append(120)"
   ]
  },
  {
   "cell_type": "code",
   "execution_count": 22,
   "id": "14ce1348",
   "metadata": {},
   "outputs": [],
   "source": [
    "ages.append([130,140,150])"
   ]
  },
  {
   "cell_type": "code",
   "execution_count": 23,
   "id": "b4ee4d84",
   "metadata": {},
   "outputs": [
    {
     "data": {
      "text/plain": [
       "[22, 43, 33, 21, 23, 22, 100, 120, [130, 140, 150]]"
      ]
     },
     "execution_count": 23,
     "metadata": {},
     "output_type": "execute_result"
    }
   ],
   "source": [
    "ages"
   ]
  },
  {
   "cell_type": "code",
   "execution_count": 25,
   "id": "4c537db6",
   "metadata": {},
   "outputs": [
    {
     "data": {
      "text/plain": [
       "140"
      ]
     },
     "execution_count": 25,
     "metadata": {},
     "output_type": "execute_result"
    }
   ],
   "source": [
    "ages[8][1]"
   ]
  },
  {
   "cell_type": "code",
   "execution_count": 28,
   "id": "0618c65c",
   "metadata": {},
   "outputs": [
    {
     "data": {
      "text/plain": [
       "[22, 43, 33, 21, 23, 22, 100, 120, [130, 140, 150]]"
      ]
     },
     "execution_count": 28,
     "metadata": {},
     "output_type": "execute_result"
    }
   ],
   "source": [
    "ages"
   ]
  },
  {
   "cell_type": "code",
   "execution_count": 29,
   "id": "70491060",
   "metadata": {},
   "outputs": [],
   "source": [
    "ages.remove([130, 140, 150])"
   ]
  },
  {
   "cell_type": "code",
   "execution_count": 31,
   "id": "4d2cb1f4",
   "metadata": {},
   "outputs": [],
   "source": [
    "del ages[-1]"
   ]
  },
  {
   "cell_type": "code",
   "execution_count": 33,
   "id": "8c294d83",
   "metadata": {},
   "outputs": [],
   "source": [
    "del ages"
   ]
  },
  {
   "cell_type": "code",
   "execution_count": 43,
   "id": "5f5d6d02",
   "metadata": {},
   "outputs": [
    {
     "data": {
      "text/plain": [
       "43"
      ]
     },
     "execution_count": 43,
     "metadata": {},
     "output_type": "execute_result"
    }
   ],
   "source": [
    "ages.pop(1)"
   ]
  },
  {
   "cell_type": "code",
   "execution_count": 44,
   "id": "bd1a63fe",
   "metadata": {},
   "outputs": [
    {
     "data": {
      "text/plain": [
       "[21, 33, 21]"
      ]
     },
     "execution_count": 44,
     "metadata": {},
     "output_type": "execute_result"
    }
   ],
   "source": [
    "ages"
   ]
  },
  {
   "cell_type": "code",
   "execution_count": 46,
   "id": "c4a27e01",
   "metadata": {},
   "outputs": [],
   "source": [
    "ages.clear()"
   ]
  },
  {
   "cell_type": "code",
   "execution_count": 50,
   "id": "20577534",
   "metadata": {},
   "outputs": [],
   "source": [
    "ages1 = ages.copy()"
   ]
  },
  {
   "cell_type": "code",
   "execution_count": 51,
   "id": "b0eb5e19",
   "metadata": {},
   "outputs": [
    {
     "data": {
      "text/plain": [
       "[21, 43, 33, 21, 23, 22, 32]"
      ]
     },
     "execution_count": 51,
     "metadata": {},
     "output_type": "execute_result"
    }
   ],
   "source": [
    "ages"
   ]
  },
  {
   "cell_type": "code",
   "execution_count": 56,
   "id": "e10641eb",
   "metadata": {},
   "outputs": [
    {
     "data": {
      "text/plain": [
       "2507090252480"
      ]
     },
     "execution_count": 56,
     "metadata": {},
     "output_type": "execute_result"
    }
   ],
   "source": [
    "id(ages1)"
   ]
  },
  {
   "cell_type": "code",
   "execution_count": 53,
   "id": "04cb625a",
   "metadata": {},
   "outputs": [],
   "source": [
    "ages2 = ages"
   ]
  },
  {
   "cell_type": "code",
   "execution_count": 57,
   "id": "016a3c27",
   "metadata": {},
   "outputs": [
    {
     "data": {
      "text/plain": [
       "2507087029440"
      ]
     },
     "execution_count": 57,
     "metadata": {},
     "output_type": "execute_result"
    }
   ],
   "source": [
    "id(ages)"
   ]
  },
  {
   "cell_type": "code",
   "execution_count": 58,
   "id": "4009b710",
   "metadata": {},
   "outputs": [
    {
     "data": {
      "text/plain": [
       "2507087029440"
      ]
     },
     "execution_count": 58,
     "metadata": {},
     "output_type": "execute_result"
    }
   ],
   "source": [
    "id(ages2)"
   ]
  },
  {
   "cell_type": "code",
   "execution_count": 60,
   "id": "8b467c8a",
   "metadata": {},
   "outputs": [],
   "source": [
    "ages[0]=22"
   ]
  },
  {
   "cell_type": "code",
   "execution_count": 61,
   "id": "bea8bc2a",
   "metadata": {},
   "outputs": [
    {
     "data": {
      "text/plain": [
       "[21, 43, 33, 21, 23, 22, 32]"
      ]
     },
     "execution_count": 61,
     "metadata": {},
     "output_type": "execute_result"
    }
   ],
   "source": [
    "ages1"
   ]
  },
  {
   "cell_type": "code",
   "execution_count": 62,
   "id": "2c6ce7df",
   "metadata": {},
   "outputs": [
    {
     "data": {
      "text/plain": [
       "[22, 43, 33, 21, 23, 22, 32]"
      ]
     },
     "execution_count": 62,
     "metadata": {},
     "output_type": "execute_result"
    }
   ],
   "source": [
    "ages2"
   ]
  },
  {
   "cell_type": "code",
   "execution_count": 63,
   "id": "7c511998",
   "metadata": {},
   "outputs": [],
   "source": [
    "del ages2"
   ]
  },
  {
   "cell_type": "code",
   "execution_count": 64,
   "id": "455b69c1",
   "metadata": {},
   "outputs": [
    {
     "data": {
      "text/plain": [
       "[22, 43, 33, 21, 23, 22, 32]"
      ]
     },
     "execution_count": 64,
     "metadata": {},
     "output_type": "execute_result"
    }
   ],
   "source": [
    "ages"
   ]
  },
  {
   "cell_type": "code",
   "execution_count": 66,
   "id": "38f80a5c",
   "metadata": {},
   "outputs": [
    {
     "data": {
      "text/plain": [
       "2"
      ]
     },
     "execution_count": 66,
     "metadata": {},
     "output_type": "execute_result"
    }
   ],
   "source": [
    "ages.count(22)"
   ]
  },
  {
   "cell_type": "code",
   "execution_count": 67,
   "id": "c056d949",
   "metadata": {},
   "outputs": [
    {
     "data": {
      "text/plain": [
       "[22, 43, 33, 21, 23, 22, 32]"
      ]
     },
     "execution_count": 67,
     "metadata": {},
     "output_type": "execute_result"
    }
   ],
   "source": [
    "ages"
   ]
  },
  {
   "cell_type": "code",
   "execution_count": 69,
   "id": "97e5e4ae",
   "metadata": {},
   "outputs": [],
   "source": [
    "ages.extend([100,120,140])"
   ]
  },
  {
   "cell_type": "code",
   "execution_count": 71,
   "id": "fef1a484",
   "metadata": {},
   "outputs": [
    {
     "data": {
      "text/plain": [
       "0"
      ]
     },
     "execution_count": 71,
     "metadata": {},
     "output_type": "execute_result"
    }
   ],
   "source": [
    "ages.index(22)"
   ]
  },
  {
   "cell_type": "code",
   "execution_count": 73,
   "id": "a793b706",
   "metadata": {},
   "outputs": [],
   "source": [
    "ages.insert(3,1000)"
   ]
  },
  {
   "cell_type": "code",
   "execution_count": 75,
   "id": "5d35d909",
   "metadata": {},
   "outputs": [],
   "source": [
    "ages.reverse()"
   ]
  },
  {
   "cell_type": "code",
   "execution_count": 77,
   "id": "dc7ea1bf",
   "metadata": {},
   "outputs": [],
   "source": [
    "ages.sort()"
   ]
  },
  {
   "cell_type": "code",
   "execution_count": 79,
   "id": "35bc0979",
   "metadata": {},
   "outputs": [],
   "source": [
    "ages.sort(reverse=True)"
   ]
  },
  {
   "cell_type": "code",
   "execution_count": 80,
   "id": "9ec278de",
   "metadata": {},
   "outputs": [
    {
     "data": {
      "text/plain": [
       "[1000, 140, 120, 100, 43, 33, 32, 23, 22, 22, 21]"
      ]
     },
     "execution_count": 80,
     "metadata": {},
     "output_type": "execute_result"
    }
   ],
   "source": [
    "ages"
   ]
  },
  {
   "cell_type": "markdown",
   "id": "af323733",
   "metadata": {},
   "source": [
    "# Tuples"
   ]
  },
  {
   "cell_type": "code",
   "execution_count": 81,
   "id": "710ef32d",
   "metadata": {},
   "outputs": [],
   "source": [
    "salary = (21.4,'A',True,10)"
   ]
  },
  {
   "cell_type": "code",
   "execution_count": null,
   "id": "1911f340",
   "metadata": {},
   "outputs": [],
   "source": [
    "Properties of Tuples are\n",
    "    1) Insertion order is preserved \n",
    "    2) Duplicates are allowed\n",
    "    3) Heterogeneous data allowed\n",
    "    5) Tuples are always enclosed in the normal bracket\n",
    "    6) Immutable in nature"
   ]
  },
  {
   "cell_type": "code",
   "execution_count": 83,
   "id": "1f5fb770",
   "metadata": {},
   "outputs": [
    {
     "data": {
      "text/plain": [
       "tuple"
      ]
     },
     "execution_count": 83,
     "metadata": {},
     "output_type": "execute_result"
    }
   ],
   "source": [
    "type(salary)"
   ]
  },
  {
   "cell_type": "code",
   "execution_count": 85,
   "id": "d6f4c45b",
   "metadata": {},
   "outputs": [
    {
     "ename": "TypeError",
     "evalue": "'tuple' object does not support item assignment",
     "output_type": "error",
     "traceback": [
      "\u001b[1;31m---------------------------------------------------------------------------\u001b[0m",
      "\u001b[1;31mTypeError\u001b[0m                                 Traceback (most recent call last)",
      "Cell \u001b[1;32mIn[85], line 1\u001b[0m\n\u001b[1;32m----> 1\u001b[0m salary[\u001b[38;5;241m2\u001b[39m]\u001b[38;5;241m=\u001b[39m\u001b[38;5;28;01mFalse\u001b[39;00m\n",
      "\u001b[1;31mTypeError\u001b[0m: 'tuple' object does not support item assignment"
     ]
    }
   ],
   "source": [
    "salary[2]=False"
   ]
  },
  {
   "cell_type": "code",
   "execution_count": 86,
   "id": "8b9d2686",
   "metadata": {},
   "outputs": [
    {
     "data": {
      "text/plain": [
       "1"
      ]
     },
     "execution_count": 86,
     "metadata": {},
     "output_type": "execute_result"
    }
   ],
   "source": [
    "salary.count('A')"
   ]
  },
  {
   "cell_type": "code",
   "execution_count": 87,
   "id": "3ecdf4ef",
   "metadata": {},
   "outputs": [
    {
     "data": {
      "text/plain": [
       "1"
      ]
     },
     "execution_count": 87,
     "metadata": {},
     "output_type": "execute_result"
    }
   ],
   "source": [
    "salary.index('A')"
   ]
  },
  {
   "cell_type": "code",
   "execution_count": 89,
   "id": "0dcc3f56",
   "metadata": {},
   "outputs": [],
   "source": [
    "del salary"
   ]
  },
  {
   "cell_type": "code",
   "execution_count": 90,
   "id": "d316d8af",
   "metadata": {},
   "outputs": [],
   "source": [
    "salary = (21.4,'A',True,10)"
   ]
  },
  {
   "cell_type": "code",
   "execution_count": 92,
   "id": "34000a52",
   "metadata": {},
   "outputs": [],
   "source": [
    "a = list(salary)"
   ]
  },
  {
   "cell_type": "code",
   "execution_count": 95,
   "id": "a0c20552",
   "metadata": {},
   "outputs": [],
   "source": [
    "a[2]=False"
   ]
  },
  {
   "cell_type": "code",
   "execution_count": 98,
   "id": "02270d8f",
   "metadata": {},
   "outputs": [],
   "source": [
    "salary = tuple(a)"
   ]
  },
  {
   "cell_type": "code",
   "execution_count": 97,
   "id": "af317400",
   "metadata": {},
   "outputs": [
    {
     "data": {
      "text/plain": [
       "2507073436256"
      ]
     },
     "execution_count": 97,
     "metadata": {},
     "output_type": "execute_result"
    }
   ],
   "source": [
    "id(salary)"
   ]
  },
  {
   "cell_type": "code",
   "execution_count": 99,
   "id": "bcd7502f",
   "metadata": {},
   "outputs": [
    {
     "data": {
      "text/plain": [
       "2507090499424"
      ]
     },
     "execution_count": 99,
     "metadata": {},
     "output_type": "execute_result"
    }
   ],
   "source": [
    "id(salary\n",
    ")"
   ]
  },
  {
   "cell_type": "code",
   "execution_count": 100,
   "id": "fabb503e",
   "metadata": {},
   "outputs": [
    {
     "data": {
      "text/plain": [
       "(21.4, 'A', False, 10)"
      ]
     },
     "execution_count": 100,
     "metadata": {},
     "output_type": "execute_result"
    }
   ],
   "source": [
    "salary"
   ]
  },
  {
   "cell_type": "markdown",
   "id": "bfa4255c",
   "metadata": {},
   "source": [
    "# Sets"
   ]
  },
  {
   "cell_type": "code",
   "execution_count": null,
   "id": "397e27b8",
   "metadata": {},
   "outputs": [],
   "source": [
    "Properties of Sets are\n",
    "    1) Insertion order is preserved - No (Data will always be sorted)\n",
    "    2) Duplicates are allowed - No\n",
    "    3) Heterogeneous data allowed - Yes\n",
    "    5) Sets are always enclosed in the curly bracket\n",
    "    6) Mutable in nature\n",
    "    7) Does not support index"
   ]
  },
  {
   "cell_type": "code",
   "execution_count": 121,
   "id": "957b9038",
   "metadata": {},
   "outputs": [],
   "source": [
    "set1 = {12,1,2,2,3,4,4,4,4,5,6,7,8,9,9,10}"
   ]
  },
  {
   "cell_type": "code",
   "execution_count": 107,
   "id": "4078a2e9",
   "metadata": {},
   "outputs": [
    {
     "data": {
      "text/plain": [
       "11"
      ]
     },
     "execution_count": 107,
     "metadata": {},
     "output_type": "execute_result"
    }
   ],
   "source": [
    "len(set1)"
   ]
  },
  {
   "cell_type": "code",
   "execution_count": 109,
   "id": "2681b6ce",
   "metadata": {},
   "outputs": [],
   "source": [
    "del set1"
   ]
  },
  {
   "cell_type": "code",
   "execution_count": 113,
   "id": "5d6701f4",
   "metadata": {},
   "outputs": [],
   "source": [
    "set1.add(100)"
   ]
  },
  {
   "cell_type": "code",
   "execution_count": 117,
   "id": "f428affe",
   "metadata": {},
   "outputs": [],
   "source": [
    "set1.update([1001,1012,1322,112])"
   ]
  },
  {
   "cell_type": "code",
   "execution_count": 119,
   "id": "dff3327a",
   "metadata": {},
   "outputs": [],
   "source": [
    "set1.clear()"
   ]
  },
  {
   "cell_type": "code",
   "execution_count": 123,
   "id": "ff83a388",
   "metadata": {},
   "outputs": [],
   "source": [
    "set2 = set1.copy()"
   ]
  },
  {
   "cell_type": "code",
   "execution_count": 124,
   "id": "935e6621",
   "metadata": {},
   "outputs": [],
   "source": [
    "set3 = set1"
   ]
  },
  {
   "cell_type": "code",
   "execution_count": 127,
   "id": "25171d0a",
   "metadata": {},
   "outputs": [
    {
     "data": {
      "text/plain": [
       "2507097516384"
      ]
     },
     "execution_count": 127,
     "metadata": {},
     "output_type": "execute_result"
    }
   ],
   "source": [
    "id(set2)"
   ]
  },
  {
   "cell_type": "code",
   "execution_count": 126,
   "id": "19caae58",
   "metadata": {},
   "outputs": [
    {
     "data": {
      "text/plain": [
       "2507089719840"
      ]
     },
     "execution_count": 126,
     "metadata": {},
     "output_type": "execute_result"
    }
   ],
   "source": [
    "id(set3)"
   ]
  },
  {
   "cell_type": "code",
   "execution_count": 128,
   "id": "9d54f34b",
   "metadata": {},
   "outputs": [
    {
     "data": {
      "text/plain": [
       "2507089719840"
      ]
     },
     "execution_count": 128,
     "metadata": {},
     "output_type": "execute_result"
    }
   ],
   "source": [
    "id(set1)"
   ]
  },
  {
   "cell_type": "code",
   "execution_count": 166,
   "id": "94dade3c",
   "metadata": {},
   "outputs": [],
   "source": [
    "set1.discard(10)"
   ]
  },
  {
   "cell_type": "code",
   "execution_count": 168,
   "id": "7acce59c",
   "metadata": {},
   "outputs": [
    {
     "ename": "KeyError",
     "evalue": "12",
     "output_type": "error",
     "traceback": [
      "\u001b[1;31m---------------------------------------------------------------------------\u001b[0m",
      "\u001b[1;31mKeyError\u001b[0m                                  Traceback (most recent call last)",
      "Cell \u001b[1;32mIn[168], line 1\u001b[0m\n\u001b[1;32m----> 1\u001b[0m set1\u001b[38;5;241m.\u001b[39mremove(\u001b[38;5;241m12\u001b[39m)\n",
      "\u001b[1;31mKeyError\u001b[0m: 12"
     ]
    }
   ],
   "source": [
    "set1.remove(12)"
   ]
  },
  {
   "cell_type": "code",
   "execution_count": 172,
   "id": "750b3a6e",
   "metadata": {},
   "outputs": [
    {
     "data": {
      "text/plain": [
       "2"
      ]
     },
     "execution_count": 172,
     "metadata": {},
     "output_type": "execute_result"
    }
   ],
   "source": [
    "set1.pop()"
   ]
  },
  {
   "cell_type": "code",
   "execution_count": 186,
   "id": "1131063c",
   "metadata": {},
   "outputs": [],
   "source": [
    "set1 = {1,2,3,4,5,6}\n",
    "set2 = {3,4,5}\n",
    "set3 = {5,6,7,8,9}\n",
    "set4 = {11,12,13,14}"
   ]
  },
  {
   "cell_type": "code",
   "execution_count": 175,
   "id": "fbd3fd79",
   "metadata": {},
   "outputs": [
    {
     "data": {
      "text/plain": [
       "{1, 2, 3, 4}"
      ]
     },
     "execution_count": 175,
     "metadata": {},
     "output_type": "execute_result"
    }
   ],
   "source": [
    "set1.difference(set3)"
   ]
  },
  {
   "cell_type": "code",
   "execution_count": 178,
   "id": "c97cf9eb",
   "metadata": {},
   "outputs": [],
   "source": [
    "set1.difference_update(set3)"
   ]
  },
  {
   "cell_type": "code",
   "execution_count": 179,
   "id": "3c795c8c",
   "metadata": {},
   "outputs": [
    {
     "data": {
      "text/plain": [
       "{1, 2, 3, 4}"
      ]
     },
     "execution_count": 179,
     "metadata": {},
     "output_type": "execute_result"
    }
   ],
   "source": [
    "set1"
   ]
  },
  {
   "cell_type": "code",
   "execution_count": 176,
   "id": "c7bac92f",
   "metadata": {},
   "outputs": [
    {
     "data": {
      "text/plain": [
       "{1, 2, 3, 4, 7, 8, 9}"
      ]
     },
     "execution_count": 176,
     "metadata": {},
     "output_type": "execute_result"
    }
   ],
   "source": [
    "set1.symmetric_difference(set3)"
   ]
  },
  {
   "cell_type": "code",
   "execution_count": 181,
   "id": "89a4c1f3",
   "metadata": {},
   "outputs": [],
   "source": [
    "set1.symmetric_difference_update(set3)"
   ]
  },
  {
   "cell_type": "code",
   "execution_count": 182,
   "id": "eb5093b3",
   "metadata": {},
   "outputs": [
    {
     "data": {
      "text/plain": [
       "{1, 2, 3, 4, 7, 8, 9}"
      ]
     },
     "execution_count": 182,
     "metadata": {},
     "output_type": "execute_result"
    }
   ],
   "source": [
    "set1"
   ]
  },
  {
   "cell_type": "code",
   "execution_count": 177,
   "id": "81317b15",
   "metadata": {},
   "outputs": [
    {
     "data": {
      "text/plain": [
       "{5, 6}"
      ]
     },
     "execution_count": 177,
     "metadata": {},
     "output_type": "execute_result"
    }
   ],
   "source": [
    "set1.intersection(set3)"
   ]
  },
  {
   "cell_type": "code",
   "execution_count": 184,
   "id": "7d71313c",
   "metadata": {},
   "outputs": [],
   "source": [
    "set1.intersection_update(set3)"
   ]
  },
  {
   "cell_type": "code",
   "execution_count": 185,
   "id": "f789fd6f",
   "metadata": {},
   "outputs": [
    {
     "data": {
      "text/plain": [
       "{5, 6}"
      ]
     },
     "execution_count": 185,
     "metadata": {},
     "output_type": "execute_result"
    }
   ],
   "source": [
    "set1"
   ]
  },
  {
   "cell_type": "code",
   "execution_count": 190,
   "id": "257c1853",
   "metadata": {},
   "outputs": [
    {
     "data": {
      "text/plain": [
       "False"
      ]
     },
     "execution_count": 190,
     "metadata": {},
     "output_type": "execute_result"
    }
   ],
   "source": [
    "set1.isdisjoint(set3)"
   ]
  },
  {
   "cell_type": "code",
   "execution_count": null,
   "id": "898d4a29",
   "metadata": {},
   "outputs": [],
   "source": [
    "set1 = {1,2,3,4,5,6}\n",
    "set2 = {3,4,5}\n",
    "set3 = {5,6,7,8,9}\n",
    "set4 = {11,12,13,14}"
   ]
  },
  {
   "cell_type": "code",
   "execution_count": 191,
   "id": "000fdd76",
   "metadata": {},
   "outputs": [
    {
     "data": {
      "text/plain": [
       "True"
      ]
     },
     "execution_count": 191,
     "metadata": {},
     "output_type": "execute_result"
    }
   ],
   "source": [
    "set1.issuperset(set2)"
   ]
  },
  {
   "cell_type": "code",
   "execution_count": 192,
   "id": "96175e32",
   "metadata": {},
   "outputs": [
    {
     "data": {
      "text/plain": [
       "True"
      ]
     },
     "execution_count": 192,
     "metadata": {},
     "output_type": "execute_result"
    }
   ],
   "source": [
    "set2.issubset(set1)"
   ]
  },
  {
   "cell_type": "code",
   "execution_count": 194,
   "id": "b72d18d0",
   "metadata": {},
   "outputs": [],
   "source": [
    "set5 = set1.union(set4)"
   ]
  },
  {
   "cell_type": "code",
   "execution_count": 195,
   "id": "96010c53",
   "metadata": {},
   "outputs": [
    {
     "data": {
      "text/plain": [
       "{1, 2, 3, 4, 5, 6, 11, 12, 13, 14}"
      ]
     },
     "execution_count": 195,
     "metadata": {},
     "output_type": "execute_result"
    }
   ],
   "source": [
    "set5"
   ]
  },
  {
   "cell_type": "markdown",
   "id": "9fae4e2a",
   "metadata": {},
   "source": [
    "# Frozen Set"
   ]
  },
  {
   "cell_type": "code",
   "execution_count": 197,
   "id": "6efce205",
   "metadata": {},
   "outputs": [],
   "source": [
    "fsset = frozenset(set1)"
   ]
  },
  {
   "cell_type": "code",
   "execution_count": 198,
   "id": "98caebde",
   "metadata": {},
   "outputs": [
    {
     "data": {
      "text/plain": [
       "frozenset({1, 2, 3, 4, 5, 6})"
      ]
     },
     "execution_count": 198,
     "metadata": {},
     "output_type": "execute_result"
    }
   ],
   "source": [
    "fsset"
   ]
  },
  {
   "cell_type": "markdown",
   "id": "e63e203b",
   "metadata": {},
   "source": [
    "# Dictionaries"
   ]
  },
  {
   "cell_type": "code",
   "execution_count": 252,
   "id": "8716a01c",
   "metadata": {},
   "outputs": [],
   "source": [
    "student_details = {'sid':[1,2,3,4,5], 'sname':['A','B','C','D','E'], 'sregion':['N','S','E','W','W'], 'smarks':[100,95,67,55,44]}"
   ]
  },
  {
   "cell_type": "code",
   "execution_count": 201,
   "id": "bb9b833d",
   "metadata": {},
   "outputs": [
    {
     "data": {
      "text/plain": [
       "dict"
      ]
     },
     "execution_count": 201,
     "metadata": {},
     "output_type": "execute_result"
    }
   ],
   "source": [
    "type(student_details)"
   ]
  },
  {
   "cell_type": "code",
   "execution_count": 202,
   "id": "6d8fd64d",
   "metadata": {},
   "outputs": [
    {
     "data": {
      "text/plain": [
       "4"
      ]
     },
     "execution_count": 202,
     "metadata": {},
     "output_type": "execute_result"
    }
   ],
   "source": [
    "len(student_details)"
   ]
  },
  {
   "cell_type": "code",
   "execution_count": 211,
   "id": "dd04ddfa",
   "metadata": {},
   "outputs": [
    {
     "data": {
      "text/plain": [
       "['N', 'S', 'E', 'W', 'W']"
      ]
     },
     "execution_count": 211,
     "metadata": {},
     "output_type": "execute_result"
    }
   ],
   "source": [
    "student_details['sregion']"
   ]
  },
  {
   "cell_type": "code",
   "execution_count": 212,
   "id": "6c22ad68",
   "metadata": {},
   "outputs": [],
   "source": [
    "student_details.clear()"
   ]
  },
  {
   "cell_type": "code",
   "execution_count": 216,
   "id": "cb16bf2b",
   "metadata": {},
   "outputs": [],
   "source": [
    "a = student_details.copy()"
   ]
  },
  {
   "cell_type": "code",
   "execution_count": 217,
   "id": "1fe27f55",
   "metadata": {},
   "outputs": [
    {
     "data": {
      "text/plain": [
       "2507089866048"
      ]
     },
     "execution_count": 217,
     "metadata": {},
     "output_type": "execute_result"
    }
   ],
   "source": [
    "id(a)\n"
   ]
  },
  {
   "cell_type": "code",
   "execution_count": 218,
   "id": "27b21e84",
   "metadata": {},
   "outputs": [
    {
     "data": {
      "text/plain": [
       "2507100793344"
      ]
     },
     "execution_count": 218,
     "metadata": {},
     "output_type": "execute_result"
    }
   ],
   "source": [
    "id(student_details)"
   ]
  },
  {
   "cell_type": "code",
   "execution_count": 219,
   "id": "fc2a22f3",
   "metadata": {},
   "outputs": [],
   "source": [
    "b = student_details"
   ]
  },
  {
   "cell_type": "code",
   "execution_count": 220,
   "id": "c081701c",
   "metadata": {},
   "outputs": [
    {
     "data": {
      "text/plain": [
       "2507100793344"
      ]
     },
     "execution_count": 220,
     "metadata": {},
     "output_type": "execute_result"
    }
   ],
   "source": [
    "id(b)"
   ]
  },
  {
   "cell_type": "code",
   "execution_count": 221,
   "id": "39d2fa28",
   "metadata": {},
   "outputs": [
    {
     "data": {
      "text/plain": [
       "['A', 'B', 'C', 'D', 'E']"
      ]
     },
     "execution_count": 221,
     "metadata": {},
     "output_type": "execute_result"
    }
   ],
   "source": [
    "student_details.get('sname')"
   ]
  },
  {
   "cell_type": "code",
   "execution_count": 222,
   "id": "3aed359c",
   "metadata": {},
   "outputs": [
    {
     "data": {
      "text/plain": [
       "['A', 'B', 'C', 'D', 'E']"
      ]
     },
     "execution_count": 222,
     "metadata": {},
     "output_type": "execute_result"
    }
   ],
   "source": [
    "student_details['sname']"
   ]
  },
  {
   "cell_type": "code",
   "execution_count": 223,
   "id": "6874fbc9",
   "metadata": {},
   "outputs": [
    {
     "data": {
      "text/plain": [
       "dict_items([('sid', [1, 2, 3, 4, 5]), ('sname', ['A', 'B', 'C', 'D', 'E']), ('sregion', ['N', 'S', 'E', 'W', 'W']), ('smarks', [100, 95, 67, 55, 44])])"
      ]
     },
     "execution_count": 223,
     "metadata": {},
     "output_type": "execute_result"
    }
   ],
   "source": [
    "student_details.items()"
   ]
  },
  {
   "cell_type": "code",
   "execution_count": 224,
   "id": "3ee21235",
   "metadata": {},
   "outputs": [
    {
     "data": {
      "text/plain": [
       "dict_keys(['sid', 'sname', 'sregion', 'smarks'])"
      ]
     },
     "execution_count": 224,
     "metadata": {},
     "output_type": "execute_result"
    }
   ],
   "source": [
    "student_details.keys()"
   ]
  },
  {
   "cell_type": "code",
   "execution_count": 225,
   "id": "75124814",
   "metadata": {},
   "outputs": [
    {
     "data": {
      "text/plain": [
       "dict_values([[1, 2, 3, 4, 5], ['A', 'B', 'C', 'D', 'E'], ['N', 'S', 'E', 'W', 'W'], [100, 95, 67, 55, 44]])"
      ]
     },
     "execution_count": 225,
     "metadata": {},
     "output_type": "execute_result"
    }
   ],
   "source": [
    "student_details.values()"
   ]
  },
  {
   "cell_type": "code",
   "execution_count": 227,
   "id": "a2e38454",
   "metadata": {},
   "outputs": [
    {
     "data": {
      "text/plain": [
       "[100, 95, 67, 55, 44]"
      ]
     },
     "execution_count": 227,
     "metadata": {},
     "output_type": "execute_result"
    }
   ],
   "source": [
    "student_details.pop('smarks')"
   ]
  },
  {
   "cell_type": "code",
   "execution_count": 232,
   "id": "4c1425a3",
   "metadata": {},
   "outputs": [],
   "source": [
    "student_details['s_name'] = student_details.pop('sname')"
   ]
  },
  {
   "cell_type": "code",
   "execution_count": 233,
   "id": "f8b138fc",
   "metadata": {},
   "outputs": [
    {
     "data": {
      "text/plain": [
       "{'sid': [1, 2, 3, 4, 5], 's_name': ['A', 'B', 'C', 'D', 'E']}"
      ]
     },
     "execution_count": 233,
     "metadata": {},
     "output_type": "execute_result"
    }
   ],
   "source": [
    "student_details"
   ]
  },
  {
   "cell_type": "code",
   "execution_count": 236,
   "id": "89c670f3",
   "metadata": {},
   "outputs": [
    {
     "data": {
      "text/plain": [
       "('smarks', [100, 95, 67, 55, 44])"
      ]
     },
     "execution_count": 236,
     "metadata": {},
     "output_type": "execute_result"
    }
   ],
   "source": [
    "student_details.popitem()"
   ]
  },
  {
   "cell_type": "code",
   "execution_count": 238,
   "id": "9323f2de",
   "metadata": {},
   "outputs": [],
   "source": [
    "student_details.setdefault('doj')"
   ]
  },
  {
   "cell_type": "code",
   "execution_count": 241,
   "id": "79144ab2",
   "metadata": {},
   "outputs": [],
   "source": [
    "student_details['doj']=['1st','3rd','7th','10th','11th']"
   ]
  },
  {
   "cell_type": "code",
   "execution_count": 242,
   "id": "a479a4fa",
   "metadata": {},
   "outputs": [
    {
     "data": {
      "text/plain": [
       "{'sid': [1, 2, 3, 4, 5],\n",
       " 'sname': ['A', 'B', 'C', 'D', 'E'],\n",
       " 'sregion': ['N', 'S', 'E', 'W', 'W'],\n",
       " 'doj': ['1st', '3rd', '7th', '10th', '11th']}"
      ]
     },
     "execution_count": 242,
     "metadata": {},
     "output_type": "execute_result"
    }
   ],
   "source": [
    "student_details"
   ]
  },
  {
   "cell_type": "code",
   "execution_count": 243,
   "id": "83324ece",
   "metadata": {},
   "outputs": [],
   "source": [
    "dict1 = {1:2,4:5,6:7}\n",
    "dict2 = {1:10,12:13}"
   ]
  },
  {
   "cell_type": "code",
   "execution_count": 244,
   "id": "3f78ad64",
   "metadata": {},
   "outputs": [],
   "source": [
    "dict1.update(dict2)"
   ]
  },
  {
   "cell_type": "code",
   "execution_count": 245,
   "id": "31840398",
   "metadata": {},
   "outputs": [
    {
     "data": {
      "text/plain": [
       "{1: 10, 4: 5, 6: 7, 12: 13}"
      ]
     },
     "execution_count": 245,
     "metadata": {},
     "output_type": "execute_result"
    }
   ],
   "source": [
    "dict1"
   ]
  },
  {
   "cell_type": "code",
   "execution_count": 250,
   "id": "646f8765",
   "metadata": {},
   "outputs": [
    {
     "data": {
      "text/plain": [
       "{'sid': [1, 2, 3, 4],\n",
       " 'sname': ['A', 'B', 'C', 'D', 'E'],\n",
       " 'sregion': ['N', 'S', 'E', 'W', 'W'],\n",
       " 'smarks': [100, 95, 67, 55, 44]}"
      ]
     },
     "execution_count": 250,
     "metadata": {},
     "output_type": "execute_result"
    }
   ],
   "source": [
    "student_details"
   ]
  },
  {
   "cell_type": "code",
   "execution_count": 247,
   "id": "49a2247c",
   "metadata": {},
   "outputs": [],
   "source": [
    "import pandas as pd"
   ]
  },
  {
   "cell_type": "code",
   "execution_count": 253,
   "id": "8660d943",
   "metadata": {},
   "outputs": [
    {
     "data": {
      "text/html": [
       "<div>\n",
       "<style scoped>\n",
       "    .dataframe tbody tr th:only-of-type {\n",
       "        vertical-align: middle;\n",
       "    }\n",
       "\n",
       "    .dataframe tbody tr th {\n",
       "        vertical-align: top;\n",
       "    }\n",
       "\n",
       "    .dataframe thead th {\n",
       "        text-align: right;\n",
       "    }\n",
       "</style>\n",
       "<table border=\"1\" class=\"dataframe\">\n",
       "  <thead>\n",
       "    <tr style=\"text-align: right;\">\n",
       "      <th></th>\n",
       "      <th>sid</th>\n",
       "      <th>sname</th>\n",
       "      <th>sregion</th>\n",
       "      <th>smarks</th>\n",
       "    </tr>\n",
       "  </thead>\n",
       "  <tbody>\n",
       "    <tr>\n",
       "      <th>0</th>\n",
       "      <td>1</td>\n",
       "      <td>A</td>\n",
       "      <td>N</td>\n",
       "      <td>100</td>\n",
       "    </tr>\n",
       "    <tr>\n",
       "      <th>1</th>\n",
       "      <td>2</td>\n",
       "      <td>B</td>\n",
       "      <td>S</td>\n",
       "      <td>95</td>\n",
       "    </tr>\n",
       "    <tr>\n",
       "      <th>2</th>\n",
       "      <td>3</td>\n",
       "      <td>C</td>\n",
       "      <td>E</td>\n",
       "      <td>67</td>\n",
       "    </tr>\n",
       "    <tr>\n",
       "      <th>3</th>\n",
       "      <td>4</td>\n",
       "      <td>D</td>\n",
       "      <td>W</td>\n",
       "      <td>55</td>\n",
       "    </tr>\n",
       "    <tr>\n",
       "      <th>4</th>\n",
       "      <td>5</td>\n",
       "      <td>E</td>\n",
       "      <td>W</td>\n",
       "      <td>44</td>\n",
       "    </tr>\n",
       "  </tbody>\n",
       "</table>\n",
       "</div>"
      ],
      "text/plain": [
       "   sid sname sregion  smarks\n",
       "0    1     A       N     100\n",
       "1    2     B       S      95\n",
       "2    3     C       E      67\n",
       "3    4     D       W      55\n",
       "4    5     E       W      44"
      ]
     },
     "execution_count": 253,
     "metadata": {},
     "output_type": "execute_result"
    }
   ],
   "source": [
    "pd.DataFrame(student_details)"
   ]
  },
  {
   "cell_type": "markdown",
   "id": "b4ef0972",
   "metadata": {},
   "source": [
    "# The End"
   ]
  }
 ],
 "metadata": {
  "kernelspec": {
   "display_name": "Python 3 (ipykernel)",
   "language": "python",
   "name": "python3"
  },
  "language_info": {
   "codemirror_mode": {
    "name": "ipython",
    "version": 3
   },
   "file_extension": ".py",
   "mimetype": "text/x-python",
   "name": "python",
   "nbconvert_exporter": "python",
   "pygments_lexer": "ipython3",
   "version": "3.11.5"
  }
 },
 "nbformat": 4,
 "nbformat_minor": 5
}

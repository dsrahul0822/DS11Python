{
 "cells": [
  {
   "cell_type": "code",
   "execution_count": null,
   "id": "0440e933",
   "metadata": {},
   "outputs": [],
   "source": [
    "#Files - Text, CSV, Excel\n",
    "    #Very less data storage - File systems \n",
    "    #DBs for high data volumn"
   ]
  },
  {
   "cell_type": "code",
   "execution_count": 1,
   "id": "dbca8753",
   "metadata": {},
   "outputs": [],
   "source": [
    "#Types of files \n",
    "\n",
    "    #Text files - Jupyter notebook, log files, program file, normal text files - Human can read it \n",
    "    #Binary files - Image or videos \n",
    "    \n",
    "#To perform any action on the files \n",
    "    #Open a file, need to mention the purpose of the opening of the file as well\n",
    "    \n",
    "#open(filename,mode)\n",
    "\n",
    "#The allowable modes in python \n",
    "\n",
    "    #1. Read (r) - Opens up the file for read operation and its a default mode \n",
    "    #2. Write (w) - opens up the file for write something in the file, if data is present in the then it overwrite \n",
    "        #If the file is not present it will create one\n",
    "    #3. Append (a) - It will append the data in the file. If the file is not present it will create one\n",
    "    #4. Read and write (r+) - Read will take the priority and it will not overwrite the data \n",
    "    #5. Write and read (w+) - Write will take the priority and it will overwrite the data \n",
    "    #6. Append and read (a+) - Append will take the priority and it will not overwrite \n",
    "    #7. Exclusive creation mode for writing operation (x) - Fileexists error, the file should not be there"
   ]
  },
  {
   "cell_type": "code",
   "execution_count": 2,
   "id": "a7b44b7b",
   "metadata": {},
   "outputs": [],
   "source": [
    "#For binary file\n",
    "    #1. rb\n",
    "    #2. wb\n",
    "    #3. ab\n",
    "    #4. r+b\n",
    "    #5. w+b\n",
    "    #6. a+b\n",
    "    #7. xb"
   ]
  },
  {
   "cell_type": "code",
   "execution_count": 3,
   "id": "4e2af0db",
   "metadata": {},
   "outputs": [],
   "source": [
    "import os"
   ]
  },
  {
   "cell_type": "code",
   "execution_count": 7,
   "id": "b107d74f",
   "metadata": {},
   "outputs": [
    {
     "data": {
      "text/plain": [
       "'C:\\\\Users\\\\rahul\\\\OneDrive\\\\Desktop'"
      ]
     },
     "execution_count": 7,
     "metadata": {},
     "output_type": "execute_result"
    }
   ],
   "source": [
    "os.getcwd()"
   ]
  },
  {
   "cell_type": "code",
   "execution_count": 6,
   "id": "087dd097",
   "metadata": {},
   "outputs": [],
   "source": [
    "os.chdir(r'C:\\Users\\rahul\\OneDrive\\Desktop')"
   ]
  },
  {
   "cell_type": "code",
   "execution_count": 9,
   "id": "09cfa47d",
   "metadata": {},
   "outputs": [
    {
     "name": "stdout",
     "output_type": "stream",
     "text": [
      "File Name:  thescholar2104.txt\n",
      "File Mode:  w\n",
      "File Readable:  False\n",
      "File Writeable:  True\n",
      "File Closed:  False\n",
      "File Closed:  True\n"
     ]
    }
   ],
   "source": [
    "f = open('thescholar2104.txt','w')\n",
    "print('File Name: ', f.name)\n",
    "print('File Mode: ', f.mode)\n",
    "print('File Readable: ', f.readable())\n",
    "print('File Writeable: ', f.writable())\n",
    "print('File Closed: ', f.closed)\n",
    "f.close()\n",
    "print('File Closed: ', f.closed)"
   ]
  },
  {
   "cell_type": "code",
   "execution_count": 10,
   "id": "90b2bc52",
   "metadata": {},
   "outputs": [],
   "source": [
    "f = open('thescholar2104.txt', 'w')\n",
    "f.write('Python looks like an easy programming language\\n')\n",
    "f.write('Earlier I was very much scared of Python\\n')\n",
    "f.close()"
   ]
  },
  {
   "cell_type": "code",
   "execution_count": 11,
   "id": "cd6731c6",
   "metadata": {},
   "outputs": [],
   "source": [
    "f = open('thescholar2104.txt', 'a')\n",
    "f.write('Java looks like an easy programming language\\n')\n",
    "f.write('Earlier I was very much scared of Java\\n')\n",
    "f.close()"
   ]
  },
  {
   "cell_type": "code",
   "execution_count": 12,
   "id": "dfde50e3",
   "metadata": {},
   "outputs": [],
   "source": [
    "f = open('thescholar2104.txt', 'w')\n",
    "f.write('Hi How are you?\\n')\n",
    "f.write('Howz life\\n')\n",
    "f.close()"
   ]
  },
  {
   "cell_type": "code",
   "execution_count": 13,
   "id": "41181d91",
   "metadata": {},
   "outputs": [],
   "source": [
    "list1 = ['Hi How are you?\\n', 'Hope you are doing good\\n', 'Whats the plan for today?\\n'] \n",
    "f = open('thescholar2104.txt','w')\n",
    "f.writelines(list1)\n",
    "f.close()"
   ]
  },
  {
   "cell_type": "code",
   "execution_count": 14,
   "id": "f7619d84",
   "metadata": {},
   "outputs": [
    {
     "name": "stdout",
     "output_type": "stream",
     "text": [
      "Hi How are you?\n",
      "Hope you are doing good\n",
      "Whats the plan for today?\n",
      "\n"
     ]
    }
   ],
   "source": [
    "f = open('thescholar2104.txt','r')\n",
    "data = f.read()\n",
    "print(data)\n",
    "f.close()"
   ]
  },
  {
   "cell_type": "code",
   "execution_count": 15,
   "id": "078d1932",
   "metadata": {},
   "outputs": [
    {
     "name": "stdout",
     "output_type": "stream",
     "text": [
      "Is my file closed?  False\n",
      "Is my file closed?  True\n"
     ]
    }
   ],
   "source": [
    "with open('thescholar2104.txt', 'w') as f:\n",
    "    f.write('I am Rahul Tiwari\\n')\n",
    "    f.write('Completed my engineering from NIT Surat\\n')\n",
    "    f.write('I love to play with data\\n')\n",
    "    print('Is my file closed? ', f.closed)\n",
    "print('Is my file closed? ', f.closed)"
   ]
  },
  {
   "cell_type": "code",
   "execution_count": 16,
   "id": "3c0d27ea",
   "metadata": {},
   "outputs": [
    {
     "name": "stdout",
     "output_type": "stream",
     "text": [
      "Enter the file name: thescholar2104.txt\n",
      "The number of lines:  3\n",
      "The number of characters:  83\n",
      "The number of words:  16\n"
     ]
    }
   ],
   "source": [
    "fname = input('Enter the file name: ')\n",
    "f = open(fname,'r')\n",
    "lcount = wcount = ccount = 0\n",
    "\n",
    "for line in f:\n",
    "    lcount = lcount+1\n",
    "    ccount = ccount + len(line)\n",
    "    words = line.split()\n",
    "    wcount = wcount + len(words)\n",
    "print('The number of lines: ', lcount)\n",
    "print('The number of characters: ', ccount)\n",
    "print('The number of words: ', wcount)\n",
    "f.close()"
   ]
  },
  {
   "cell_type": "code",
   "execution_count": null,
   "id": "f027d26c",
   "metadata": {},
   "outputs": [],
   "source": []
  },
  {
   "cell_type": "code",
   "execution_count": null,
   "id": "df9fac08",
   "metadata": {},
   "outputs": [],
   "source": []
  },
  {
   "cell_type": "code",
   "execution_count": null,
   "id": "ad3fa087",
   "metadata": {},
   "outputs": [],
   "source": []
  }
 ],
 "metadata": {
  "kernelspec": {
   "display_name": "Python 3 (ipykernel)",
   "language": "python",
   "name": "python3"
  },
  "language_info": {
   "codemirror_mode": {
    "name": "ipython",
    "version": 3
   },
   "file_extension": ".py",
   "mimetype": "text/x-python",
   "name": "python",
   "nbconvert_exporter": "python",
   "pygments_lexer": "ipython3",
   "version": "3.11.5"
  }
 },
 "nbformat": 4,
 "nbformat_minor": 5
}

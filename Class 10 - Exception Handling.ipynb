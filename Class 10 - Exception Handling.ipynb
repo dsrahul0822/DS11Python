{
 "cells": [
  {
   "cell_type": "code",
   "execution_count": 3,
   "id": "b0ad1311",
   "metadata": {},
   "outputs": [
    {
     "ename": "SyntaxError",
     "evalue": "expected ':' (1312643255.py, line 2)",
     "output_type": "error",
     "traceback": [
      "\u001b[1;36m  Cell \u001b[1;32mIn[3], line 2\u001b[1;36m\u001b[0m\n\u001b[1;33m    if x==20\u001b[0m\n\u001b[1;37m            ^\u001b[0m\n\u001b[1;31mSyntaxError\u001b[0m\u001b[1;31m:\u001b[0m expected ':'\n"
     ]
    }
   ],
   "source": [
    "x = 20 \n",
    "if x==20\n",
    "    print('The value of x is: ', x)\n",
    "y =30"
   ]
  },
  {
   "cell_type": "code",
   "execution_count": 4,
   "id": "17ed49ec",
   "metadata": {},
   "outputs": [
    {
     "ename": "NameError",
     "evalue": "name 'y' is not defined",
     "output_type": "error",
     "traceback": [
      "\u001b[1;31m---------------------------------------------------------------------------\u001b[0m",
      "\u001b[1;31mNameError\u001b[0m                                 Traceback (most recent call last)",
      "Cell \u001b[1;32mIn[4], line 1\u001b[0m\n\u001b[1;32m----> 1\u001b[0m y\n",
      "\u001b[1;31mNameError\u001b[0m: name 'y' is not defined"
     ]
    }
   ],
   "source": [
    "y"
   ]
  },
  {
   "cell_type": "code",
   "execution_count": null,
   "id": "debb9c33",
   "metadata": {},
   "outputs": [],
   "source": [
    "try \n",
    "except\n",
    "else \n",
    "finally"
   ]
  },
  {
   "cell_type": "code",
   "execution_count": 6,
   "id": "ecc7e79b",
   "metadata": {},
   "outputs": [
    {
     "name": "stdout",
     "output_type": "stream",
     "text": [
      "Enter the number1: 10\n",
      "Enter the number2: 5\n",
      "The value of result is: 2.0\n",
      "The code ran\n"
     ]
    }
   ],
   "source": [
    "try:\n",
    "    num1 = int(input('Enter the number1: '))\n",
    "    num2 = int(input('Enter the number2: '))\n",
    "    result = 0 \n",
    "    result = num1/num2\n",
    "except:\n",
    "    print('There is an error')\n",
    "else:\n",
    "    print('The value of result is:', result)\n",
    "finally:\n",
    "    print('The code ran')"
   ]
  },
  {
   "cell_type": "code",
   "execution_count": 8,
   "id": "ce493108",
   "metadata": {},
   "outputs": [
    {
     "name": "stdout",
     "output_type": "stream",
     "text": [
      "statement1\n",
      "statement10\n",
      "statement11\n",
      "statement12\n"
     ]
    }
   ],
   "source": [
    "try:\n",
    "    print('statement1')\n",
    "    print(10/0)\n",
    "    print('statement3')\n",
    "    try:\n",
    "        print('statement4')\n",
    "        print('statement5')\n",
    "        print('statement6')\n",
    "    except:\n",
    "        print('statement7')\n",
    "    finally:\n",
    "        print('statement8')\n",
    "    print('statement9')\n",
    "    print()\n",
    "except:\n",
    "    print('statement10')\n",
    "finally:\n",
    "    print('statement11')\n",
    "print('statement12')"
   ]
  },
  {
   "cell_type": "code",
   "execution_count": 9,
   "id": "671cf15b",
   "metadata": {},
   "outputs": [
    {
     "name": "stdout",
     "output_type": "stream",
     "text": [
      "statement1\n",
      "statement2\n",
      "statement3\n",
      "statement4\n",
      "statement7\n",
      "statement8\n",
      "statement9\n",
      "\n",
      "statement11\n",
      "statement12\n"
     ]
    }
   ],
   "source": [
    "try:\n",
    "    print('statement1')\n",
    "    print('statement2')\n",
    "    print('statement3')\n",
    "    try:\n",
    "        print('statement4')\n",
    "        print(10/0)\n",
    "        print('statement6')\n",
    "    except:\n",
    "        print('statement7')\n",
    "    finally:\n",
    "        print('statement8')\n",
    "    print('statement9')\n",
    "    print()\n",
    "except:\n",
    "    print('statement10')\n",
    "finally:\n",
    "    print('statement11')\n",
    "print('statement12')"
   ]
  },
  {
   "cell_type": "code",
   "execution_count": null,
   "id": "bb28dcc7",
   "metadata": {},
   "outputs": [],
   "source": [
    "try:\n",
    "except:\n",
    "except:\n",
    "except:"
   ]
  },
  {
   "cell_type": "code",
   "execution_count": 15,
   "id": "09eb0ca5",
   "metadata": {},
   "outputs": [
    {
     "name": "stdout",
     "output_type": "stream",
     "text": [
      "Enter the number1: 10\n",
      "Enter the number2: 0\n",
      "<class 'ZeroDivisionError'>\n",
      "The code ran\n"
     ]
    }
   ],
   "source": [
    "try:\n",
    "    num1 = int(input('Enter the number1: '))\n",
    "    num2 = int(input('Enter the number2: '))\n",
    "    result = 0 \n",
    "    result = num1/num2\n",
    "except Exception as e:\n",
    "    print(type(e))\n",
    "else:\n",
    "    print('The value of result is:', result)\n",
    "finally:\n",
    "    print('The code ran')"
   ]
  },
  {
   "cell_type": "code",
   "execution_count": 18,
   "id": "4c3b99e6",
   "metadata": {},
   "outputs": [
    {
     "name": "stdout",
     "output_type": "stream",
     "text": [
      "Enter the number1: a\n",
      "<class 'ValueError'>\n",
      "The code ran\n"
     ]
    }
   ],
   "source": [
    "try:\n",
    "    num1 = int(input('Enter the number1: '))\n",
    "    num2 = int(input('Enter the number2: '))\n",
    "    result = 0 \n",
    "    result = num1/num2\n",
    "except ValueError as e:\n",
    "    print(type(e))\n",
    "except ZeroDivisionError as e:\n",
    "    print(type(e))\n",
    "except Exception as e:\n",
    "    print(e)\n",
    "else:\n",
    "    print('The value of result is:', result)\n",
    "finally:\n",
    "    print('The code ran')"
   ]
  },
  {
   "cell_type": "code",
   "execution_count": null,
   "id": "4f475226",
   "metadata": {},
   "outputs": [],
   "source": [
    "try:\n",
    "except:\n",
    "except:\n",
    "except:\n",
    ".\n",
    ".\n",
    ".\n",
    "else:\n",
    "finally"
   ]
  },
  {
   "cell_type": "code",
   "execution_count": 19,
   "id": "6d73a7e7",
   "metadata": {},
   "outputs": [],
   "source": [
    "class TooYoungException(Exception):\n",
    "    pass\n",
    "\n",
    "class TooOldException(Exception):\n",
    "    pass"
   ]
  },
  {
   "cell_type": "code",
   "execution_count": 25,
   "id": "d66ac9b9",
   "metadata": {},
   "outputs": [
    {
     "name": "stdout",
     "output_type": "stream",
     "text": [
      "Enter the age of the customer: 35\n",
      "Your ticket is confirmed\n",
      "Enjoy the movie\n",
      "Your transaction is completed, have a nice day!!!\n"
     ]
    }
   ],
   "source": [
    "try:\n",
    "    enter_age = int(input('Enter the age of the customer: '))\n",
    "    if enter_age<18:\n",
    "        raise TooYoungException\n",
    "    elif enter_age>60:\n",
    "        raise TooOldException\n",
    "    else:\n",
    "        print('Your ticket is confirmed')\n",
    "        \n",
    "except TooYoungException:\n",
    "    print('You are too young to see the movie')\n",
    "    \n",
    "except TooOldException:\n",
    "    print('You are too old to see the movie')\n",
    "\n",
    "except Exception as e:\n",
    "    print(type(e))\n",
    "    \n",
    "else:\n",
    "    print('Enjoy the movie')\n",
    "\n",
    "finally:\n",
    "    print('Your transaction is completed, have a nice day!!!')"
   ]
  },
  {
   "cell_type": "code",
   "execution_count": null,
   "id": "651fa68d",
   "metadata": {},
   "outputs": [],
   "source": []
  },
  {
   "cell_type": "code",
   "execution_count": null,
   "id": "be389392",
   "metadata": {},
   "outputs": [],
   "source": []
  },
  {
   "cell_type": "code",
   "execution_count": null,
   "id": "8f8c9d8a",
   "metadata": {},
   "outputs": [],
   "source": []
  },
  {
   "cell_type": "code",
   "execution_count": null,
   "id": "50a7aefa",
   "metadata": {},
   "outputs": [],
   "source": []
  }
 ],
 "metadata": {
  "kernelspec": {
   "display_name": "Python 3 (ipykernel)",
   "language": "python",
   "name": "python3"
  },
  "language_info": {
   "codemirror_mode": {
    "name": "ipython",
    "version": 3
   },
   "file_extension": ".py",
   "mimetype": "text/x-python",
   "name": "python",
   "nbconvert_exporter": "python",
   "pygments_lexer": "ipython3",
   "version": "3.11.5"
  }
 },
 "nbformat": 4,
 "nbformat_minor": 5
}

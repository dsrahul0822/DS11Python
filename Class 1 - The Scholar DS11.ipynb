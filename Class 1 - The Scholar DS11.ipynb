{
 "cells": [
  {
   "cell_type": "code",
   "execution_count": 22,
   "id": "fafb3f16",
   "metadata": {},
   "outputs": [],
   "source": [
    "a = 'Rahul'"
   ]
  },
  {
   "cell_type": "code",
   "execution_count": 24,
   "id": "b55a59a8",
   "metadata": {},
   "outputs": [
    {
     "data": {
      "text/plain": [
       "str"
      ]
     },
     "execution_count": 24,
     "metadata": {},
     "output_type": "execute_result"
    }
   ],
   "source": [
    "type(a)"
   ]
  },
  {
   "cell_type": "code",
   "execution_count": 25,
   "id": "32a605db",
   "metadata": {},
   "outputs": [],
   "source": [
    "b=10"
   ]
  },
  {
   "cell_type": "code",
   "execution_count": 27,
   "id": "c588dd45",
   "metadata": {},
   "outputs": [
    {
     "data": {
      "text/plain": [
       "int"
      ]
     },
     "execution_count": 27,
     "metadata": {},
     "output_type": "execute_result"
    }
   ],
   "source": [
    "type(b)"
   ]
  },
  {
   "cell_type": "code",
   "execution_count": 28,
   "id": "6dd0fbb5",
   "metadata": {},
   "outputs": [],
   "source": [
    "c=10.5"
   ]
  },
  {
   "cell_type": "code",
   "execution_count": 30,
   "id": "3ad8046e",
   "metadata": {},
   "outputs": [
    {
     "data": {
      "text/plain": [
       "float"
      ]
     },
     "execution_count": 30,
     "metadata": {},
     "output_type": "execute_result"
    }
   ],
   "source": [
    "type(c)"
   ]
  },
  {
   "cell_type": "code",
   "execution_count": 32,
   "id": "d5ddc2d7",
   "metadata": {},
   "outputs": [],
   "source": [
    "d = b>c"
   ]
  },
  {
   "cell_type": "code",
   "execution_count": 35,
   "id": "12d3757b",
   "metadata": {},
   "outputs": [
    {
     "data": {
      "text/plain": [
       "bool"
      ]
     },
     "execution_count": 35,
     "metadata": {},
     "output_type": "execute_result"
    }
   ],
   "source": [
    "type(d)"
   ]
  },
  {
   "cell_type": "code",
   "execution_count": 36,
   "id": "d3e6e61a",
   "metadata": {},
   "outputs": [],
   "source": [
    "#Dynamically Typed Programming Language"
   ]
  },
  {
   "cell_type": "code",
   "execution_count": null,
   "id": "93e5f2ff",
   "metadata": {},
   "outputs": [],
   "source": [
    "Python 1.0 - 1994 \n",
    "Python 2.0 - 2000\n",
    "Python 3.0 - 2008\n",
    "Python 3.6 - 2016\n",
    "Python 3.8 - 2020\n",
    "Python 3.9 - 2020\n",
    "Python 3.12 - 2023"
   ]
  },
  {
   "cell_type": "code",
   "execution_count": 37,
   "id": "075c0cd5",
   "metadata": {},
   "outputs": [],
   "source": [
    "#Functional Programming - C Programming \n",
    "#Object Oriented Programming Language (OOPs) - C++ Programming\n",
    "#Scripting Language - Perl and Shell Programming \n",
    "#Modular Programming - Modula 3 \n",
    "#Syntax of Python - C programming and ABC Programming "
   ]
  },
  {
   "cell_type": "code",
   "execution_count": 40,
   "id": "dfe3f42a",
   "metadata": {},
   "outputs": [
    {
     "name": "stdout",
     "output_type": "stream",
     "text": [
      "Rahul\n"
     ]
    }
   ],
   "source": [
    "print(a)"
   ]
  },
  {
   "cell_type": "code",
   "execution_count": 41,
   "id": "b0c94ad4",
   "metadata": {},
   "outputs": [],
   "source": [
    "#Desktop Application \n",
    "#Web application - Django, Flask\n",
    "#Database Application \n",
    "#Games \n",
    "#Network Application\n",
    "#Data Analytics \n",
    "#Data Science \n",
    "#Machine Learning\n",
    "#Artificial Intelligence and Deep Learning\n",
    "#Automations \n",
    "#IoT Applications"
   ]
  },
  {
   "cell_type": "code",
   "execution_count": 42,
   "id": "e9cbba62",
   "metadata": {},
   "outputs": [],
   "source": [
    "#Mobile Applications - Cannot be created using Python "
   ]
  },
  {
   "cell_type": "code",
   "execution_count": 43,
   "id": "8c6acfd2",
   "metadata": {},
   "outputs": [],
   "source": [
    "#Easy to learn\n",
    "#Easy to code \n",
    "#Easy to understand"
   ]
  },
  {
   "cell_type": "code",
   "execution_count": null,
   "id": "df8dedf6",
   "metadata": {},
   "outputs": [],
   "source": [
    "Slow programming language "
   ]
  },
  {
   "cell_type": "code",
   "execution_count": null,
   "id": "679a935e",
   "metadata": {},
   "outputs": [],
   "source": [
    "C - Fastest \n",
    "C++\n",
    "Java"
   ]
  },
  {
   "cell_type": "code",
   "execution_count": 44,
   "id": "6faa0996",
   "metadata": {},
   "outputs": [
    {
     "name": "stdout",
     "output_type": "stream",
     "text": [
      "3 5 8 5 9 4\n",
      "1 4 0 3 8 5\n",
      "3 6 4 5 6 5\n",
      "3 0 6 5 0 6\n",
      "0 3 6 9 8 8\n",
      "5 4 5 8 8 5\n",
      "8 1 9 4 8 8\n",
      "7 6 1 9 1 9\n",
      "2 7 9 3 1 3\n",
      "3 3 5 2 4 4\n"
     ]
    }
   ],
   "source": [
    "from random import *\n",
    "for i in range(0,10):\n",
    "    print(randint(0,9),randint(0,9),randint(0,9),randint(0,9),randint(0,9),randint(0,9))"
   ]
  },
  {
   "cell_type": "code",
   "execution_count": 45,
   "id": "889be310",
   "metadata": {},
   "outputs": [],
   "source": [
    "ins_name = 'Rahul'"
   ]
  },
  {
   "cell_type": "code",
   "execution_count": 46,
   "id": "1356252f",
   "metadata": {},
   "outputs": [
    {
     "data": {
      "text/plain": [
       "'Rahul'"
      ]
     },
     "execution_count": 46,
     "metadata": {},
     "output_type": "execute_result"
    }
   ],
   "source": [
    "ins_name"
   ]
  },
  {
   "cell_type": "code",
   "execution_count": 47,
   "id": "3ba01343",
   "metadata": {},
   "outputs": [
    {
     "ename": "SyntaxError",
     "evalue": "cannot assign to expression here. Maybe you meant '==' instead of '='? (1254445799.py, line 1)",
     "output_type": "error",
     "traceback": [
      "\u001b[1;36m  Cell \u001b[1;32mIn[47], line 1\u001b[1;36m\u001b[0m\n\u001b[1;33m    ins%name = 'Rahul'\u001b[0m\n\u001b[1;37m    ^\u001b[0m\n\u001b[1;31mSyntaxError\u001b[0m\u001b[1;31m:\u001b[0m cannot assign to expression here. Maybe you meant '==' instead of '='?\n"
     ]
    }
   ],
   "source": [
    "ins%name = 'Rahul'"
   ]
  },
  {
   "cell_type": "code",
   "execution_count": 59,
   "id": "c83836b4",
   "metadata": {},
   "outputs": [],
   "source": [
    "#_ only underscorce we can use and it can be at any position \n",
    "#Can use alphabets also both capital or small and its case senstive \n",
    "#Numbers - U can use in the middle or at the end but cannot be at the start\n",
    "#Variable name / Identifiers"
   ]
  },
  {
   "cell_type": "code",
   "execution_count": 48,
   "id": "d46fd309",
   "metadata": {},
   "outputs": [],
   "source": [
    "_insname = 'Rahul'"
   ]
  },
  {
   "cell_type": "code",
   "execution_count": 49,
   "id": "9b72996d",
   "metadata": {},
   "outputs": [],
   "source": [
    "insname_ = 'Rahul'"
   ]
  },
  {
   "cell_type": "code",
   "execution_count": 50,
   "id": "f0f18187",
   "metadata": {},
   "outputs": [
    {
     "data": {
      "text/plain": [
       "'Rahul'"
      ]
     },
     "execution_count": 50,
     "metadata": {},
     "output_type": "execute_result"
    }
   ],
   "source": [
    "_insname"
   ]
  },
  {
   "cell_type": "code",
   "execution_count": 51,
   "id": "eb4efbe6",
   "metadata": {},
   "outputs": [
    {
     "data": {
      "text/plain": [
       "'Rahul'"
      ]
     },
     "execution_count": 51,
     "metadata": {},
     "output_type": "execute_result"
    }
   ],
   "source": [
    "insname_"
   ]
  },
  {
   "cell_type": "code",
   "execution_count": 53,
   "id": "8cd9e300",
   "metadata": {},
   "outputs": [],
   "source": [
    "INS_NAME = 'Rohit'"
   ]
  },
  {
   "cell_type": "code",
   "execution_count": 54,
   "id": "eee5a177",
   "metadata": {},
   "outputs": [
    {
     "data": {
      "text/plain": [
       "'Rahul'"
      ]
     },
     "execution_count": 54,
     "metadata": {},
     "output_type": "execute_result"
    }
   ],
   "source": [
    "ins_name"
   ]
  },
  {
   "cell_type": "code",
   "execution_count": 55,
   "id": "d02848cf",
   "metadata": {},
   "outputs": [
    {
     "data": {
      "text/plain": [
       "'Rohit'"
      ]
     },
     "execution_count": 55,
     "metadata": {},
     "output_type": "execute_result"
    }
   ],
   "source": [
    "INS_NAME"
   ]
  },
  {
   "cell_type": "code",
   "execution_count": 57,
   "id": "23d0a84a",
   "metadata": {},
   "outputs": [],
   "source": [
    "ins1_name3 = 'Rahul'"
   ]
  },
  {
   "cell_type": "code",
   "execution_count": 58,
   "id": "e7cec87d",
   "metadata": {},
   "outputs": [
    {
     "data": {
      "text/plain": [
       "'Rahul'"
      ]
     },
     "execution_count": 58,
     "metadata": {},
     "output_type": "execute_result"
    }
   ],
   "source": [
    "ins1_name3"
   ]
  },
  {
   "cell_type": "code",
   "execution_count": 60,
   "id": "2ed82d79",
   "metadata": {},
   "outputs": [
    {
     "ename": "SyntaxError",
     "evalue": "invalid syntax (3458490339.py, line 1)",
     "output_type": "error",
     "traceback": [
      "\u001b[1;36m  Cell \u001b[1;32mIn[60], line 1\u001b[1;36m\u001b[0m\n\u001b[1;33m    for = 'Rahul'\u001b[0m\n\u001b[1;37m        ^\u001b[0m\n\u001b[1;31mSyntaxError\u001b[0m\u001b[1;31m:\u001b[0m invalid syntax\n"
     ]
    }
   ],
   "source": [
    "for = 'Rahul'"
   ]
  },
  {
   "cell_type": "code",
   "execution_count": 61,
   "id": "80752ccc",
   "metadata": {},
   "outputs": [],
   "source": [
    "FOR = 'Rahul'"
   ]
  },
  {
   "cell_type": "code",
   "execution_count": 62,
   "id": "4a1cf428",
   "metadata": {},
   "outputs": [
    {
     "data": {
      "text/plain": [
       "'Rahul'"
      ]
     },
     "execution_count": 62,
     "metadata": {},
     "output_type": "execute_result"
    }
   ],
   "source": [
    "FOR"
   ]
  },
  {
   "cell_type": "code",
   "execution_count": 65,
   "id": "d2784207",
   "metadata": {},
   "outputs": [
    {
     "data": {
      "text/plain": [
       "['False',\n",
       " 'None',\n",
       " 'True',\n",
       " 'and',\n",
       " 'as',\n",
       " 'assert',\n",
       " 'async',\n",
       " 'await',\n",
       " 'break',\n",
       " 'class',\n",
       " 'continue',\n",
       " 'def',\n",
       " 'del',\n",
       " 'elif',\n",
       " 'else',\n",
       " 'except',\n",
       " 'finally',\n",
       " 'for',\n",
       " 'from',\n",
       " 'global',\n",
       " 'if',\n",
       " 'import',\n",
       " 'in',\n",
       " 'is',\n",
       " 'lambda',\n",
       " 'nonlocal',\n",
       " 'not',\n",
       " 'or',\n",
       " 'pass',\n",
       " 'raise',\n",
       " 'return',\n",
       " 'try',\n",
       " 'while',\n",
       " 'with',\n",
       " 'yield']"
      ]
     },
     "execution_count": 65,
     "metadata": {},
     "output_type": "execute_result"
    }
   ],
   "source": [
    "import keyword\n",
    "keyword.kwlist"
   ]
  },
  {
   "cell_type": "code",
   "execution_count": 67,
   "id": "c66fe914",
   "metadata": {},
   "outputs": [],
   "source": [
    "false = 'Rahul'"
   ]
  },
  {
   "cell_type": "code",
   "execution_count": 68,
   "id": "c772a78c",
   "metadata": {},
   "outputs": [
    {
     "data": {
      "text/plain": [
       "'Rahul'"
      ]
     },
     "execution_count": 68,
     "metadata": {},
     "output_type": "execute_result"
    }
   ],
   "source": [
    "false"
   ]
  },
  {
   "cell_type": "code",
   "execution_count": 69,
   "id": "9e41209a",
   "metadata": {},
   "outputs": [],
   "source": [
    "company = 'The Scholar'"
   ]
  },
  {
   "cell_type": "code",
   "execution_count": 70,
   "id": "8d68476e",
   "metadata": {},
   "outputs": [
    {
     "data": {
      "text/plain": [
       "'The Scholar'"
      ]
     },
     "execution_count": 70,
     "metadata": {},
     "output_type": "execute_result"
    }
   ],
   "source": [
    "company"
   ]
  },
  {
   "cell_type": "code",
   "execution_count": 71,
   "id": "7b95d32a",
   "metadata": {},
   "outputs": [
    {
     "data": {
      "text/plain": [
       "11"
      ]
     },
     "execution_count": 71,
     "metadata": {},
     "output_type": "execute_result"
    }
   ],
   "source": [
    "len(company)"
   ]
  },
  {
   "cell_type": "code",
   "execution_count": 72,
   "id": "722270ff",
   "metadata": {},
   "outputs": [
    {
     "data": {
      "text/plain": [
       "'The Scholar'"
      ]
     },
     "execution_count": 72,
     "metadata": {},
     "output_type": "execute_result"
    }
   ],
   "source": [
    "company"
   ]
  },
  {
   "cell_type": "code",
   "execution_count": 78,
   "id": "6e7f8ae2",
   "metadata": {},
   "outputs": [
    {
     "data": {
      "text/plain": [
       "'r'"
      ]
     },
     "execution_count": 78,
     "metadata": {},
     "output_type": "execute_result"
    }
   ],
   "source": [
    "company[10]"
   ]
  },
  {
   "cell_type": "code",
   "execution_count": 79,
   "id": "f0e6626b",
   "metadata": {},
   "outputs": [
    {
     "data": {
      "text/plain": [
       "'Schola'"
      ]
     },
     "execution_count": 79,
     "metadata": {},
     "output_type": "execute_result"
    }
   ],
   "source": [
    "company[4:10]"
   ]
  },
  {
   "cell_type": "code",
   "execution_count": 80,
   "id": "5919b712",
   "metadata": {},
   "outputs": [
    {
     "data": {
      "text/plain": [
       "'Scholar'"
      ]
     },
     "execution_count": 80,
     "metadata": {},
     "output_type": "execute_result"
    }
   ],
   "source": [
    "company[4:11]"
   ]
  },
  {
   "cell_type": "code",
   "execution_count": 81,
   "id": "7abb4043",
   "metadata": {},
   "outputs": [
    {
     "data": {
      "text/plain": [
       "'Scholar'"
      ]
     },
     "execution_count": 81,
     "metadata": {},
     "output_type": "execute_result"
    }
   ],
   "source": [
    "company[4:]"
   ]
  },
  {
   "cell_type": "code",
   "execution_count": 87,
   "id": "235e42e2",
   "metadata": {},
   "outputs": [
    {
     "data": {
      "text/plain": [
       "'Sch'"
      ]
     },
     "execution_count": 87,
     "metadata": {},
     "output_type": "execute_result"
    }
   ],
   "source": [
    "company[4:7]"
   ]
  },
  {
   "cell_type": "code",
   "execution_count": 85,
   "id": "1cbb20da",
   "metadata": {},
   "outputs": [
    {
     "data": {
      "text/plain": [
       "'he Sc'"
      ]
     },
     "execution_count": 85,
     "metadata": {},
     "output_type": "execute_result"
    }
   ],
   "source": [
    "company[1:6:1]"
   ]
  },
  {
   "cell_type": "code",
   "execution_count": 88,
   "id": "66d55e3c",
   "metadata": {},
   "outputs": [
    {
     "data": {
      "text/plain": [
       "'ohcS '"
      ]
     },
     "execution_count": 88,
     "metadata": {},
     "output_type": "execute_result"
    }
   ],
   "source": [
    "company[7:2:-1]"
   ]
  },
  {
   "cell_type": "code",
   "execution_count": 91,
   "id": "ba7c5901",
   "metadata": {},
   "outputs": [
    {
     "data": {
      "text/plain": [
       "'alohcS ehT'"
      ]
     },
     "execution_count": 91,
     "metadata": {},
     "output_type": "execute_result"
    }
   ],
   "source": [
    "company[9::-1]"
   ]
  },
  {
   "cell_type": "code",
   "execution_count": 92,
   "id": "aad0fa45",
   "metadata": {},
   "outputs": [
    {
     "data": {
      "text/plain": [
       "'o'"
      ]
     },
     "execution_count": 92,
     "metadata": {},
     "output_type": "execute_result"
    }
   ],
   "source": [
    "company[7]"
   ]
  },
  {
   "cell_type": "code",
   "execution_count": 93,
   "id": "1341a72c",
   "metadata": {},
   "outputs": [
    {
     "data": {
      "text/plain": [
       "'o'"
      ]
     },
     "execution_count": 93,
     "metadata": {},
     "output_type": "execute_result"
    }
   ],
   "source": [
    "company[-4]"
   ]
  },
  {
   "cell_type": "code",
   "execution_count": 94,
   "id": "bee0f4e4",
   "metadata": {},
   "outputs": [
    {
     "data": {
      "text/plain": [
       "'r'"
      ]
     },
     "execution_count": 94,
     "metadata": {},
     "output_type": "execute_result"
    }
   ],
   "source": [
    "company[-1]"
   ]
  },
  {
   "cell_type": "code",
   "execution_count": 95,
   "id": "7a23beaa",
   "metadata": {},
   "outputs": [
    {
     "data": {
      "text/plain": [
       "'T'"
      ]
     },
     "execution_count": 95,
     "metadata": {},
     "output_type": "execute_result"
    }
   ],
   "source": [
    "company[-11]"
   ]
  },
  {
   "cell_type": "code",
   "execution_count": 96,
   "id": "2bb66ca5",
   "metadata": {},
   "outputs": [
    {
     "data": {
      "text/plain": [
       "'he Scho'"
      ]
     },
     "execution_count": 96,
     "metadata": {},
     "output_type": "execute_result"
    }
   ],
   "source": [
    "company[-10:8]"
   ]
  },
  {
   "cell_type": "code",
   "execution_count": 99,
   "id": "c73360aa",
   "metadata": {},
   "outputs": [
    {
     "data": {
      "text/plain": [
       "'aoc '"
      ]
     },
     "execution_count": 99,
     "metadata": {},
     "output_type": "execute_result"
    }
   ],
   "source": [
    "company[-2:1:-2]"
   ]
  },
  {
   "cell_type": "code",
   "execution_count": 100,
   "id": "3063b8d8",
   "metadata": {},
   "outputs": [
    {
     "data": {
      "text/plain": [
       "'ohc'"
      ]
     },
     "execution_count": 100,
     "metadata": {},
     "output_type": "execute_result"
    }
   ],
   "source": [
    "company[-4:4:-1]"
   ]
  },
  {
   "cell_type": "code",
   "execution_count": 103,
   "id": "146528c0",
   "metadata": {},
   "outputs": [
    {
     "data": {
      "text/plain": [
       "'ohc'"
      ]
     },
     "execution_count": 103,
     "metadata": {},
     "output_type": "execute_result"
    }
   ],
   "source": [
    "company[-4:4:-1]"
   ]
  },
  {
   "cell_type": "code",
   "execution_count": 104,
   "id": "35abe126",
   "metadata": {},
   "outputs": [],
   "source": [
    "#Python Collection , Python Data Structures\n",
    "#Lists/Tuples/Sets and Dictionaries "
   ]
  }
 ],
 "metadata": {
  "kernelspec": {
   "display_name": "Python 3 (ipykernel)",
   "language": "python",
   "name": "python3"
  },
  "language_info": {
   "codemirror_mode": {
    "name": "ipython",
    "version": 3
   },
   "file_extension": ".py",
   "mimetype": "text/x-python",
   "name": "python",
   "nbconvert_exporter": "python",
   "pygments_lexer": "ipython3",
   "version": "3.11.5"
  }
 },
 "nbformat": 4,
 "nbformat_minor": 5
}

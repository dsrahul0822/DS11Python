{
 "cells": [
  {
   "cell_type": "code",
   "execution_count": null,
   "id": "59c77e69",
   "metadata": {},
   "outputs": [],
   "source": [
    "Nested If and Else "
   ]
  },
  {
   "cell_type": "code",
   "execution_count": 11,
   "id": "b4e1bf7d",
   "metadata": {},
   "outputs": [
    {
     "name": "stdout",
     "output_type": "stream",
     "text": [
      "Enter the transaction amount: 5000\n",
      "Enter the transaction type: rahul\n",
      "There is an error, pass the correct value\n"
     ]
    }
   ],
   "source": [
    "transaction_amount = int(input('Enter the transaction amount: '))\n",
    "transaction_type = input('Enter the transaction type: ')\n",
    "transaction_fee=0\n",
    "if transaction_type=='withdrawal':\n",
    "    if transaction_amount>1000:\n",
    "        transaction_fee = 5\n",
    "        total_amount = transaction_amount+transaction_fee\n",
    "        print('Total amount: ', total_amount)\n",
    "    elif transaction_amount<=1000:\n",
    "        transaction_fee = 2\n",
    "        total_amount = transaction_amount+transaction_fee\n",
    "        print('Total amount: ', total_amount)\n",
    "elif transaction_type=='deposit':\n",
    "    transaction_fee = 0\n",
    "    total_amount = transaction_amount+transaction_fee\n",
    "    print('Total amount: ', total_amount)\n",
    "else:\n",
    "    print('There is an error, pass the correct value')"
   ]
  },
  {
   "cell_type": "code",
   "execution_count": null,
   "id": "95a7a62f",
   "metadata": {},
   "outputs": [],
   "source": [
    "For Loops"
   ]
  },
  {
   "cell_type": "code",
   "execution_count": null,
   "id": "c445aa53",
   "metadata": {},
   "outputs": [],
   "source": [
    "When I want to iterate on something Lists, Tuples, Sets, etc "
   ]
  },
  {
   "cell_type": "code",
   "execution_count": 13,
   "id": "656e7b0d",
   "metadata": {},
   "outputs": [
    {
     "name": "stdout",
     "output_type": "stream",
     "text": [
      "R\n",
      "a\n",
      "h\n",
      "u\n",
      "l\n"
     ]
    }
   ],
   "source": [
    "import time\n",
    "name = 'Rahul'\n",
    "for i in name:\n",
    "    print(i)\n",
    "    time.sleep(2)"
   ]
  },
  {
   "cell_type": "code",
   "execution_count": 15,
   "id": "674ba3b7",
   "metadata": {},
   "outputs": [
    {
     "name": "stdout",
     "output_type": "stream",
     "text": [
      "Rahul\n",
      "Pavan\n"
     ]
    }
   ],
   "source": [
    "name = ['Rahul','Pavan']\n",
    "for i in name:\n",
    "    print(i)\n",
    "    time.sleep(2)"
   ]
  },
  {
   "cell_type": "code",
   "execution_count": 20,
   "id": "7a9573a5",
   "metadata": {},
   "outputs": [
    {
     "name": "stdout",
     "output_type": "stream",
     "text": [
      "T\n",
      "h\n",
      "e\n",
      " \n",
      "S\n",
      "c\n",
      "h\n",
      "o\n",
      "l\n",
      "a\n",
      "r\n"
     ]
    }
   ],
   "source": [
    "company = 'The Scholar'\n",
    "for r in company:\n",
    "    print(r)\n",
    "    time.sleep(1)"
   ]
  },
  {
   "cell_type": "code",
   "execution_count": 18,
   "id": "5b3fa568",
   "metadata": {},
   "outputs": [
    {
     "name": "stdout",
     "output_type": "stream",
     "text": [
      "AA\n",
      "BB\n",
      "CC\n",
      "DD\n",
      "EE\n"
     ]
    }
   ],
   "source": [
    "names = ['AA','BB','CC','DD','EE']\n",
    "for  i in names:\n",
    "    print(i)"
   ]
  },
  {
   "cell_type": "code",
   "execution_count": 43,
   "id": "ea436e6b",
   "metadata": {},
   "outputs": [],
   "source": [
    "sales = [4532,2345,3224,2333]\n",
    "profit = [455,344,222,111,544,433,5,44,333,33]"
   ]
  },
  {
   "cell_type": "code",
   "execution_count": 45,
   "id": "8ebc52b6",
   "metadata": {},
   "outputs": [
    {
     "name": "stdout",
     "output_type": "stream",
     "text": [
      "0.10039717563989409\n",
      "0.1466950959488273\n",
      "0.06885856079404466\n",
      "0.04757822546078011\n"
     ]
    },
    {
     "ename": "IndexError",
     "evalue": "list index out of range",
     "output_type": "error",
     "traceback": [
      "\u001b[1;31m---------------------------------------------------------------------------\u001b[0m",
      "\u001b[1;31mIndexError\u001b[0m                                Traceback (most recent call last)",
      "Cell \u001b[1;32mIn[45], line 2\u001b[0m\n\u001b[0;32m      1\u001b[0m \u001b[38;5;28;01mfor\u001b[39;00m i \u001b[38;5;129;01min\u001b[39;00m \u001b[38;5;28mrange\u001b[39m(\u001b[38;5;241m0\u001b[39m,\u001b[38;5;28mlen\u001b[39m(profit)):\n\u001b[1;32m----> 2\u001b[0m     \u001b[38;5;28mprint\u001b[39m(profit[i]\u001b[38;5;241m/\u001b[39msales[i])\n",
      "\u001b[1;31mIndexError\u001b[0m: list index out of range"
     ]
    }
   ],
   "source": [
    "for i in range(0,len(profit)):\n",
    "    print(profit[i]/sales[i])"
   ]
  },
  {
   "cell_type": "code",
   "execution_count": 28,
   "id": "d9d7cad9",
   "metadata": {},
   "outputs": [
    {
     "data": {
      "text/plain": [
       "0.10039717563989409"
      ]
     },
     "execution_count": 28,
     "metadata": {},
     "output_type": "execute_result"
    }
   ],
   "source": [
    "profit[0]/sales[0]"
   ]
  },
  {
   "cell_type": "code",
   "execution_count": 36,
   "id": "d676acc7",
   "metadata": {},
   "outputs": [
    {
     "data": {
      "text/plain": [
       "[0, 1, 2, 3, 4, 5]"
      ]
     },
     "execution_count": 36,
     "metadata": {},
     "output_type": "execute_result"
    }
   ],
   "source": [
    "list(range(0,6))"
   ]
  },
  {
   "cell_type": "code",
   "execution_count": 40,
   "id": "48e512e9",
   "metadata": {},
   "outputs": [
    {
     "data": {
      "text/plain": [
       "[0, 1, 2, 3, 4, 5]"
      ]
     },
     "execution_count": 40,
     "metadata": {},
     "output_type": "execute_result"
    }
   ],
   "source": [
    "list(range(0,len(sales)))"
   ]
  },
  {
   "cell_type": "code",
   "execution_count": 49,
   "id": "a9291c41",
   "metadata": {},
   "outputs": [
    {
     "name": "stdout",
     "output_type": "stream",
     "text": [
      "Transaction History\n",
      "Deposit:  50\n",
      "Withdraw:  20\n",
      "Deposit:  100\n",
      "Withdraw:  30\n",
      "Withdraw:  10\n"
     ]
    }
   ],
   "source": [
    "transaction_history = [50,-20,100,-30,-10]\n",
    "print('Transaction History')\n",
    "for x in transaction_history:\n",
    "    if x>0:\n",
    "        print('Deposit: ',x)\n",
    "    else:\n",
    "        print('Withdraw: ', abs(x))"
   ]
  },
  {
   "cell_type": "code",
   "execution_count": 50,
   "id": "035fa587",
   "metadata": {},
   "outputs": [
    {
     "name": "stdout",
     "output_type": "stream",
     "text": [
      "Total account balance:  16898\n"
     ]
    }
   ],
   "source": [
    "account_balances = [3454,3332,3445,3334,3333]\n",
    "total_balance = 0 \n",
    "for balance in account_balances:\n",
    "    total_balance = total_balance+balance\n",
    "print('Total account balance: ', total_balance)"
   ]
  },
  {
   "cell_type": "code",
   "execution_count": 51,
   "id": "b6f9af5e",
   "metadata": {},
   "outputs": [
    {
     "name": "stdout",
     "output_type": "stream",
     "text": [
      "Updated account balance:  [1050.0, 2100.0, 3150.0, 4200.0, 5250.0, 3150.0]\n"
     ]
    }
   ],
   "source": [
    "account_balances = [1000,2000,3000,4000,5000,3000]\n",
    "interest_rate = 0.05\n",
    "\n",
    "for i in range(len(account_balances)):\n",
    "    interest = account_balances[i]*interest_rate\n",
    "    account_balances[i]+=interest\n",
    "print('Updated account balance: ', account_balances)"
   ]
  },
  {
   "cell_type": "code",
   "execution_count": 59,
   "id": "df516883",
   "metadata": {},
   "outputs": [
    {
     "name": "stdout",
     "output_type": "stream",
     "text": [
      "Which account you need to close: 222222\n",
      "Remaining accounts:  [123456, 789012, 345678, 901234]\n"
     ]
    }
   ],
   "source": [
    "account_numbers = [123456,789012,345678,901234]\n",
    "account_to_close = int(input('Which account you need to close: '))\n",
    "for account in account_numbers:\n",
    "    if account==account_to_close:\n",
    "        print('Closing Account: ', account)\n",
    "        account_numbers.remove(account)\n",
    "#print('Account not found')\n",
    "print('Remaining accounts: ', account_numbers)"
   ]
  },
  {
   "cell_type": "code",
   "execution_count": 60,
   "id": "0cbff66b",
   "metadata": {},
   "outputs": [],
   "source": [
    "account_transactions = [{'date':'2023-07-01', 'type':'Deposit','amount':100},\n",
    "                        {'date':'2023-07-02', 'type':'Withdraw','amount':50},\n",
    "                        {'date':'2023-07-03', 'type':'Deposit','amount':200},\n",
    "                        {'date':'2023-07-04', 'type':'Withdraw','amount':75}]"
   ]
  },
  {
   "cell_type": "code",
   "execution_count": 65,
   "id": "07f8aded",
   "metadata": {},
   "outputs": [
    {
     "name": "stdout",
     "output_type": "stream",
     "text": [
      "Account Statement\n",
      "2023-07-01 - Deposit - 100\n",
      "2023-07-02 - Withdraw - 50\n",
      "2023-07-03 - Deposit - 200\n",
      "2023-07-04 - Withdraw - 75\n"
     ]
    }
   ],
   "source": [
    "print('Account Statement')\n",
    "for transaction in account_transactions:\n",
    "    print(transaction['date'], '-', transaction['type'],'-',transaction['amount'])"
   ]
  },
  {
   "cell_type": "code",
   "execution_count": 66,
   "id": "ccd9b8ac",
   "metadata": {},
   "outputs": [],
   "source": [
    "transaction_date = ['2023-07-01','2023-07-02','2023-07-03','2023-07-04']\n",
    "transaction_type = ['Deposit','Withdraw','Deposit','Withdraw']\n",
    "transaction_amount = [100,50,200,75]"
   ]
  },
  {
   "cell_type": "code",
   "execution_count": 67,
   "id": "bdd597ba",
   "metadata": {},
   "outputs": [
    {
     "name": "stdout",
     "output_type": "stream",
     "text": [
      "2023-07-01 - Deposit - 100\n",
      "2023-07-02 - Withdraw - 50\n",
      "2023-07-03 - Deposit - 200\n",
      "2023-07-04 - Withdraw - 75\n"
     ]
    }
   ],
   "source": [
    "for (td,tt,ta) in zip(transaction_date,transaction_type,transaction_amount):\n",
    "    print(td,'-',tt,'-',ta)"
   ]
  }
 ],
 "metadata": {
  "kernelspec": {
   "display_name": "Python 3 (ipykernel)",
   "language": "python",
   "name": "python3"
  },
  "language_info": {
   "codemirror_mode": {
    "name": "ipython",
    "version": 3
   },
   "file_extension": ".py",
   "mimetype": "text/x-python",
   "name": "python",
   "nbconvert_exporter": "python",
   "pygments_lexer": "ipython3",
   "version": "3.11.5"
  }
 },
 "nbformat": 4,
 "nbformat_minor": 5
}
